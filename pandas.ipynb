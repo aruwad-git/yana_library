{
 "cells": [
  {
   "cell_type": "markdown",
   "id": "ccc24dff-acf1-45e7-9b1b-a96600053b9d",
   "metadata": {},
   "source": [
    "# About."
   ]
  },
  {
   "cell_type": "markdown",
   "id": "d9d534af-e377-48a6-802b-e22da138c2dc",
   "metadata": {},
   "source": [
    "- **History.**\n",
    "  - 2025.03.30, 1st summarization of the document.\n",
    "  - 2025.04.04, revision of 0 ~ 2, export and post as markdown.\n",
    "- **Library.**\n",
    "  - `pandas`, 2.2.3, on Sep 20, 2024.\n",
    "  - https://pandas.pydata.org/docs/"
   ]
  },
  {
   "cell_type": "markdown",
   "id": "dd7c6d49-fd46-4f11-856b-376e2a1f8bad",
   "metadata": {},
   "source": [
    "# 0. Setup."
   ]
  },
  {
   "cell_type": "code",
   "execution_count": 1,
   "id": "b97a78eb-8b17-4aa3-b7ae-15c4955b48b2",
   "metadata": {},
   "outputs": [],
   "source": [
    "import pandas as pd\n",
    "import numpy as np\n",
    "import matplotlib.pyplot as plt"
   ]
  },
  {
   "cell_type": "code",
   "execution_count": 2,
   "id": "4df700e9-03bf-46c8-99ec-6bade3f81f0c",
   "metadata": {},
   "outputs": [
    {
     "data": {
      "text/html": [
       "<style>\n",
       "    table {\n",
       "        float: left;\n",
       "        margin-right: 20px; /* Optional: Adds space between table and other content */\n",
       "    }\n",
       "</style>\n"
      ],
      "text/plain": [
       "<IPython.core.display.HTML object>"
      ]
     },
     "metadata": {},
     "output_type": "display_data"
    }
   ],
   "source": [
    "%%html\n",
    "<style>\n",
    "    table {\n",
    "        float: left;\n",
    "        margin-right: 20px; /* Optional: Adds space between table and other content */\n",
    "    }\n",
    "</style>"
   ]
  },
  {
   "cell_type": "markdown",
   "id": "96a13d47-cff2-4289-bfa3-bcd209f61b0f",
   "metadata": {},
   "source": [
    "# 1. Init."
   ]
  },
  {
   "cell_type": "markdown",
   "id": "67c0210a-4c7a-4dce-b7af-4378b2289f57",
   "metadata": {},
   "source": [
    "## 1.1. by Variable."
   ]
  },
  {
   "cell_type": "code",
   "execution_count": null,
   "id": "62d6fc16-4c5b-4ff2-927e-47866971a8a4",
   "metadata": {},
   "outputs": [],
   "source": [
    "# from dictionary.\n",
    "df = pd.DataFrame({\n",
    "    'A': [1, 4, 7],\n",
    "    'B': [2, 5, 8],\n",
    "    'C': [3, 6, 9]\n",
    "})\n",
    "\n",
    "# from data, columns, and index.\n",
    "data  = [\n",
    "    [1, 2, 3],\n",
    "    [4, 5, 6],\n",
    "    [7, 8, 9]\n",
    "]\n",
    "cols  = ['A', 'B', 'C']\n",
    "index = [1, 2, 3] \n",
    "\n",
    "df = pd.DataFrame(data=data, columns=cols, index=index)"
   ]
  },
  {
   "cell_type": "markdown",
   "id": "1f983f39-5a99-4f02-9570-051813812758",
   "metadata": {},
   "source": [
    "## 1.2. `pd.read_csv()`: Reading a '.csv' file."
   ]
  },
  {
   "cell_type": "markdown",
   "id": "3f4672f6-cde7-4dcb-8bb9-263e475c4b52",
   "metadata": {},
   "source": [
    "#### Signature."
   ]
  },
  {
   "cell_type": "code",
   "execution_count": null,
   "id": "d3a87dcb-d987-4154-9fe9-4fedcb8aa665",
   "metadata": {},
   "outputs": [],
   "source": [
    "df  = pd.read_csv('./data/rainfall/train.csv.zip',                        # file path.\n",
    "                  header          = 0,                                    # header idx.\n",
    "                  names           = ['day', 'rainfall'],                  # col names (if no header provided).\n",
    "                  index_col       = ['id'],                               # idx column.\n",
    "                  usecols         = ['day', 'rainfall'],                  # cols to read.\n",
    "                  dtype           = {'col1': 'int', 'col2': 'float'},     # dtype for each cols.\n",
    "                  engine          = 'c',                                  # `c` for speed, `python` for more flexibility.\n",
    "                  converters      = {'col1': lambda x: x**2},             # custom method.\n",
    "                  true_values     = ['yes', 'true'],                      # values converted to `True`.\n",
    "                  false_values    = ['no', 'false'],                      # values converted to `False`.\n",
    "                  na_values       = ['NaN', 'None'],                      # values converted to `NaN`.\n",
    "                  skiprows        = 2,                                    # lines to skip.\n",
    "                  # skipfooter      = 3,                                  # lines to skip (from end). not supported with iterator, even if False.\n",
    "                  nrows           = 5,                                    # max num of lines to read.\n",
    "                  # verbose         = False,                              # print 'ms' to read. deprecated.\n",
    "                  parse_dates     = ['day'],                              # 'date' col.\n",
    "                  date_format     = '%Y-%m-%d',                           # date format of 'date' col.\n",
    "                  iterator        = False,                                # return iterator, to reduce RAM.\n",
    "                  chunksize       = 2,                                    # num of rows to return when using a `iterator`.\n",
    "                  low_memory      = False,                                # set `True` if pandas incorrectly infers col types.\n",
    "                  memory_map      = True,                                 # directly reads from a disk, use for very large file.\n",
    "                  compression     = 'infer',                              # read compressed csv file.\n",
    "                  doublequote     = True,                                 # if there is \" inside of the field, preserves it.\n",
    "                  quotechar       = \"'\",                                  # char for quote (instead of \").\n",
    "                  encoding        = 'utf-8-sig',                          # encoding type for the file (for UnicodeDecodeError).\n",
    "                  encoding_errors = 'strict',                             # 'strict': invokes err, 'ignore': skip chars, 'replace': with �, 'backslashreplace': with \\xXX.\n",
    "                  # storage_options = {'key': key, 'secret': secret},     # for cloud storage, e.g. AWS S3, GCS, etc.\n",
    "                 )"
   ]
  },
  {
   "cell_type": "markdown",
   "id": "6f0c90e7-7f84-4fb5-b23d-5c5b17fa53be",
   "metadata": {},
   "source": [
    "### 1.2.1. Basic Usage."
   ]
  },
  {
   "cell_type": "code",
   "execution_count": null,
   "id": "1455375a-da25-452f-bafa-38b093f6166d",
   "metadata": {},
   "outputs": [
    {
     "data": {
      "text/html": [
       "<div>\n",
       "<style scoped>\n",
       "    .dataframe tbody tr th:only-of-type {\n",
       "        vertical-align: middle;\n",
       "    }\n",
       "\n",
       "    .dataframe tbody tr th {\n",
       "        vertical-align: top;\n",
       "    }\n",
       "\n",
       "    .dataframe thead th {\n",
       "        text-align: right;\n",
       "    }\n",
       "</style>\n",
       "<table border=\"1\" class=\"dataframe\">\n",
       "  <thead>\n",
       "    <tr style=\"text-align: right;\">\n",
       "      <th></th>\n",
       "      <th>id</th>\n",
       "      <th>day</th>\n",
       "      <th>pressure</th>\n",
       "      <th>maxtemp</th>\n",
       "      <th>temparature</th>\n",
       "      <th>mintemp</th>\n",
       "      <th>dewpoint</th>\n",
       "      <th>humidity</th>\n",
       "      <th>cloud</th>\n",
       "      <th>sunshine</th>\n",
       "      <th>winddirection</th>\n",
       "      <th>windspeed</th>\n",
       "      <th>rainfall</th>\n",
       "    </tr>\n",
       "  </thead>\n",
       "  <tbody>\n",
       "    <tr>\n",
       "      <th>0</th>\n",
       "      <td>0</td>\n",
       "      <td>1</td>\n",
       "      <td>1017.4</td>\n",
       "      <td>21.2</td>\n",
       "      <td>20.6</td>\n",
       "      <td>19.9</td>\n",
       "      <td>19.4</td>\n",
       "      <td>87.0</td>\n",
       "      <td>88.0</td>\n",
       "      <td>1.1</td>\n",
       "      <td>60.0</td>\n",
       "      <td>17.2</td>\n",
       "      <td>1</td>\n",
       "    </tr>\n",
       "    <tr>\n",
       "      <th>1</th>\n",
       "      <td>1</td>\n",
       "      <td>2</td>\n",
       "      <td>1019.5</td>\n",
       "      <td>16.2</td>\n",
       "      <td>16.9</td>\n",
       "      <td>15.8</td>\n",
       "      <td>15.4</td>\n",
       "      <td>95.0</td>\n",
       "      <td>91.0</td>\n",
       "      <td>0.0</td>\n",
       "      <td>50.0</td>\n",
       "      <td>21.9</td>\n",
       "      <td>1</td>\n",
       "    </tr>\n",
       "    <tr>\n",
       "      <th>2</th>\n",
       "      <td>2</td>\n",
       "      <td>3</td>\n",
       "      <td>1024.1</td>\n",
       "      <td>19.4</td>\n",
       "      <td>16.1</td>\n",
       "      <td>14.6</td>\n",
       "      <td>9.3</td>\n",
       "      <td>75.0</td>\n",
       "      <td>47.0</td>\n",
       "      <td>8.3</td>\n",
       "      <td>70.0</td>\n",
       "      <td>18.1</td>\n",
       "      <td>1</td>\n",
       "    </tr>\n",
       "    <tr>\n",
       "      <th>3</th>\n",
       "      <td>3</td>\n",
       "      <td>4</td>\n",
       "      <td>1013.4</td>\n",
       "      <td>18.1</td>\n",
       "      <td>17.8</td>\n",
       "      <td>16.9</td>\n",
       "      <td>16.8</td>\n",
       "      <td>95.0</td>\n",
       "      <td>95.0</td>\n",
       "      <td>0.0</td>\n",
       "      <td>60.0</td>\n",
       "      <td>35.6</td>\n",
       "      <td>1</td>\n",
       "    </tr>\n",
       "    <tr>\n",
       "      <th>4</th>\n",
       "      <td>4</td>\n",
       "      <td>5</td>\n",
       "      <td>1021.8</td>\n",
       "      <td>21.3</td>\n",
       "      <td>18.4</td>\n",
       "      <td>15.2</td>\n",
       "      <td>9.6</td>\n",
       "      <td>52.0</td>\n",
       "      <td>45.0</td>\n",
       "      <td>3.6</td>\n",
       "      <td>40.0</td>\n",
       "      <td>24.8</td>\n",
       "      <td>0</td>\n",
       "    </tr>\n",
       "  </tbody>\n",
       "</table>\n",
       "</div>"
      ],
      "text/plain": [
       "   id  day  pressure  maxtemp  temparature  mintemp  dewpoint  humidity  \\\n",
       "0   0    1    1017.4     21.2         20.6     19.9      19.4      87.0   \n",
       "1   1    2    1019.5     16.2         16.9     15.8      15.4      95.0   \n",
       "2   2    3    1024.1     19.4         16.1     14.6       9.3      75.0   \n",
       "3   3    4    1013.4     18.1         17.8     16.9      16.8      95.0   \n",
       "4   4    5    1021.8     21.3         18.4     15.2       9.6      52.0   \n",
       "\n",
       "   cloud  sunshine  winddirection  windspeed  rainfall  \n",
       "0   88.0       1.1           60.0       17.2         1  \n",
       "1   91.0       0.0           50.0       21.9         1  \n",
       "2   47.0       8.3           70.0       18.1         1  \n",
       "3   95.0       0.0           60.0       35.6         1  \n",
       "4   45.0       3.6           40.0       24.8         0  "
      ]
     },
     "metadata": {},
     "output_type": "display_data"
    },
    {
     "data": {
      "text/html": [
       "<div>\n",
       "<style scoped>\n",
       "    .dataframe tbody tr th:only-of-type {\n",
       "        vertical-align: middle;\n",
       "    }\n",
       "\n",
       "    .dataframe tbody tr th {\n",
       "        vertical-align: top;\n",
       "    }\n",
       "\n",
       "    .dataframe thead th {\n",
       "        text-align: right;\n",
       "    }\n",
       "</style>\n",
       "<table border=\"1\" class=\"dataframe\">\n",
       "  <thead>\n",
       "    <tr style=\"text-align: right;\">\n",
       "      <th></th>\n",
       "      <th>day</th>\n",
       "      <th>pressure</th>\n",
       "      <th>maxtemp</th>\n",
       "      <th>temparature</th>\n",
       "      <th>mintemp</th>\n",
       "      <th>dewpoint</th>\n",
       "      <th>humidity</th>\n",
       "      <th>cloud</th>\n",
       "      <th>sunshine</th>\n",
       "      <th>winddirection</th>\n",
       "      <th>windspeed</th>\n",
       "      <th>rainfall</th>\n",
       "    </tr>\n",
       "  </thead>\n",
       "  <tbody>\n",
       "    <tr>\n",
       "      <th>0</th>\n",
       "      <td>1</td>\n",
       "      <td>1017.4</td>\n",
       "      <td>21.2</td>\n",
       "      <td>20.6</td>\n",
       "      <td>19.9</td>\n",
       "      <td>19.4</td>\n",
       "      <td>87.0</td>\n",
       "      <td>88.0</td>\n",
       "      <td>1.1</td>\n",
       "      <td>60</td>\n",
       "      <td>17.2</td>\n",
       "      <td>1</td>\n",
       "    </tr>\n",
       "    <tr>\n",
       "      <th>1</th>\n",
       "      <td>2</td>\n",
       "      <td>1019.5</td>\n",
       "      <td>16.2</td>\n",
       "      <td>16.9</td>\n",
       "      <td>15.8</td>\n",
       "      <td>15.4</td>\n",
       "      <td>95.0</td>\n",
       "      <td>91.0</td>\n",
       "      <td>0.0</td>\n",
       "      <td>50</td>\n",
       "      <td>21.9</td>\n",
       "      <td>1</td>\n",
       "    </tr>\n",
       "    <tr>\n",
       "      <th>2</th>\n",
       "      <td>3</td>\n",
       "      <td>1024.1</td>\n",
       "      <td>19.4</td>\n",
       "      <td>16.1</td>\n",
       "      <td>14.6</td>\n",
       "      <td>9.3</td>\n",
       "      <td>75.0</td>\n",
       "      <td>47.0</td>\n",
       "      <td>8.3</td>\n",
       "      <td>70</td>\n",
       "      <td>18.1</td>\n",
       "      <td>1</td>\n",
       "    </tr>\n",
       "    <tr>\n",
       "      <th>3</th>\n",
       "      <td>4</td>\n",
       "      <td>1013.4</td>\n",
       "      <td>18.1</td>\n",
       "      <td>17.8</td>\n",
       "      <td>16.9</td>\n",
       "      <td>16.8</td>\n",
       "      <td>95.0</td>\n",
       "      <td>95.0</td>\n",
       "      <td>0.0</td>\n",
       "      <td>60</td>\n",
       "      <td>35.6</td>\n",
       "      <td>1</td>\n",
       "    </tr>\n",
       "    <tr>\n",
       "      <th>4</th>\n",
       "      <td>5</td>\n",
       "      <td>1021.8</td>\n",
       "      <td>21.3</td>\n",
       "      <td>18.4</td>\n",
       "      <td>15.2</td>\n",
       "      <td>9.6</td>\n",
       "      <td>52.0</td>\n",
       "      <td>45.0</td>\n",
       "      <td>3.6</td>\n",
       "      <td>40</td>\n",
       "      <td>24.8</td>\n",
       "      <td>0</td>\n",
       "    </tr>\n",
       "  </tbody>\n",
       "</table>\n",
       "</div>"
      ],
      "text/plain": [
       "  day  pressure  maxtemp  temparature  mintemp  dewpoint  humidity  cloud  \\\n",
       "0   1    1017.4     21.2         20.6     19.9      19.4      87.0   88.0   \n",
       "1   2    1019.5     16.2         16.9     15.8      15.4      95.0   91.0   \n",
       "2   3    1024.1     19.4         16.1     14.6       9.3      75.0   47.0   \n",
       "3   4    1013.4     18.1         17.8     16.9      16.8      95.0   95.0   \n",
       "4   5    1021.8     21.3         18.4     15.2       9.6      52.0   45.0   \n",
       "\n",
       "   sunshine  winddirection  windspeed  rainfall  \n",
       "0       1.1             60       17.2         1  \n",
       "1       0.0             50       21.9         1  \n",
       "2       8.3             70       18.1         1  \n",
       "3       0.0             60       35.6         1  \n",
       "4       3.6             40       24.8         0  "
      ]
     },
     "metadata": {},
     "output_type": "display_data"
    }
   ],
   "source": [
    "# Check the head for parsing.\n",
    "df = pd.read_csv('data/rainfall/train.csv.zip', nrows=5)\n",
    "display(df.head())\n",
    "\n",
    "# Choose `usecols`.\n",
    "usecols = [\n",
    "    'day',                # nth date of the year.\n",
    "    'pressure',           # air pressure.\n",
    "    'maxtemp',            # max temperature at the date.\n",
    "    'temparature',        # temperature at time.\n",
    "    'mintemp',            # min temperature at the date. \n",
    "    'dewpoint',           # temperature that the air needs to be cooled to for 100% relative humidity.\n",
    "    'humidity',           # humidity.\n",
    "    'cloud',              # amount of cloud (?).\n",
    "    'sunshine',           # amount of insolation (?).\n",
    "    'winddirection',      # wind direction in degree (?).\n",
    "    'windspeed',          # wind speed, m/s (?).\n",
    "    'rainfall'            # whether raining or not. Target variable.\n",
    "]\n",
    "\n",
    "# Define simple converters.\n",
    "converters = {\n",
    "    'winddirection': lambda x: int(float(x)),    # int for degree, [0, 360].\n",
    "}\n",
    "\n",
    "# Specify the date column, if any. Note) real 'day' is just integer, [1, 365].\n",
    "parse_dates = ['day']\n",
    "date_format = '%Y-%m-%d %H:%M:%S'\n",
    "\n",
    "# Load.\n",
    "df = pd.read_csv('data/rainfall/train.csv.zip', \n",
    "                 usecols      = usecols, \n",
    "                 converters   = converters,\n",
    "                 parse_dates  = parse_dates,          \n",
    "                 date_format  = date_format)\n",
    "\n",
    "display(df.head())"
   ]
  },
  {
   "cell_type": "markdown",
   "id": "0ce1b156-03df-46eb-a0bc-cb897fa7d565",
   "metadata": {},
   "source": [
    "> Note) `'parse_dates'` will converts into `datetime64`, which needs 16 bytes per value, which could increase memory usage."
   ]
  },
  {
   "cell_type": "markdown",
   "id": "2965c4bd-d692-4210-80ed-a84ce97b36de",
   "metadata": {},
   "source": [
    "### 1.2.2. Large Files."
   ]
  },
  {
   "cell_type": "code",
   "execution_count": null,
   "id": "f6716f85-3243-42cc-a9ac-735efe7f6aac",
   "metadata": {},
   "outputs": [
    {
     "data": {
      "text/html": [
       "<div>\n",
       "<style scoped>\n",
       "    .dataframe tbody tr th:only-of-type {\n",
       "        vertical-align: middle;\n",
       "    }\n",
       "\n",
       "    .dataframe tbody tr th {\n",
       "        vertical-align: top;\n",
       "    }\n",
       "\n",
       "    .dataframe thead th {\n",
       "        text-align: right;\n",
       "    }\n",
       "</style>\n",
       "<table border=\"1\" class=\"dataframe\">\n",
       "  <thead>\n",
       "    <tr style=\"text-align: right;\">\n",
       "      <th></th>\n",
       "      <th>id</th>\n",
       "      <th>day</th>\n",
       "      <th>pressure</th>\n",
       "      <th>maxtemp</th>\n",
       "      <th>temparature</th>\n",
       "      <th>mintemp</th>\n",
       "      <th>dewpoint</th>\n",
       "      <th>humidity</th>\n",
       "      <th>cloud</th>\n",
       "      <th>sunshine</th>\n",
       "      <th>winddirection</th>\n",
       "      <th>windspeed</th>\n",
       "      <th>rainfall</th>\n",
       "    </tr>\n",
       "  </thead>\n",
       "  <tbody>\n",
       "    <tr>\n",
       "      <th>0</th>\n",
       "      <td>0</td>\n",
       "      <td>1</td>\n",
       "      <td>1017.4</td>\n",
       "      <td>21.2</td>\n",
       "      <td>20.6</td>\n",
       "      <td>19.9</td>\n",
       "      <td>19.4</td>\n",
       "      <td>87.0</td>\n",
       "      <td>88.0</td>\n",
       "      <td>1.1</td>\n",
       "      <td>60.0</td>\n",
       "      <td>17.2</td>\n",
       "      <td>1</td>\n",
       "    </tr>\n",
       "    <tr>\n",
       "      <th>1</th>\n",
       "      <td>1</td>\n",
       "      <td>2</td>\n",
       "      <td>1019.5</td>\n",
       "      <td>16.2</td>\n",
       "      <td>16.9</td>\n",
       "      <td>15.8</td>\n",
       "      <td>15.4</td>\n",
       "      <td>95.0</td>\n",
       "      <td>91.0</td>\n",
       "      <td>0.0</td>\n",
       "      <td>50.0</td>\n",
       "      <td>21.9</td>\n",
       "      <td>1</td>\n",
       "    </tr>\n",
       "    <tr>\n",
       "      <th>2</th>\n",
       "      <td>2</td>\n",
       "      <td>3</td>\n",
       "      <td>1024.1</td>\n",
       "      <td>19.4</td>\n",
       "      <td>16.1</td>\n",
       "      <td>14.6</td>\n",
       "      <td>9.3</td>\n",
       "      <td>75.0</td>\n",
       "      <td>47.0</td>\n",
       "      <td>8.3</td>\n",
       "      <td>70.0</td>\n",
       "      <td>18.1</td>\n",
       "      <td>1</td>\n",
       "    </tr>\n",
       "    <tr>\n",
       "      <th>3</th>\n",
       "      <td>3</td>\n",
       "      <td>4</td>\n",
       "      <td>1013.4</td>\n",
       "      <td>18.1</td>\n",
       "      <td>17.8</td>\n",
       "      <td>16.9</td>\n",
       "      <td>16.8</td>\n",
       "      <td>95.0</td>\n",
       "      <td>95.0</td>\n",
       "      <td>0.0</td>\n",
       "      <td>60.0</td>\n",
       "      <td>35.6</td>\n",
       "      <td>1</td>\n",
       "    </tr>\n",
       "    <tr>\n",
       "      <th>4</th>\n",
       "      <td>4</td>\n",
       "      <td>5</td>\n",
       "      <td>1021.8</td>\n",
       "      <td>21.3</td>\n",
       "      <td>18.4</td>\n",
       "      <td>15.2</td>\n",
       "      <td>9.6</td>\n",
       "      <td>52.0</td>\n",
       "      <td>45.0</td>\n",
       "      <td>3.6</td>\n",
       "      <td>40.0</td>\n",
       "      <td>24.8</td>\n",
       "      <td>0</td>\n",
       "    </tr>\n",
       "  </tbody>\n",
       "</table>\n",
       "</div>"
      ],
      "text/plain": [
       "   id  day  pressure  maxtemp  temparature  mintemp  dewpoint  humidity  \\\n",
       "0   0    1    1017.4     21.2         20.6     19.9      19.4      87.0   \n",
       "1   1    2    1019.5     16.2         16.9     15.8      15.4      95.0   \n",
       "2   2    3    1024.1     19.4         16.1     14.6       9.3      75.0   \n",
       "3   3    4    1013.4     18.1         17.8     16.9      16.8      95.0   \n",
       "4   4    5    1021.8     21.3         18.4     15.2       9.6      52.0   \n",
       "\n",
       "   cloud  sunshine  winddirection  windspeed  rainfall  \n",
       "0   88.0       1.1           60.0       17.2         1  \n",
       "1   91.0       0.0           50.0       21.9         1  \n",
       "2   47.0       8.3           70.0       18.1         1  \n",
       "3   95.0       0.0           60.0       35.6         1  \n",
       "4   45.0       3.6           40.0       24.8         0  "
      ]
     },
     "metadata": {},
     "output_type": "display_data"
    }
   ],
   "source": [
    "# Create the df.\n",
    "df = pd.read_csv('data/rainfall/train.csv')     \n",
    "\n",
    "# Write as '.csv.zip' file.\n",
    "df.to_csv('data/rainfall/train.csv.zip',\n",
    "          index         = False,                    # do not write 'Unnamed 0' column.\n",
    "          compression   = 'zip') \n",
    " \n",
    "# Read the '.csv.zip' file. \n",
    "df = pd.read_csv('data/rainfall/train.csv.zip', \n",
    "                 compression  = 'zip',              # compression.\n",
    "                 chunksize    = 5,                  # as an iterator.\n",
    "                 memory_map   = True)               # memory mapping.\n",
    "\n",
    "# Use iterator.\n",
    "for df_chunk in df:\n",
    "    display(df_chunk)\n",
    "    \n",
    "    break"
   ]
  },
  {
   "cell_type": "markdown",
   "id": "3b5f35c2-9372-4b34-9ae9-076c17c86278",
   "metadata": {},
   "source": [
    "> Note) You can't write to the file when a '`memory_map = True`'."
   ]
  },
  {
   "cell_type": "markdown",
   "id": "2c033cf4-e341-4270-a9b7-23106d3798ed",
   "metadata": {},
   "source": [
    "### 1.2.3. Encoding."
   ]
  },
  {
   "cell_type": "code",
   "execution_count": null,
   "id": "d08a5812-e382-44a9-924d-c852576b4c7d",
   "metadata": {},
   "outputs": [],
   "source": [
    "df = pd.read_csv('data/rainfall/train.csv.zip',\n",
    "                 encoding  = 'cp949')               # 'cp949' or 'utf-8-sig' for Korean."
   ]
  },
  {
   "cell_type": "markdown",
   "id": "577519da-05aa-481e-92ab-5d80b582f2a9",
   "metadata": {},
   "source": [
    "## 1.3. `pd.date_range()`: `datetime` values."
   ]
  },
  {
   "cell_type": "code",
   "execution_count": null,
   "id": "227a98a5-3f89-45ec-bad9-9102db20bed4",
   "metadata": {},
   "outputs": [
    {
     "data": {
      "text/html": [
       "<div>\n",
       "<style scoped>\n",
       "    .dataframe tbody tr th:only-of-type {\n",
       "        vertical-align: middle;\n",
       "    }\n",
       "\n",
       "    .dataframe tbody tr th {\n",
       "        vertical-align: top;\n",
       "    }\n",
       "\n",
       "    .dataframe thead th {\n",
       "        text-align: right;\n",
       "    }\n",
       "</style>\n",
       "<table border=\"1\" class=\"dataframe\">\n",
       "  <thead>\n",
       "    <tr style=\"text-align: right;\">\n",
       "      <th></th>\n",
       "      <th>A</th>\n",
       "    </tr>\n",
       "  </thead>\n",
       "  <tbody>\n",
       "    <tr>\n",
       "      <th>2025-01-01 00:00:00</th>\n",
       "      <td>1</td>\n",
       "    </tr>\n",
       "    <tr>\n",
       "      <th>2025-01-01 12:00:00</th>\n",
       "      <td>2</td>\n",
       "    </tr>\n",
       "    <tr>\n",
       "      <th>2025-01-02 00:00:00</th>\n",
       "      <td>3</td>\n",
       "    </tr>\n",
       "  </tbody>\n",
       "</table>\n",
       "</div>"
      ],
      "text/plain": [
       "                     A\n",
       "2025-01-01 00:00:00  1\n",
       "2025-01-01 12:00:00  2\n",
       "2025-01-02 00:00:00  3"
      ]
     },
     "execution_count": 24,
     "metadata": {},
     "output_type": "execute_result"
    }
   ],
   "source": [
    "idx = pd.date_range(start    = '2025-01-01',\n",
    "                    end      = '2025-01-02',\n",
    "                    freq     = '12h')\n",
    "pd.DataFrame(data=[1,2,3], columns=['A'], index=idx)"
   ]
  },
  {
   "cell_type": "markdown",
   "id": "9326781e-69c8-488b-a44f-c54c83131250",
   "metadata": {},
   "source": [
    "## 1.4. Index."
   ]
  },
  {
   "cell_type": "markdown",
   "id": "65be8d67-d969-43a5-82e9-2d64e2873c77",
   "metadata": {},
   "source": [
    "### 1.4.1. `df.setindex()` : Set index using existing column."
   ]
  },
  {
   "cell_type": "code",
   "execution_count": null,
   "id": "6d4a8ba5-bb57-4251-ab79-22c9c8cc357e",
   "metadata": {},
   "outputs": [
    {
     "data": {
      "text/html": [
       "<div>\n",
       "<style scoped>\n",
       "    .dataframe tbody tr th:only-of-type {\n",
       "        vertical-align: middle;\n",
       "    }\n",
       "\n",
       "    .dataframe tbody tr th {\n",
       "        vertical-align: top;\n",
       "    }\n",
       "\n",
       "    .dataframe thead th {\n",
       "        text-align: right;\n",
       "    }\n",
       "</style>\n",
       "<table border=\"1\" class=\"dataframe\">\n",
       "  <thead>\n",
       "    <tr style=\"text-align: right;\">\n",
       "      <th></th>\n",
       "      <th>month</th>\n",
       "      <th>sale</th>\n",
       "    </tr>\n",
       "    <tr>\n",
       "      <th>year</th>\n",
       "      <th></th>\n",
       "      <th></th>\n",
       "    </tr>\n",
       "  </thead>\n",
       "  <tbody>\n",
       "    <tr>\n",
       "      <th>2012</th>\n",
       "      <td>1</td>\n",
       "      <td>55</td>\n",
       "    </tr>\n",
       "    <tr>\n",
       "      <th>2014</th>\n",
       "      <td>4</td>\n",
       "      <td>40</td>\n",
       "    </tr>\n",
       "    <tr>\n",
       "      <th>2013</th>\n",
       "      <td>7</td>\n",
       "      <td>84</td>\n",
       "    </tr>\n",
       "    <tr>\n",
       "      <th>2014</th>\n",
       "      <td>10</td>\n",
       "      <td>31</td>\n",
       "    </tr>\n",
       "  </tbody>\n",
       "</table>\n",
       "</div>"
      ],
      "text/plain": [
       "      month  sale\n",
       "year             \n",
       "2012      1    55\n",
       "2014      4    40\n",
       "2013      7    84\n",
       "2014     10    31"
      ]
     },
     "execution_count": 25,
     "metadata": {},
     "output_type": "execute_result"
    }
   ],
   "source": [
    "df = pd.DataFrame({\n",
    "    'year':  [2012, 2014, 2013, 2014],\n",
    "    'month': [1, 4, 7, 10],\n",
    "    'sale':  [55, 40, 84, 31]}\n",
    ")\n",
    "df.set_index('year')"
   ]
  },
  {
   "cell_type": "markdown",
   "id": "29a42441-a81c-4f9f-931d-88a6eea12c11",
   "metadata": {},
   "source": [
    "### 1.4.2. `df.reindex()` : Reinitialize the index with the new value."
   ]
  },
  {
   "cell_type": "code",
   "execution_count": null,
   "id": "88ecff48-25fe-4963-b18a-14ad6b3eeba7",
   "metadata": {},
   "outputs": [
    {
     "data": {
      "text/html": [
       "<div>\n",
       "<style scoped>\n",
       "    .dataframe tbody tr th:only-of-type {\n",
       "        vertical-align: middle;\n",
       "    }\n",
       "\n",
       "    .dataframe tbody tr th {\n",
       "        vertical-align: top;\n",
       "    }\n",
       "\n",
       "    .dataframe thead th {\n",
       "        text-align: right;\n",
       "    }\n",
       "</style>\n",
       "<table border=\"1\" class=\"dataframe\">\n",
       "  <thead>\n",
       "    <tr style=\"text-align: right;\">\n",
       "      <th></th>\n",
       "      <th>col1</th>\n",
       "    </tr>\n",
       "  </thead>\n",
       "  <tbody>\n",
       "    <tr>\n",
       "      <th>A</th>\n",
       "      <td>1</td>\n",
       "    </tr>\n",
       "    <tr>\n",
       "      <th>B</th>\n",
       "      <td>2</td>\n",
       "    </tr>\n",
       "    <tr>\n",
       "      <th>C</th>\n",
       "      <td>3</td>\n",
       "    </tr>\n",
       "  </tbody>\n",
       "</table>\n",
       "</div>"
      ],
      "text/plain": [
       "   col1\n",
       "A     1\n",
       "B     2\n",
       "C     3"
      ]
     },
     "metadata": {},
     "output_type": "display_data"
    },
    {
     "data": {
      "text/html": [
       "<div>\n",
       "<style scoped>\n",
       "    .dataframe tbody tr th:only-of-type {\n",
       "        vertical-align: middle;\n",
       "    }\n",
       "\n",
       "    .dataframe tbody tr th {\n",
       "        vertical-align: top;\n",
       "    }\n",
       "\n",
       "    .dataframe thead th {\n",
       "        text-align: right;\n",
       "    }\n",
       "</style>\n",
       "<table border=\"1\" class=\"dataframe\">\n",
       "  <thead>\n",
       "    <tr style=\"text-align: right;\">\n",
       "      <th></th>\n",
       "      <th>col1</th>\n",
       "    </tr>\n",
       "  </thead>\n",
       "  <tbody>\n",
       "    <tr>\n",
       "      <th>A</th>\n",
       "      <td>1.0</td>\n",
       "    </tr>\n",
       "    <tr>\n",
       "      <th>B</th>\n",
       "      <td>2.0</td>\n",
       "    </tr>\n",
       "    <tr>\n",
       "      <th>c</th>\n",
       "      <td>NaN</td>\n",
       "    </tr>\n",
       "  </tbody>\n",
       "</table>\n",
       "</div>"
      ],
      "text/plain": [
       "   col1\n",
       "A   1.0\n",
       "B   2.0\n",
       "c   NaN"
      ]
     },
     "metadata": {},
     "output_type": "display_data"
    }
   ],
   "source": [
    "index = ['A', 'B', 'C']\n",
    "df    = pd.DataFrame({'col1': [1, 2, 3]},\n",
    "                     index=index)\n",
    "display(df)\n",
    "\n",
    "new_index = ['A', 'B', 'c']\n",
    "display(df.reindex(new_index))"
   ]
  },
  {
   "cell_type": "markdown",
   "id": "07c81441-3693-475d-b7b6-302a88603b6f",
   "metadata": {},
   "source": [
    "> Note) If there is a new index, e.g. 'c', the value would be `NaN`, and since the `int` type can't represent `NaN`, the entire `col1` column is converted to `float`."
   ]
  },
  {
   "cell_type": "markdown",
   "id": "dc068bc7-d23a-4968-9e79-b8fbee192fbc",
   "metadata": {},
   "source": [
    "### 1.4.3. `df.reset_index()` : Reset index to '0, 1, ...'."
   ]
  },
  {
   "cell_type": "code",
   "execution_count": null,
   "id": "f8a0cd09-3ab5-4684-9442-49048025de80",
   "metadata": {},
   "outputs": [
    {
     "data": {
      "text/html": [
       "<div>\n",
       "<style scoped>\n",
       "    .dataframe tbody tr th:only-of-type {\n",
       "        vertical-align: middle;\n",
       "    }\n",
       "\n",
       "    .dataframe tbody tr th {\n",
       "        vertical-align: top;\n",
       "    }\n",
       "\n",
       "    .dataframe thead th {\n",
       "        text-align: right;\n",
       "    }\n",
       "</style>\n",
       "<table border=\"1\" class=\"dataframe\">\n",
       "  <thead>\n",
       "    <tr style=\"text-align: right;\">\n",
       "      <th></th>\n",
       "      <th>class</th>\n",
       "      <th>max_speed</th>\n",
       "    </tr>\n",
       "  </thead>\n",
       "  <tbody>\n",
       "    <tr>\n",
       "      <th>A</th>\n",
       "      <td>bird</td>\n",
       "      <td>389.0</td>\n",
       "    </tr>\n",
       "    <tr>\n",
       "      <th>B</th>\n",
       "      <td>bird</td>\n",
       "      <td>24.0</td>\n",
       "    </tr>\n",
       "    <tr>\n",
       "      <th>C</th>\n",
       "      <td>mammal</td>\n",
       "      <td>80.5</td>\n",
       "    </tr>\n",
       "    <tr>\n",
       "      <th>D</th>\n",
       "      <td>mammal</td>\n",
       "      <td>NaN</td>\n",
       "    </tr>\n",
       "  </tbody>\n",
       "</table>\n",
       "</div>"
      ],
      "text/plain": [
       "    class  max_speed\n",
       "A    bird      389.0\n",
       "B    bird       24.0\n",
       "C  mammal       80.5\n",
       "D  mammal        NaN"
      ]
     },
     "metadata": {},
     "output_type": "display_data"
    },
    {
     "data": {
      "text/html": [
       "<div>\n",
       "<style scoped>\n",
       "    .dataframe tbody tr th:only-of-type {\n",
       "        vertical-align: middle;\n",
       "    }\n",
       "\n",
       "    .dataframe tbody tr th {\n",
       "        vertical-align: top;\n",
       "    }\n",
       "\n",
       "    .dataframe thead th {\n",
       "        text-align: right;\n",
       "    }\n",
       "</style>\n",
       "<table border=\"1\" class=\"dataframe\">\n",
       "  <thead>\n",
       "    <tr style=\"text-align: right;\">\n",
       "      <th></th>\n",
       "      <th>class</th>\n",
       "      <th>max_speed</th>\n",
       "    </tr>\n",
       "  </thead>\n",
       "  <tbody>\n",
       "    <tr>\n",
       "      <th>0</th>\n",
       "      <td>bird</td>\n",
       "      <td>389.0</td>\n",
       "    </tr>\n",
       "    <tr>\n",
       "      <th>1</th>\n",
       "      <td>bird</td>\n",
       "      <td>24.0</td>\n",
       "    </tr>\n",
       "    <tr>\n",
       "      <th>2</th>\n",
       "      <td>mammal</td>\n",
       "      <td>80.5</td>\n",
       "    </tr>\n",
       "    <tr>\n",
       "      <th>3</th>\n",
       "      <td>mammal</td>\n",
       "      <td>NaN</td>\n",
       "    </tr>\n",
       "  </tbody>\n",
       "</table>\n",
       "</div>"
      ],
      "text/plain": [
       "    class  max_speed\n",
       "0    bird      389.0\n",
       "1    bird       24.0\n",
       "2  mammal       80.5\n",
       "3  mammal        NaN"
      ]
     },
     "metadata": {},
     "output_type": "display_data"
    }
   ],
   "source": [
    "df = pd.DataFrame([('bird', 389.0),\n",
    "                   ('bird', 24.0),\n",
    "                   ('mammal', 80.5),\n",
    "                   ('mammal', np.nan)],\n",
    "                  index=['A', 'B', 'C', 'D'],\n",
    "                  columns=('class', 'max_speed'))\n",
    "display(df)\n",
    "\n",
    "display(df.reset_index(drop=True))     # If `True`, the new column `index` will be created."
   ]
  },
  {
   "cell_type": "markdown",
   "id": "15519fc9-c01c-4b31-b31f-452310e174bc",
   "metadata": {},
   "source": [
    "## 1.4. Rename."
   ]
  },
  {
   "cell_type": "code",
   "execution_count": null,
   "id": "5c7aab7b-2954-4171-a424-32894ad8d22b",
   "metadata": {},
   "outputs": [
    {
     "data": {
      "text/html": [
       "<div>\n",
       "<style scoped>\n",
       "    .dataframe tbody tr th:only-of-type {\n",
       "        vertical-align: middle;\n",
       "    }\n",
       "\n",
       "    .dataframe tbody tr th {\n",
       "        vertical-align: top;\n",
       "    }\n",
       "\n",
       "    .dataframe thead th {\n",
       "        text-align: right;\n",
       "    }\n",
       "</style>\n",
       "<table border=\"1\" class=\"dataframe\">\n",
       "  <thead>\n",
       "    <tr style=\"text-align: right;\">\n",
       "      <th></th>\n",
       "      <th>a</th>\n",
       "      <th>b</th>\n",
       "    </tr>\n",
       "  </thead>\n",
       "  <tbody>\n",
       "    <tr>\n",
       "      <th>x</th>\n",
       "      <td>1</td>\n",
       "      <td>2</td>\n",
       "    </tr>\n",
       "    <tr>\n",
       "      <th>y</th>\n",
       "      <td>3</td>\n",
       "      <td>4</td>\n",
       "    </tr>\n",
       "    <tr>\n",
       "      <th>z</th>\n",
       "      <td>5</td>\n",
       "      <td>6</td>\n",
       "    </tr>\n",
       "  </tbody>\n",
       "</table>\n",
       "</div>"
      ],
      "text/plain": [
       "   a  b\n",
       "x  1  2\n",
       "y  3  4\n",
       "z  5  6"
      ]
     },
     "execution_count": 45,
     "metadata": {},
     "output_type": "execute_result"
    }
   ],
   "source": [
    "df = pd.DataFrame(data     = [[1, 2], [3, 4], [5, 6]],\n",
    "                  columns  = ['A', 'B'],\n",
    "                  index    = [0, 1, 2])\n",
    "\n",
    "df.rename(columns  = {'A': 'a', 'B': 'b'},\n",
    "          index    = {0: 'x', 1: 'y', 2: 'z'})"
   ]
  },
  {
   "cell_type": "markdown",
   "id": "d3062952-1d3f-450c-a995-8e23d4cc5351",
   "metadata": {},
   "source": [
    "# 2. Null Handling."
   ]
  },
  {
   "cell_type": "markdown",
   "id": "db2a82f7-65a7-46e2-b411-f1314152ef93",
   "metadata": {},
   "source": [
    "## 2.1. Check."
   ]
  },
  {
   "cell_type": "code",
   "execution_count": null,
   "id": "a3450f91-6917-4a87-a15d-e62d4f5023d4",
   "metadata": {},
   "outputs": [
    {
     "data": {
      "text/html": [
       "<div>\n",
       "<style scoped>\n",
       "    .dataframe tbody tr th:only-of-type {\n",
       "        vertical-align: middle;\n",
       "    }\n",
       "\n",
       "    .dataframe tbody tr th {\n",
       "        vertical-align: top;\n",
       "    }\n",
       "\n",
       "    .dataframe thead th {\n",
       "        text-align: right;\n",
       "    }\n",
       "</style>\n",
       "<table border=\"1\" class=\"dataframe\">\n",
       "  <thead>\n",
       "    <tr style=\"text-align: right;\">\n",
       "      <th></th>\n",
       "      <th>A</th>\n",
       "      <th>B</th>\n",
       "    </tr>\n",
       "  </thead>\n",
       "  <tbody>\n",
       "    <tr>\n",
       "      <th>0</th>\n",
       "      <td>1.0</td>\n",
       "      <td>3</td>\n",
       "    </tr>\n",
       "    <tr>\n",
       "      <th>1</th>\n",
       "      <td>NaN</td>\n",
       "      <td>4</td>\n",
       "    </tr>\n",
       "  </tbody>\n",
       "</table>\n",
       "</div>"
      ],
      "text/plain": [
       "     A  B\n",
       "0  1.0  3\n",
       "1  NaN  4"
      ]
     },
     "metadata": {},
     "output_type": "display_data"
    },
    {
     "name": "stdout",
     "output_type": "stream",
     "text": [
      "A    1\n",
      "B    0\n",
      "dtype: int64 \n",
      "\n",
      "A    1\n",
      "B    2\n",
      "dtype: int64\n"
     ]
    }
   ],
   "source": [
    "df = pd.DataFrame({\n",
    "    'A': [1, None],\n",
    "    'B': [3, 4]\n",
    "})\n",
    "display(df)\n",
    "\n",
    "print(df.isnull().sum(), '\\n')    # 'True' if null.\n",
    "print(df.notnull().sum())         # 'True' if not null."
   ]
  },
  {
   "cell_type": "markdown",
   "id": "88092ab8-b8cc-4fa5-81f6-929a129e979c",
   "metadata": {},
   "source": [
    "## 2.2. Drop."
   ]
  },
  {
   "cell_type": "code",
   "execution_count": null,
   "id": "cefab378-2997-4d42-aa6c-4ba419afeb03",
   "metadata": {},
   "outputs": [
    {
     "data": {
      "text/html": [
       "<div>\n",
       "<style scoped>\n",
       "    .dataframe tbody tr th:only-of-type {\n",
       "        vertical-align: middle;\n",
       "    }\n",
       "\n",
       "    .dataframe tbody tr th {\n",
       "        vertical-align: top;\n",
       "    }\n",
       "\n",
       "    .dataframe thead th {\n",
       "        text-align: right;\n",
       "    }\n",
       "</style>\n",
       "<table border=\"1\" class=\"dataframe\">\n",
       "  <thead>\n",
       "    <tr style=\"text-align: right;\">\n",
       "      <th></th>\n",
       "      <th>A</th>\n",
       "      <th>B</th>\n",
       "    </tr>\n",
       "  </thead>\n",
       "  <tbody>\n",
       "    <tr>\n",
       "      <th>0</th>\n",
       "      <td>1.0</td>\n",
       "      <td>3</td>\n",
       "    </tr>\n",
       "  </tbody>\n",
       "</table>\n",
       "</div>"
      ],
      "text/plain": [
       "     A  B\n",
       "0  1.0  3"
      ]
     },
     "execution_count": 47,
     "metadata": {},
     "output_type": "execute_result"
    }
   ],
   "source": [
    "df.dropna()                    # drop rows with any null.\n",
    "df.dropna(axis = 1)            # drop cols with any null.\n",
    "df.dropna(subset=['A'])        # drop rows with specified columns."
   ]
  },
  {
   "cell_type": "markdown",
   "id": "61190b88-ec10-4d7c-a99f-ccb81de6201d",
   "metadata": {},
   "source": [
    "## 2.3. Impute."
   ]
  },
  {
   "cell_type": "code",
   "execution_count": null,
   "id": "b5ca51d0-3bee-4de6-b572-e30884caf540",
   "metadata": {},
   "outputs": [
    {
     "data": {
      "text/html": [
       "<div>\n",
       "<style scoped>\n",
       "    .dataframe tbody tr th:only-of-type {\n",
       "        vertical-align: middle;\n",
       "    }\n",
       "\n",
       "    .dataframe tbody tr th {\n",
       "        vertical-align: top;\n",
       "    }\n",
       "\n",
       "    .dataframe thead th {\n",
       "        text-align: right;\n",
       "    }\n",
       "</style>\n",
       "<table border=\"1\" class=\"dataframe\">\n",
       "  <thead>\n",
       "    <tr style=\"text-align: right;\">\n",
       "      <th></th>\n",
       "      <th>A</th>\n",
       "      <th>B</th>\n",
       "    </tr>\n",
       "  </thead>\n",
       "  <tbody>\n",
       "    <tr>\n",
       "      <th>0</th>\n",
       "      <td>1.0</td>\n",
       "      <td>3</td>\n",
       "    </tr>\n",
       "    <tr>\n",
       "      <th>1</th>\n",
       "      <td>0.0</td>\n",
       "      <td>4</td>\n",
       "    </tr>\n",
       "  </tbody>\n",
       "</table>\n",
       "</div>"
      ],
      "text/plain": [
       "     A  B\n",
       "0  1.0  3\n",
       "1  0.0  4"
      ]
     },
     "metadata": {},
     "output_type": "display_data"
    },
    {
     "data": {
      "text/html": [
       "<div>\n",
       "<style scoped>\n",
       "    .dataframe tbody tr th:only-of-type {\n",
       "        vertical-align: middle;\n",
       "    }\n",
       "\n",
       "    .dataframe tbody tr th {\n",
       "        vertical-align: top;\n",
       "    }\n",
       "\n",
       "    .dataframe thead th {\n",
       "        text-align: right;\n",
       "    }\n",
       "</style>\n",
       "<table border=\"1\" class=\"dataframe\">\n",
       "  <thead>\n",
       "    <tr style=\"text-align: right;\">\n",
       "      <th></th>\n",
       "      <th>A</th>\n",
       "      <th>B</th>\n",
       "    </tr>\n",
       "  </thead>\n",
       "  <tbody>\n",
       "    <tr>\n",
       "      <th>0</th>\n",
       "      <td>1.0</td>\n",
       "      <td>3</td>\n",
       "    </tr>\n",
       "    <tr>\n",
       "      <th>1</th>\n",
       "      <td>a</td>\n",
       "      <td>4</td>\n",
       "    </tr>\n",
       "  </tbody>\n",
       "</table>\n",
       "</div>"
      ],
      "text/plain": [
       "     A  B\n",
       "0  1.0  3\n",
       "1    a  4"
      ]
     },
     "metadata": {},
     "output_type": "display_data"
    },
    {
     "data": {
      "text/html": [
       "<div>\n",
       "<style scoped>\n",
       "    .dataframe tbody tr th:only-of-type {\n",
       "        vertical-align: middle;\n",
       "    }\n",
       "\n",
       "    .dataframe tbody tr th {\n",
       "        vertical-align: top;\n",
       "    }\n",
       "\n",
       "    .dataframe thead th {\n",
       "        text-align: right;\n",
       "    }\n",
       "</style>\n",
       "<table border=\"1\" class=\"dataframe\">\n",
       "  <thead>\n",
       "    <tr style=\"text-align: right;\">\n",
       "      <th></th>\n",
       "      <th>A</th>\n",
       "      <th>B</th>\n",
       "    </tr>\n",
       "  </thead>\n",
       "  <tbody>\n",
       "    <tr>\n",
       "      <th>0</th>\n",
       "      <td>1.0</td>\n",
       "      <td>3</td>\n",
       "    </tr>\n",
       "    <tr>\n",
       "      <th>1</th>\n",
       "      <td>1.0</td>\n",
       "      <td>4</td>\n",
       "    </tr>\n",
       "  </tbody>\n",
       "</table>\n",
       "</div>"
      ],
      "text/plain": [
       "     A  B\n",
       "0  1.0  3\n",
       "1  1.0  4"
      ]
     },
     "metadata": {},
     "output_type": "display_data"
    },
    {
     "data": {
      "text/html": [
       "<div>\n",
       "<style scoped>\n",
       "    .dataframe tbody tr th:only-of-type {\n",
       "        vertical-align: middle;\n",
       "    }\n",
       "\n",
       "    .dataframe tbody tr th {\n",
       "        vertical-align: top;\n",
       "    }\n",
       "\n",
       "    .dataframe thead th {\n",
       "        text-align: right;\n",
       "    }\n",
       "</style>\n",
       "<table border=\"1\" class=\"dataframe\">\n",
       "  <thead>\n",
       "    <tr style=\"text-align: right;\">\n",
       "      <th></th>\n",
       "      <th>A</th>\n",
       "      <th>B</th>\n",
       "    </tr>\n",
       "  </thead>\n",
       "  <tbody>\n",
       "    <tr>\n",
       "      <th>0</th>\n",
       "      <td>1.0</td>\n",
       "      <td>3</td>\n",
       "    </tr>\n",
       "    <tr>\n",
       "      <th>1</th>\n",
       "      <td>NaN</td>\n",
       "      <td>4</td>\n",
       "    </tr>\n",
       "  </tbody>\n",
       "</table>\n",
       "</div>"
      ],
      "text/plain": [
       "     A  B\n",
       "0  1.0  3\n",
       "1  NaN  4"
      ]
     },
     "metadata": {},
     "output_type": "display_data"
    }
   ],
   "source": [
    "# fill with the single value.\n",
    "display(df.fillna(0))                   \n",
    "\n",
    "# fill with the value for each col.\n",
    "impute_val = {               \n",
    "    'A': 'a',\n",
    "}\n",
    "display(df.fillna(impute_val))\n",
    "\n",
    "# fill with the prev/next.\n",
    "display(df.ffill())         # prev.\n",
    "display(df.bfill())         # next."
   ]
  },
  {
   "cell_type": "markdown",
   "id": "94299865-5ef9-4fac-ac9d-0363bcb5f569",
   "metadata": {},
   "source": [
    "## 2.4. Interpolate."
   ]
  },
  {
   "cell_type": "code",
   "execution_count": null,
   "id": "b38e1f8e-54d6-4396-900b-f6a02fc3c05c",
   "metadata": {
    "scrolled": true
   },
   "outputs": [
    {
     "data": {
      "text/html": [
       "<div>\n",
       "<style scoped>\n",
       "    .dataframe tbody tr th:only-of-type {\n",
       "        vertical-align: middle;\n",
       "    }\n",
       "\n",
       "    .dataframe tbody tr th {\n",
       "        vertical-align: top;\n",
       "    }\n",
       "\n",
       "    .dataframe thead th {\n",
       "        text-align: right;\n",
       "    }\n",
       "</style>\n",
       "<table border=\"1\" class=\"dataframe\">\n",
       "  <thead>\n",
       "    <tr style=\"text-align: right;\">\n",
       "      <th></th>\n",
       "      <th>A</th>\n",
       "      <th>B</th>\n",
       "    </tr>\n",
       "  </thead>\n",
       "  <tbody>\n",
       "    <tr>\n",
       "      <th>0</th>\n",
       "      <td>1.0</td>\n",
       "      <td>3</td>\n",
       "    </tr>\n",
       "    <tr>\n",
       "      <th>1</th>\n",
       "      <td>1.0</td>\n",
       "      <td>4</td>\n",
       "    </tr>\n",
       "  </tbody>\n",
       "</table>\n",
       "</div>"
      ],
      "text/plain": [
       "     A  B\n",
       "0  1.0  3\n",
       "1  1.0  4"
      ]
     },
     "execution_count": 66,
     "metadata": {},
     "output_type": "execute_result"
    }
   ],
   "source": [
    "df.interpolate(method='linear', limit=2)   # impute 2 consecutive nulls at most."
   ]
  },
  {
   "cell_type": "markdown",
   "id": "4b35917b-a678-456e-918a-99540caa5c31",
   "metadata": {},
   "source": [
    "### c.f. Interpolation Methods.\n",
    "\n",
    "| Method        | Formula                                                                 |\n",
    "|---------------|-------------------------------------------------------------------------|\n",
    "| **'linear'**   | $y = y_1 + \\frac{(y_2 - y_1)}{(x_2 - x_1)} \\times (x - x_1)$             |\n",
    "| **'polynomial' (order=n)** | $y = a_0 + a_1 x + a_2 x^2 + \\dots + a_n x^n$                |\n",
    "| **'spline'**     | $S_i(x) = a_i + b_i(x - x_i) + c_i(x - x_i)^2 + d_i(x - x_i)^3$ |\n",
    "| **'time'**     | $y = y_1 + \\frac{(y_2 - y_1)}{(t_2 - t_1)} \\times (t - t_1)$             |\n",
    "| **'pad'**      | $y = y_{\\text{previous known}}$                                         |\n",
    "| **'bfill'**    | $y = y_{\\text{next known}}$                                             |\n",
    "| **'nearest'**  | $y = y_{\\text{closest known}}$                                          |\n",
    "| **'quadratic'**| $y = a x^2 + b x + c$                                                   |\n",
    "| **'cubic'**    | $y = a x^3 + b x^2 + c x + d$                                           |\n"
   ]
  },
  {
   "cell_type": "markdown",
   "id": "0d7ce8b1-e4b7-48d2-b332-c1bbbc5dd876",
   "metadata": {},
   "source": [
    "# 3. Indexing."
   ]
  },
  {
   "cell_type": "markdown",
   "id": "b3435f65-f3ae-4215-8fdb-e66a51082243",
   "metadata": {},
   "source": [
    "## 3.1. About `df`."
   ]
  },
  {
   "cell_type": "markdown",
   "id": "a6d64f4f-8d22-4f4f-90b1-3842b8bcb6b2",
   "metadata": {},
   "source": [
    "### 3.1.1. General."
   ]
  },
  {
   "cell_type": "code",
   "execution_count": null,
   "id": "0e2e023b-3eae-41cc-8520-9511b5360ab4",
   "metadata": {},
   "outputs": [
    {
     "name": "stdout",
     "output_type": "stream",
     "text": [
      "<class 'pandas.core.frame.DataFrame'>\n",
      "RangeIndex: 2 entries, 0 to 1\n",
      "Data columns (total 2 columns):\n",
      " #   Column  Non-Null Count  Dtype  \n",
      "---  ------  --------------  -----  \n",
      " 0   A       1 non-null      float64\n",
      " 1   B       2 non-null      int64  \n",
      "dtypes: float64(1), int64(1)\n",
      "memory usage: 160.0 bytes\n"
     ]
    }
   ],
   "source": [
    "df.columns        # Column names.\n",
    "df.index          # Index series.\n",
    "df.to_numpy()     # Values (without columns). NOTE) DO NOT USE df.values.\n",
    "\n",
    "df.dtypes         # Data types.\n",
    "df.size           # Size (m * n).\n",
    "df.shape          # Shape (m, n).\n",
    "\n",
    "df.memory_usage(deep=True)     # Memory usage of each col, in bytes. 'deep=False' => count pointers, 'deep=True' => real values.\n",
    "\n",
    "df.info(max_cols=10)           # if n_cols > 10, don't print each col."
   ]
  },
  {
   "cell_type": "markdown",
   "id": "4353e5ca-41ce-4777-a252-7efcc1832fd9",
   "metadata": {},
   "source": [
    "### 3.1.2. Statistics."
   ]
  },
  {
   "cell_type": "code",
   "execution_count": null,
   "id": "76537dd9-7661-4fa2-ae86-2b4de567d7a8",
   "metadata": {},
   "outputs": [
    {
     "name": "stdout",
     "output_type": "stream",
     "text": [
      "          A         B         C\n",
      "0  0.656685  0.652786  0.187218\n",
      "1  0.643924  0.342665  0.238570\n",
      "2  0.934949  0.598127  0.955672\n",
      "3  0.148692  0.760763  0.818679\n",
      "4  0.279700  0.153102  0.063324 \n",
      "\n"
     ]
    }
   ],
   "source": [
    "df = pd.DataFrame(np.random.rand(5, 3), columns=['A', 'B', 'C'])\n",
    "print(df, '\\n')"
   ]
  },
  {
   "cell_type": "markdown",
   "id": "7c7491ce-52e3-4048-b67b-8750ca95b359",
   "metadata": {},
   "source": [
    "#### `df.count(axis=0)` : Count non-null values. "
   ]
  },
  {
   "cell_type": "code",
   "execution_count": null,
   "id": "25ce14b2-143c-43f5-bee6-71beafcab471",
   "metadata": {},
   "outputs": [
    {
     "data": {
      "text/plain": [
       "A    5\n",
       "B    5\n",
       "C    5\n",
       "dtype: int64"
      ]
     },
     "execution_count": 125,
     "metadata": {},
     "output_type": "execute_result"
    }
   ],
   "source": [
    "df.count(axis=0)"
   ]
  },
  {
   "cell_type": "markdown",
   "id": "e8f69fdd-ad21-4120-afb8-f05fb9f1dc7d",
   "metadata": {},
   "source": [
    "#### `df.diff()` : First discrete difference of element."
   ]
  },
  {
   "cell_type": "code",
   "execution_count": null,
   "id": "fe35914e-9c95-4922-a302-db33f67093e2",
   "metadata": {},
   "outputs": [
    {
     "data": {
      "text/html": [
       "<div>\n",
       "<style scoped>\n",
       "    .dataframe tbody tr th:only-of-type {\n",
       "        vertical-align: middle;\n",
       "    }\n",
       "\n",
       "    .dataframe tbody tr th {\n",
       "        vertical-align: top;\n",
       "    }\n",
       "\n",
       "    .dataframe thead th {\n",
       "        text-align: right;\n",
       "    }\n",
       "</style>\n",
       "<table border=\"1\" class=\"dataframe\">\n",
       "  <thead>\n",
       "    <tr style=\"text-align: right;\">\n",
       "      <th></th>\n",
       "      <th>A</th>\n",
       "      <th>B</th>\n",
       "      <th>C</th>\n",
       "    </tr>\n",
       "  </thead>\n",
       "  <tbody>\n",
       "    <tr>\n",
       "      <th>0</th>\n",
       "      <td>NaN</td>\n",
       "      <td>NaN</td>\n",
       "      <td>NaN</td>\n",
       "    </tr>\n",
       "    <tr>\n",
       "      <th>1</th>\n",
       "      <td>-0.012761</td>\n",
       "      <td>-0.310121</td>\n",
       "      <td>0.051352</td>\n",
       "    </tr>\n",
       "    <tr>\n",
       "      <th>2</th>\n",
       "      <td>0.291025</td>\n",
       "      <td>0.255463</td>\n",
       "      <td>0.717102</td>\n",
       "    </tr>\n",
       "    <tr>\n",
       "      <th>3</th>\n",
       "      <td>-0.786257</td>\n",
       "      <td>0.162636</td>\n",
       "      <td>-0.136993</td>\n",
       "    </tr>\n",
       "    <tr>\n",
       "      <th>4</th>\n",
       "      <td>0.131008</td>\n",
       "      <td>-0.607662</td>\n",
       "      <td>-0.755355</td>\n",
       "    </tr>\n",
       "  </tbody>\n",
       "</table>\n",
       "</div>"
      ],
      "text/plain": [
       "          A         B         C\n",
       "0       NaN       NaN       NaN\n",
       "1 -0.012761 -0.310121  0.051352\n",
       "2  0.291025  0.255463  0.717102\n",
       "3 -0.786257  0.162636 -0.136993\n",
       "4  0.131008 -0.607662 -0.755355"
      ]
     },
     "execution_count": 126,
     "metadata": {},
     "output_type": "execute_result"
    }
   ],
   "source": [
    "df.diff(periods  = 1,    # 'periods': shift for calculating difference. Could be negative.\n",
    "        axis     = 0)    # 'axis': 0 = each column, 1 = each row."
   ]
  },
  {
   "cell_type": "markdown",
   "id": "2469dff8-210a-425e-a373-564671bd16ff",
   "metadata": {},
   "source": [
    "#### `df.pct_change()` : % diff between the current and prev row."
   ]
  },
  {
   "cell_type": "code",
   "execution_count": null,
   "id": "616bcb98",
   "metadata": {},
   "outputs": [
    {
     "data": {
      "text/html": [
       "<div>\n",
       "<style scoped>\n",
       "    .dataframe tbody tr th:only-of-type {\n",
       "        vertical-align: middle;\n",
       "    }\n",
       "\n",
       "    .dataframe tbody tr th {\n",
       "        vertical-align: top;\n",
       "    }\n",
       "\n",
       "    .dataframe thead th {\n",
       "        text-align: right;\n",
       "    }\n",
       "</style>\n",
       "<table border=\"1\" class=\"dataframe\">\n",
       "  <thead>\n",
       "    <tr style=\"text-align: right;\">\n",
       "      <th></th>\n",
       "      <th>A</th>\n",
       "      <th>B</th>\n",
       "      <th>C</th>\n",
       "    </tr>\n",
       "  </thead>\n",
       "  <tbody>\n",
       "    <tr>\n",
       "      <th>0</th>\n",
       "      <td>NaN</td>\n",
       "      <td>NaN</td>\n",
       "      <td>NaN</td>\n",
       "    </tr>\n",
       "    <tr>\n",
       "      <th>1</th>\n",
       "      <td>NaN</td>\n",
       "      <td>NaN</td>\n",
       "      <td>NaN</td>\n",
       "    </tr>\n",
       "    <tr>\n",
       "      <th>2</th>\n",
       "      <td>0.423741</td>\n",
       "      <td>-0.083731</td>\n",
       "      <td>4.104586</td>\n",
       "    </tr>\n",
       "    <tr>\n",
       "      <th>3</th>\n",
       "      <td>-0.769084</td>\n",
       "      <td>1.220139</td>\n",
       "      <td>2.431603</td>\n",
       "    </tr>\n",
       "    <tr>\n",
       "      <th>4</th>\n",
       "      <td>-0.700839</td>\n",
       "      <td>-0.744032</td>\n",
       "      <td>-0.933739</td>\n",
       "    </tr>\n",
       "  </tbody>\n",
       "</table>\n",
       "</div>"
      ],
      "text/plain": [
       "          A         B         C\n",
       "0       NaN       NaN       NaN\n",
       "1       NaN       NaN       NaN\n",
       "2  0.423741 -0.083731  4.104586\n",
       "3 -0.769084  1.220139  2.431603\n",
       "4 -0.700839 -0.744032 -0.933739"
      ]
     },
     "metadata": {},
     "output_type": "display_data"
    }
   ],
   "source": [
    "df.pct_change(periods=2)"
   ]
  },
  {
   "cell_type": "markdown",
   "id": "50de7a0b-c06b-43a1-8773-8803b41cc993",
   "metadata": {},
   "source": [
    "#### `df.kurt()` : Kurtosis of each column or row.\n",
    "- $ \\text{kurtosis} = \\frac{1}{n} \\sum \\left( \\frac{x_i - \\bar{x}}{s} \\right)^4 - 3 $\n",
    "  - $s$ = standard deviation.\n",
    "  - Higher $\\text{Kurtosis}$ = heavier tails, i.e. more outliers.\n",
    "  - $ \\text{Kurtosis} = 0 $ → Normal distribution  \n",
    "  - $ \\text{Kurtosis} > 0 $ → **Leptokurtic**: heavy tails, sharp peak  \n",
    "  - $ \\text{Kurtosis} < 0 $ → **Platykurtic**: light tails, flat peak\n"
   ]
  },
  {
   "cell_type": "code",
   "execution_count": null,
   "id": "a4b219a2-33cc-4c0a-844c-9a4b0e4b057b",
   "metadata": {},
   "outputs": [
    {
     "data": {
      "text/plain": [
       "A   -1.481508\n",
       "B   -1.228441\n",
       "C   -2.776806\n",
       "dtype: float64"
      ]
     },
     "execution_count": 127,
     "metadata": {},
     "output_type": "execute_result"
    }
   ],
   "source": [
    "df.kurt(axis=0)          # 'axis': 0 = each column, 1 = each row."
   ]
  },
  {
   "cell_type": "markdown",
   "id": "f7ab5d41-0127-4f88-beb2-3c33a118530f",
   "metadata": {},
   "source": [
    "#### `df.mode()` : Most frequent value of each column or row."
   ]
  },
  {
   "cell_type": "code",
   "execution_count": null,
   "id": "87ac18cf-ea30-499e-bbf8-b92e79b2d86c",
   "metadata": {},
   "outputs": [
    {
     "data": {
      "text/html": [
       "<div>\n",
       "<style scoped>\n",
       "    .dataframe tbody tr th:only-of-type {\n",
       "        vertical-align: middle;\n",
       "    }\n",
       "\n",
       "    .dataframe tbody tr th {\n",
       "        vertical-align: top;\n",
       "    }\n",
       "\n",
       "    .dataframe thead th {\n",
       "        text-align: right;\n",
       "    }\n",
       "</style>\n",
       "<table border=\"1\" class=\"dataframe\">\n",
       "  <thead>\n",
       "    <tr style=\"text-align: right;\">\n",
       "      <th></th>\n",
       "      <th>A</th>\n",
       "      <th>B</th>\n",
       "      <th>C</th>\n",
       "    </tr>\n",
       "  </thead>\n",
       "  <tbody>\n",
       "    <tr>\n",
       "      <th>0</th>\n",
       "      <td>0.148692</td>\n",
       "      <td>0.153102</td>\n",
       "      <td>0.063324</td>\n",
       "    </tr>\n",
       "    <tr>\n",
       "      <th>1</th>\n",
       "      <td>0.279700</td>\n",
       "      <td>0.342665</td>\n",
       "      <td>0.187218</td>\n",
       "    </tr>\n",
       "    <tr>\n",
       "      <th>2</th>\n",
       "      <td>0.643924</td>\n",
       "      <td>0.598127</td>\n",
       "      <td>0.238570</td>\n",
       "    </tr>\n",
       "    <tr>\n",
       "      <th>3</th>\n",
       "      <td>0.656685</td>\n",
       "      <td>0.652786</td>\n",
       "      <td>0.818679</td>\n",
       "    </tr>\n",
       "    <tr>\n",
       "      <th>4</th>\n",
       "      <td>0.934949</td>\n",
       "      <td>0.760763</td>\n",
       "      <td>0.955672</td>\n",
       "    </tr>\n",
       "  </tbody>\n",
       "</table>\n",
       "</div>"
      ],
      "text/plain": [
       "          A         B         C\n",
       "0  0.148692  0.153102  0.063324\n",
       "1  0.279700  0.342665  0.187218\n",
       "2  0.643924  0.598127  0.238570\n",
       "3  0.656685  0.652786  0.818679\n",
       "4  0.934949  0.760763  0.955672"
      ]
     },
     "execution_count": 128,
     "metadata": {},
     "output_type": "execute_result"
    }
   ],
   "source": [
    "df.mode(axis           = 0,       # 'axis': 0 = each column, 1 = each row.\n",
    "        numeric_only   = True,\n",
    "        dropna         = True)"
   ]
  },
  {
   "cell_type": "markdown",
   "id": "816a0f73-2ab2-415f-be0c-a807d3d9190f",
   "metadata": {},
   "source": [
    "#### `df.quantile()` : Quantiles.\n",
    "\n",
    "- `interpolation`: {'linear', 'lower', 'higher', 'midpoint', 'nearest'}\n",
    "  - **linear**: $i + (j - i) \\times \\text{fraction}$, where *fraction* is the fractional part of the index between $i$ and $j$.\n",
    "  - **lower**: $i$\n",
    "  - **higher**: $j$\n",
    "  - **nearest**: $i$ or $j$, whichever is nearest\n",
    "  - **midpoint**: $(i + j) / 2$\n"
   ]
  },
  {
   "cell_type": "code",
   "execution_count": null,
   "id": "8449edad-897b-48bb-9a2f-d1b4543490fb",
   "metadata": {},
   "outputs": [
    {
     "data": {
      "text/html": [
       "<div>\n",
       "<style scoped>\n",
       "    .dataframe tbody tr th:only-of-type {\n",
       "        vertical-align: middle;\n",
       "    }\n",
       "\n",
       "    .dataframe tbody tr th {\n",
       "        vertical-align: top;\n",
       "    }\n",
       "\n",
       "    .dataframe thead th {\n",
       "        text-align: right;\n",
       "    }\n",
       "</style>\n",
       "<table border=\"1\" class=\"dataframe\">\n",
       "  <thead>\n",
       "    <tr style=\"text-align: right;\">\n",
       "      <th></th>\n",
       "      <th>A</th>\n",
       "      <th>B</th>\n",
       "      <th>C</th>\n",
       "    </tr>\n",
       "  </thead>\n",
       "  <tbody>\n",
       "    <tr>\n",
       "      <th>0.00</th>\n",
       "      <td>0.148692</td>\n",
       "      <td>0.153102</td>\n",
       "      <td>0.063324</td>\n",
       "    </tr>\n",
       "    <tr>\n",
       "      <th>0.25</th>\n",
       "      <td>0.279700</td>\n",
       "      <td>0.342665</td>\n",
       "      <td>0.187218</td>\n",
       "    </tr>\n",
       "    <tr>\n",
       "      <th>0.50</th>\n",
       "      <td>0.643924</td>\n",
       "      <td>0.598127</td>\n",
       "      <td>0.238570</td>\n",
       "    </tr>\n",
       "    <tr>\n",
       "      <th>0.75</th>\n",
       "      <td>0.656685</td>\n",
       "      <td>0.652786</td>\n",
       "      <td>0.818679</td>\n",
       "    </tr>\n",
       "    <tr>\n",
       "      <th>0.90</th>\n",
       "      <td>0.823643</td>\n",
       "      <td>0.717572</td>\n",
       "      <td>0.900875</td>\n",
       "    </tr>\n",
       "    <tr>\n",
       "      <th>1.00</th>\n",
       "      <td>0.934949</td>\n",
       "      <td>0.760763</td>\n",
       "      <td>0.955672</td>\n",
       "    </tr>\n",
       "  </tbody>\n",
       "</table>\n",
       "</div>"
      ],
      "text/plain": [
       "             A         B         C\n",
       "0.00  0.148692  0.153102  0.063324\n",
       "0.25  0.279700  0.342665  0.187218\n",
       "0.50  0.643924  0.598127  0.238570\n",
       "0.75  0.656685  0.652786  0.818679\n",
       "0.90  0.823643  0.717572  0.900875\n",
       "1.00  0.934949  0.760763  0.955672"
      ]
     },
     "execution_count": 130,
     "metadata": {},
     "output_type": "execute_result"
    }
   ],
   "source": [
    "q = [.0, .25, .5, .75, .90, 1]\n",
    "df.quantile(q,\n",
    "            axis           = 0,\n",
    "            numeric_only   = False,\n",
    "            interpolation  = 'linear',\n",
    "            )"
   ]
  },
  {
   "cell_type": "markdown",
   "id": "5e8e2546-1b20-48f7-882d-5bd15c7f736d",
   "metadata": {},
   "source": [
    "#### `df.rank()` : Rank of each sample.\n",
    "- `'method'` : {'average', 'min', 'max', 'first', 'dense'}, *default* = 'average'  \n",
    "How to rank the group of records that have the same value (i.e. ties):\n",
    "  - **average**: average rank of the group  \n",
    "  - **min**: lowest rank in the group  \n",
    "  - **max**: highest rank in the group  \n",
    "  - **first**: ranks assigned in order they appear in the array  \n",
    "  - **dense**: like 'min', but rank always increases by 1 between groups\n"
   ]
  },
  {
   "cell_type": "markdown",
   "id": "0cab139e-62cf-47a3-a9ee-e86bda6ebe66",
   "metadata": {},
   "source": [
    "```python\n",
    "# Signature:\n",
    "df.rank(\n",
    "    axis: 'Axis' = 0,\n",
    "    method: \"Literal['average', 'min', 'max', 'first', 'dense']\" = 'average',\n",
    "    numeric_only: 'bool_t' = False,\n",
    "    na_option: \"Literal['keep', 'top', 'bottom']\" = 'keep',\n",
    "    ascending: 'bool_t' = True,\n",
    "    pct: 'bool_t' = False,\n",
    ") -> 'Self'\n",
    "```"
   ]
  },
  {
   "cell_type": "code",
   "execution_count": null,
   "id": "c57822ee-c47d-43ce-a825-1bf3672929ad",
   "metadata": {},
   "outputs": [
    {
     "data": {
      "text/html": [
       "<div>\n",
       "<style scoped>\n",
       "    .dataframe tbody tr th:only-of-type {\n",
       "        vertical-align: middle;\n",
       "    }\n",
       "\n",
       "    .dataframe tbody tr th {\n",
       "        vertical-align: top;\n",
       "    }\n",
       "\n",
       "    .dataframe thead th {\n",
       "        text-align: right;\n",
       "    }\n",
       "</style>\n",
       "<table border=\"1\" class=\"dataframe\">\n",
       "  <thead>\n",
       "    <tr style=\"text-align: right;\">\n",
       "      <th></th>\n",
       "      <th>A</th>\n",
       "      <th>B</th>\n",
       "      <th>C</th>\n",
       "    </tr>\n",
       "  </thead>\n",
       "  <tbody>\n",
       "    <tr>\n",
       "      <th>0</th>\n",
       "      <td>4.0</td>\n",
       "      <td>4.0</td>\n",
       "      <td>2.0</td>\n",
       "    </tr>\n",
       "    <tr>\n",
       "      <th>1</th>\n",
       "      <td>3.0</td>\n",
       "      <td>2.0</td>\n",
       "      <td>3.0</td>\n",
       "    </tr>\n",
       "    <tr>\n",
       "      <th>2</th>\n",
       "      <td>5.0</td>\n",
       "      <td>3.0</td>\n",
       "      <td>5.0</td>\n",
       "    </tr>\n",
       "    <tr>\n",
       "      <th>3</th>\n",
       "      <td>1.0</td>\n",
       "      <td>5.0</td>\n",
       "      <td>4.0</td>\n",
       "    </tr>\n",
       "    <tr>\n",
       "      <th>4</th>\n",
       "      <td>2.0</td>\n",
       "      <td>1.0</td>\n",
       "      <td>1.0</td>\n",
       "    </tr>\n",
       "  </tbody>\n",
       "</table>\n",
       "</div>"
      ],
      "text/plain": [
       "     A    B    C\n",
       "0  4.0  4.0  2.0\n",
       "1  3.0  2.0  3.0\n",
       "2  5.0  3.0  5.0\n",
       "3  1.0  5.0  4.0\n",
       "4  2.0  1.0  1.0"
      ]
     },
     "execution_count": 131,
     "metadata": {},
     "output_type": "execute_result"
    }
   ],
   "source": [
    "df.rank()"
   ]
  },
  {
   "cell_type": "code",
   "execution_count": null,
   "id": "8ec5109d-77ac-409f-a666-7e2dd5669c5a",
   "metadata": {},
   "outputs": [
    {
     "data": {
      "text/html": [
       "<div>\n",
       "<style scoped>\n",
       "    .dataframe tbody tr th:only-of-type {\n",
       "        vertical-align: middle;\n",
       "    }\n",
       "\n",
       "    .dataframe tbody tr th {\n",
       "        vertical-align: top;\n",
       "    }\n",
       "\n",
       "    .dataframe thead th {\n",
       "        text-align: right;\n",
       "    }\n",
       "</style>\n",
       "<table border=\"1\" class=\"dataframe\">\n",
       "  <thead>\n",
       "    <tr style=\"text-align: right;\">\n",
       "      <th></th>\n",
       "      <th>A</th>\n",
       "      <th>B</th>\n",
       "      <th>C</th>\n",
       "    </tr>\n",
       "  </thead>\n",
       "  <tbody>\n",
       "    <tr>\n",
       "      <th>0</th>\n",
       "      <td>0.8</td>\n",
       "      <td>0.8</td>\n",
       "      <td>0.4</td>\n",
       "    </tr>\n",
       "    <tr>\n",
       "      <th>1</th>\n",
       "      <td>0.6</td>\n",
       "      <td>0.4</td>\n",
       "      <td>0.6</td>\n",
       "    </tr>\n",
       "    <tr>\n",
       "      <th>2</th>\n",
       "      <td>1.0</td>\n",
       "      <td>0.6</td>\n",
       "      <td>1.0</td>\n",
       "    </tr>\n",
       "    <tr>\n",
       "      <th>3</th>\n",
       "      <td>0.2</td>\n",
       "      <td>1.0</td>\n",
       "      <td>0.8</td>\n",
       "    </tr>\n",
       "    <tr>\n",
       "      <th>4</th>\n",
       "      <td>0.4</td>\n",
       "      <td>0.2</td>\n",
       "      <td>0.2</td>\n",
       "    </tr>\n",
       "  </tbody>\n",
       "</table>\n",
       "</div>"
      ],
      "text/plain": [
       "     A    B    C\n",
       "0  0.8  0.8  0.4\n",
       "1  0.6  0.4  0.6\n",
       "2  1.0  0.6  1.0\n",
       "3  0.2  1.0  0.8\n",
       "4  0.4  0.2  0.2"
      ]
     },
     "execution_count": 132,
     "metadata": {},
     "output_type": "execute_result"
    }
   ],
   "source": [
    "df.rank(pct=True)"
   ]
  },
  {
   "cell_type": "markdown",
   "id": "c972fd4c-0f8f-48f9-8a49-91657ddd7345",
   "metadata": {},
   "source": [
    "#### `df.duplicated()` : Check duplications of each column or row."
   ]
  },
  {
   "cell_type": "code",
   "execution_count": null,
   "id": "07b81734-ce77-47e0-8c14-43435b1d86f4",
   "metadata": {},
   "outputs": [
    {
     "name": "stdout",
     "output_type": "stream",
     "text": [
      "     brand style  rating\n",
      "0  Yum Yum   cup     4.0\n",
      "1  Yum Yum   cup     4.0\n",
      "2  Indomie   cup     3.5\n",
      "3  Indomie  pack    15.0\n",
      "4  Indomie  pack     5.0 \n",
      "\n"
     ]
    },
    {
     "data": {
      "text/plain": [
       "0    False\n",
       "1     True\n",
       "2    False\n",
       "3     True\n",
       "4     True\n",
       "dtype: bool"
      ]
     },
     "execution_count": 133,
     "metadata": {},
     "output_type": "execute_result"
    }
   ],
   "source": [
    "df = pd.DataFrame({\n",
    "    'brand': ['Yum Yum', 'Yum Yum', 'Indomie', 'Indomie', 'Indomie'],\n",
    "    'style': ['cup', 'cup', 'cup', 'pack', 'pack'],\n",
    "    'rating': [4, 4, 3.5, 15, 5]\n",
    "})\n",
    "print(df, '\\n')\n",
    "\n",
    "df.duplicated(keep='first',       # 'first' = only first is False, 'last' = last is False, 'False' = all True.\n",
    "              subset=['brand'])"
   ]
  },
  {
   "cell_type": "markdown",
   "id": "eea78ba1-be1b-4361-8407-40ba83786fa5",
   "metadata": {},
   "source": [
    "#### Typical statistics."
   ]
  },
  {
   "cell_type": "code",
   "execution_count": null,
   "id": "1cee7dae-01f2-4803-942a-3dfe7891ff0d",
   "metadata": {},
   "outputs": [
    {
     "data": {
      "text/plain": [
       "A  B\n",
       "1  4    1\n",
       "2  5    1\n",
       "3  6    1\n",
       "Name: count, dtype: int64"
      ]
     },
     "execution_count": 134,
     "metadata": {},
     "output_type": "execute_result"
    }
   ],
   "source": [
    "df = pd.DataFrame({\n",
    "    'A': [1, 2, 3],\n",
    "    'B': [4, 5, 6]\n",
    "})\n",
    "\n",
    "df.max()\n",
    "df.min()\n",
    "df.mean()\n",
    "df.median()\n",
    "df.var()\n",
    "df.std()\n",
    "\n",
    "df.prod()\n",
    "df.sum()\n",
    "\n",
    "df.round(1)          # e.g. 0.25 -> 0.3.\n",
    "      \n",
    "df.sem()             # sem = s / root(n).\n",
    "df.skew()            # skew.\n",
    "      \n",
    "df.nunique()         # num of unique values.\n",
    "df.value_counts()"
   ]
  },
  {
   "cell_type": "markdown",
   "id": "80e6c212-82ac-4460-a2a5-bd57191cbab3",
   "metadata": {},
   "source": [
    "- $ \\text{SEM} = \\frac{s}{\\sqrt{n}} $\n",
    "  - Measures how precisely the sample mean estimates the population mean.\n",
    "  - Smaller SEM = more reliable mean estimate.\n",
    "- $ \\text{Skewness} = \\frac{n}{(n - 1)(n - 2)} \\sum \\left( \\frac{x_i - \\bar{x}}{s} \\right)^3 $\n",
    "  - Measures the asymmetry of the distribution.  \n",
    "    - Skewness = 0 → symmetric  \n",
    "    - Skewness > 0 → right-skewed (tail to the right)  \n",
    "    - Skewness < 0 → left-skewed (tail to the left)\n"
   ]
  },
  {
   "cell_type": "markdown",
   "id": "b620702c-c35b-4d1c-9a2c-418a7dad44ef",
   "metadata": {},
   "source": [
    "## 3.2. Value."
   ]
  },
  {
   "cell_type": "markdown",
   "id": "70c81132-f93a-48e0-bb94-6d3fde1d60c0",
   "metadata": {},
   "source": [
    "### 3.2.1. By Location."
   ]
  },
  {
   "cell_type": "code",
   "execution_count": null,
   "id": "8c87f048-63ff-4928-b201-30a4266a2fb7",
   "metadata": {},
   "outputs": [
    {
     "data": {
      "text/plain": [
       "0    1\n",
       "1    2\n",
       "2    3\n",
       "Name: A, dtype: int64"
      ]
     },
     "execution_count": 135,
     "metadata": {},
     "output_type": "execute_result"
    }
   ],
   "source": [
    "# One value.\n",
    "df.at[2, 'A']    \n",
    "df.iat[2, 1]       \n",
    "\n",
    "# Row.\n",
    "df.loc[1]          \n",
    "df.iloc[1]         \n",
    "\n",
    "# Column.\n",
    "df['A']\n",
    "df.A"
   ]
  },
  {
   "cell_type": "markdown",
   "id": "f301706b-03a1-442a-b560-c9373cac3ba0",
   "metadata": {},
   "source": [
    "### 3.2.2. By Time."
   ]
  },
  {
   "cell_type": "markdown",
   "id": "f0882462-4da9-4bc6-8cc0-288a0df3dfad",
   "metadata": {},
   "source": [
    "#### `df.at_time()`: At specific time."
   ]
  },
  {
   "cell_type": "code",
   "execution_count": null,
   "id": "dbbc356e-eddf-4850-a677-8b034c99b178",
   "metadata": {
    "scrolled": true
   },
   "outputs": [
    {
     "name": "stdout",
     "output_type": "stream",
     "text": [
      "                     A\n",
      "2018-04-09 00:00:00  0\n",
      "2018-04-09 03:00:00  1\n",
      "2018-04-09 06:00:00  2\n",
      "2018-04-09 09:00:00  3\n",
      "2018-04-09 12:00:00  4\n",
      "2018-04-09 15:00:00  5\n",
      "2018-04-09 18:00:00  6\n",
      "2018-04-09 21:00:00  7\n",
      "2018-04-10 00:00:00  8\n",
      "2018-04-10 03:00:00  9 \n",
      "\n",
      "                     A\n",
      "2018-04-09 12:00:00  4\n"
     ]
    }
   ],
   "source": [
    "i = pd.date_range('2018-04-09', periods=10, freq='3h')\n",
    "df = pd.DataFrame({'A': range(10)}, index=i)\n",
    "print(df, '\\n')\n",
    "\n",
    "# df.at_time().\n",
    "print(df.at_time('12:00'))"
   ]
  },
  {
   "cell_type": "markdown",
   "id": "aa155e9e-57f2-45a3-bd08-6a7100fcf936",
   "metadata": {},
   "source": [
    "#### `df.between_time()`: Between times."
   ]
  },
  {
   "cell_type": "code",
   "execution_count": null,
   "id": "ac3a73d8-fdfb-422a-9fb6-d9436c077c3c",
   "metadata": {},
   "outputs": [
    {
     "name": "stdout",
     "output_type": "stream",
     "text": [
      "                     A\n",
      "2018-04-09 03:00:00  1\n",
      "2018-04-09 06:00:00  2\n",
      "2018-04-09 09:00:00  3\n",
      "2018-04-10 03:00:00  9\n",
      "                     A\n",
      "2018-04-09 00:00:00  0\n",
      "2018-04-09 06:00:00  2\n",
      "2018-04-09 09:00:00  3\n",
      "2018-04-09 12:00:00  4\n",
      "2018-04-09 15:00:00  5\n",
      "2018-04-09 18:00:00  6\n",
      "2018-04-09 21:00:00  7\n",
      "2018-04-10 00:00:00  8\n"
     ]
    }
   ],
   "source": [
    "# df.between_time().\n",
    "print(df.between_time('3:00', '9:00'))    # 3:00 ~ 9:00, inclusive.\n",
    "print(df.between_time('5:00', '2:00'))    # NOT in 2:00 ~ 5:00."
   ]
  },
  {
   "cell_type": "markdown",
   "id": "bf68894a-a2d1-486d-960e-b797cf2787de",
   "metadata": {},
   "source": [
    "#### `df.to_period()`: Access by time unit."
   ]
  },
  {
   "cell_type": "code",
   "execution_count": null,
   "id": "136706c9-40ff-4d83-82e5-5bfb43cc8a41",
   "metadata": {},
   "outputs": [
    {
     "data": {
      "text/plain": [
       "PeriodIndex(['2001-03', '2002-05', '2003-08'], dtype='period[M]')"
      ]
     },
     "execution_count": 138,
     "metadata": {},
     "output_type": "execute_result"
    }
   ],
   "source": [
    "idx = pd.to_datetime(\n",
    "    [\n",
    "        \"2001-03-31 00:00:00\",\n",
    "        \"2002-05-31 00:00:00\",\n",
    "        \"2003-08-31 00:00:00\",\n",
    "    ]\n",
    ")\n",
    "idx.to_period(\"M\")"
   ]
  },
  {
   "cell_type": "markdown",
   "id": "cf33f948-c495-4dd4-acd6-30bb6179d8d9",
   "metadata": {},
   "source": [
    "## 3.3. Iteration."
   ]
  },
  {
   "cell_type": "code",
   "execution_count": null,
   "id": "1b2c0467-221d-42d8-a42e-fc0f8ab1b384",
   "metadata": {
    "scrolled": true
   },
   "outputs": [
    {
     "name": "stdout",
     "output_type": "stream",
     "text": [
      "2018-04-09 00:00:00\n",
      "A    0\n",
      "Name: 2018-04-09 00:00:00, dtype: int64\n",
      "A\n",
      "2018-04-09 00:00:00    0\n",
      "2018-04-09 03:00:00    1\n",
      "2018-04-09 06:00:00    2\n",
      "2018-04-09 09:00:00    3\n",
      "2018-04-09 12:00:00    4\n",
      "2018-04-09 15:00:00    5\n",
      "2018-04-09 18:00:00    6\n",
      "2018-04-09 21:00:00    7\n",
      "2018-04-10 00:00:00    8\n",
      "2018-04-10 03:00:00    9\n",
      "Freq: 3h, Name: A, dtype: int64\n"
     ]
    }
   ],
   "source": [
    "# by row.\n",
    "for idx, row in df.iterrows():\n",
    "    print(idx)\n",
    "    print(row)\n",
    "    break\n",
    "\n",
    "# by column.\n",
    "for col_name, col in df.items():\n",
    "    print(col_name)\n",
    "    print(col)\n",
    "    break"
   ]
  },
  {
   "cell_type": "markdown",
   "id": "0dd4b272-f6d0-4507-946c-2642c0ab0c13",
   "metadata": {},
   "source": [
    "## 3.4. Search."
   ]
  },
  {
   "cell_type": "code",
   "execution_count": null,
   "id": "7b392984-7215-42ca-982b-12f019f8e66b",
   "metadata": {},
   "outputs": [
    {
     "data": {
      "text/html": [
       "<div>\n",
       "<style scoped>\n",
       "    .dataframe tbody tr th:only-of-type {\n",
       "        vertical-align: middle;\n",
       "    }\n",
       "\n",
       "    .dataframe tbody tr th {\n",
       "        vertical-align: top;\n",
       "    }\n",
       "\n",
       "    .dataframe thead th {\n",
       "        text-align: right;\n",
       "    }\n",
       "</style>\n",
       "<table border=\"1\" class=\"dataframe\">\n",
       "  <thead>\n",
       "    <tr style=\"text-align: right;\">\n",
       "      <th></th>\n",
       "      <th>A</th>\n",
       "    </tr>\n",
       "  </thead>\n",
       "  <tbody>\n",
       "    <tr>\n",
       "      <th>2018-04-09 00:00:00</th>\n",
       "      <td>0</td>\n",
       "    </tr>\n",
       "    <tr>\n",
       "      <th>2018-04-09 03:00:00</th>\n",
       "      <td>1</td>\n",
       "    </tr>\n",
       "    <tr>\n",
       "      <th>2018-04-09 06:00:00</th>\n",
       "      <td>2</td>\n",
       "    </tr>\n",
       "    <tr>\n",
       "      <th>2018-04-09 09:00:00</th>\n",
       "      <td>3</td>\n",
       "    </tr>\n",
       "    <tr>\n",
       "      <th>2018-04-09 12:00:00</th>\n",
       "      <td>4</td>\n",
       "    </tr>\n",
       "    <tr>\n",
       "      <th>2018-04-09 15:00:00</th>\n",
       "      <td>5</td>\n",
       "    </tr>\n",
       "    <tr>\n",
       "      <th>2018-04-09 18:00:00</th>\n",
       "      <td>6</td>\n",
       "    </tr>\n",
       "    <tr>\n",
       "      <th>2018-04-09 21:00:00</th>\n",
       "      <td>7</td>\n",
       "    </tr>\n",
       "    <tr>\n",
       "      <th>2018-04-10 00:00:00</th>\n",
       "      <td>8</td>\n",
       "    </tr>\n",
       "    <tr>\n",
       "      <th>2018-04-10 03:00:00</th>\n",
       "      <td>9</td>\n",
       "    </tr>\n",
       "  </tbody>\n",
       "</table>\n",
       "</div>"
      ],
      "text/plain": [
       "                     A\n",
       "2018-04-09 00:00:00  0\n",
       "2018-04-09 03:00:00  1\n",
       "2018-04-09 06:00:00  2\n",
       "2018-04-09 09:00:00  3\n",
       "2018-04-09 12:00:00  4\n",
       "2018-04-09 15:00:00  5\n",
       "2018-04-09 18:00:00  6\n",
       "2018-04-09 21:00:00  7\n",
       "2018-04-10 00:00:00  8\n",
       "2018-04-10 03:00:00  9"
      ]
     },
     "execution_count": 140,
     "metadata": {},
     "output_type": "execute_result"
    }
   ],
   "source": [
    "df"
   ]
  },
  {
   "cell_type": "markdown",
   "id": "3e89ecd9-bf3e-4b48-8123-6540c1353f61",
   "metadata": {},
   "source": [
    "### 3.4.1. By Value."
   ]
  },
  {
   "cell_type": "code",
   "execution_count": null,
   "id": "7e445f76-0e8c-4c81-820d-4fa38357bb5d",
   "metadata": {},
   "outputs": [
    {
     "data": {
      "text/plain": [
       "A    True\n",
       "Name: 2018-04-09 00:00:00, dtype: bool"
      ]
     },
     "execution_count": 141,
     "metadata": {},
     "output_type": "execute_result"
    }
   ],
   "source": [
    "# by column.\n",
    "df['A'].isin([0]).any()   \n",
    "\n",
    "# by row.\n",
    "df.iloc[0].isin([0])        "
   ]
  },
  {
   "cell_type": "markdown",
   "id": "6b7b3871-64ea-4313-a947-6c1ccc520d0c",
   "metadata": {},
   "source": [
    "### 3.4.2. By Condition."
   ]
  },
  {
   "cell_type": "code",
   "execution_count": null,
   "id": "27b82e15-f4e4-4110-929e-37d521925837",
   "metadata": {
    "scrolled": true
   },
   "outputs": [
    {
     "data": {
      "text/plain": [
       "A   2018-04-09\n",
       "dtype: datetime64[ns]"
      ]
     },
     "execution_count": 142,
     "metadata": {},
     "output_type": "execute_result"
    }
   ],
   "source": [
    "# Query.\n",
    "df.query('A == 0')\n",
    "df[df['A'] == 0]     # could be slightly faster and memory efficient.\n",
    "\n",
    "# Condition and replace.\n",
    "is_one = lambda df: df['A'] == 1\n",
    "df['A'].where(cond = is_one(df),            # if 'cond' is false, replace with 'other'.\n",
    "                     other = 'no_one')\n",
    "df['A'].mask(cond = is_one(df),\n",
    "                    other = 'one')          # if 'cond' is True, replace with 'other'.\n",
    "\n",
    "# Index of max/min value.\n",
    "df.idxmax()\n",
    "df.idxmin()"
   ]
  },
  {
   "cell_type": "markdown",
   "id": "9838730b-2ffb-4b69-9eb5-cc4ffa358340",
   "metadata": {},
   "source": [
    "### 3.4.3. By Column or Index Name."
   ]
  },
  {
   "cell_type": "code",
   "execution_count": null,
   "id": "c2480f36-fd94-4064-95a3-f12190063fa8",
   "metadata": {},
   "outputs": [
    {
     "name": "stdout",
     "output_type": "stream",
     "text": [
      "        one  two  three\n",
      "mouse     1    2      3\n",
      "rabbit    4    5      6\n"
     ]
    },
    {
     "data": {
      "text/html": [
       "<div>\n",
       "<style scoped>\n",
       "    .dataframe tbody tr th:only-of-type {\n",
       "        vertical-align: middle;\n",
       "    }\n",
       "\n",
       "    .dataframe tbody tr th {\n",
       "        vertical-align: top;\n",
       "    }\n",
       "\n",
       "    .dataframe thead th {\n",
       "        text-align: right;\n",
       "    }\n",
       "</style>\n",
       "<table border=\"1\" class=\"dataframe\">\n",
       "  <thead>\n",
       "    <tr style=\"text-align: right;\">\n",
       "      <th></th>\n",
       "      <th>one</th>\n",
       "      <th>two</th>\n",
       "      <th>three</th>\n",
       "    </tr>\n",
       "  </thead>\n",
       "  <tbody>\n",
       "    <tr>\n",
       "      <th>rabbit</th>\n",
       "      <td>4</td>\n",
       "      <td>5</td>\n",
       "      <td>6</td>\n",
       "    </tr>\n",
       "  </tbody>\n",
       "</table>\n",
       "</div>"
      ],
      "text/plain": [
       "        one  two  three\n",
       "rabbit    4    5      6"
      ]
     },
     "execution_count": 143,
     "metadata": {},
     "output_type": "execute_result"
    }
   ],
   "source": [
    "df = pd.DataFrame(np.array(([1, 2, 3], [4, 5, 6])),\n",
    "                  index=['mouse', 'rabbit'],\n",
    "                  columns=['one', 'two', 'three'])\n",
    "print(df)\n",
    "\n",
    "df.filter(items=['one', 'three'])\n",
    "df.filter(regex='w$', axis=1)        # 'axis' : 0 = by index, 1 = by column.\n",
    "df.filter(like='bbi', axis=0)        # Index containing 'bbi'."
   ]
  },
  {
   "cell_type": "markdown",
   "id": "89821abd-50b9-41b2-9857-f401003edf2b",
   "metadata": {},
   "source": [
    "### 3.4.4. By Date."
   ]
  },
  {
   "cell_type": "markdown",
   "id": "2b750bfc-c9c5-4647-9b61-9e08cf096c34",
   "metadata": {},
   "source": [
    "#### `df.asof()`: find the first non-NaN value before given date."
   ]
  },
  {
   "cell_type": "code",
   "execution_count": null,
   "id": "bc51f65c-c026-4ff8-a8d0-4fe16a477888",
   "metadata": {},
   "outputs": [
    {
     "data": {
      "text/html": [
       "<div>\n",
       "<style scoped>\n",
       "    .dataframe tbody tr th:only-of-type {\n",
       "        vertical-align: middle;\n",
       "    }\n",
       "\n",
       "    .dataframe tbody tr th {\n",
       "        vertical-align: top;\n",
       "    }\n",
       "\n",
       "    .dataframe thead th {\n",
       "        text-align: right;\n",
       "    }\n",
       "</style>\n",
       "<table border=\"1\" class=\"dataframe\">\n",
       "  <thead>\n",
       "    <tr style=\"text-align: right;\">\n",
       "      <th></th>\n",
       "      <th>a</th>\n",
       "      <th>b</th>\n",
       "    </tr>\n",
       "  </thead>\n",
       "  <tbody>\n",
       "    <tr>\n",
       "      <th>2018-02-27 09:03:30</th>\n",
       "      <td>30.0</td>\n",
       "      <td>NaN</td>\n",
       "    </tr>\n",
       "    <tr>\n",
       "      <th>2018-02-27 09:04:30</th>\n",
       "      <td>40.0</td>\n",
       "      <td>NaN</td>\n",
       "    </tr>\n",
       "  </tbody>\n",
       "</table>\n",
       "</div>"
      ],
      "text/plain": [
       "                        a   b\n",
       "2018-02-27 09:03:30  30.0 NaN\n",
       "2018-02-27 09:04:30  40.0 NaN"
      ]
     },
     "execution_count": 144,
     "metadata": {},
     "output_type": "execute_result"
    }
   ],
   "source": [
    "df = pd.DataFrame({'a': [10., 20., 30., 40., 50.],\n",
    "                   'b': [None, None, None, None, 500]},\n",
    "                  index=pd.DatetimeIndex(['2018-02-27 09:01:00',\n",
    "                                          '2018-02-27 09:02:00',\n",
    "                                          '2018-02-27 09:03:00',\n",
    "                                          '2018-02-27 09:04:00',\n",
    "                                          '2018-02-27 09:05:00']))\n",
    "\n",
    "df.asof(pd.DatetimeIndex(['2018-02-27 09:03:30',\n",
    "                          '2018-02-27 09:04:30']),\n",
    "        subset=['a'])"
   ]
  },
  {
   "cell_type": "markdown",
   "id": "85cbaceb-d6f2-46b3-a737-e986889cb48f",
   "metadata": {},
   "source": [
    "### 3.4.5. Valid Value."
   ]
  },
  {
   "cell_type": "markdown",
   "id": "2fb4537c-a376-4067-a464-3f8c8e95042c",
   "metadata": {},
   "source": [
    "#### `df.first_valid_index()`: find the fist index of the non-NaN value."
   ]
  },
  {
   "cell_type": "code",
   "execution_count": null,
   "id": "d3370279-2cec-4a82-af67-37ddc9287654",
   "metadata": {},
   "outputs": [
    {
     "name": "stdout",
     "output_type": "stream",
     "text": [
      "1\n",
      "2\n"
     ]
    }
   ],
   "source": [
    "s = pd.Series([None, 3, 4])\n",
    "\n",
    "print(s.first_valid_index())\n",
    "print(s.last_valid_index())"
   ]
  },
  {
   "cell_type": "markdown",
   "id": "1a65c81d-8e71-4bdd-b9fd-c6a1d7ddeafc",
   "metadata": {},
   "source": [
    "## 3.5. Aggregation."
   ]
  },
  {
   "cell_type": "code",
   "execution_count": null,
   "id": "d77d4b49-bc5b-4a45-919c-fedac160ab0e",
   "metadata": {},
   "outputs": [
    {
     "data": {
      "text/html": [
       "<div>\n",
       "<style scoped>\n",
       "    .dataframe tbody tr th:only-of-type {\n",
       "        vertical-align: middle;\n",
       "    }\n",
       "\n",
       "    .dataframe tbody tr th {\n",
       "        vertical-align: top;\n",
       "    }\n",
       "\n",
       "    .dataframe thead th {\n",
       "        text-align: right;\n",
       "    }\n",
       "</style>\n",
       "<table border=\"1\" class=\"dataframe\">\n",
       "  <thead>\n",
       "    <tr style=\"text-align: right;\">\n",
       "      <th></th>\n",
       "      <th>A</th>\n",
       "      <th>B</th>\n",
       "      <th>C</th>\n",
       "    </tr>\n",
       "  </thead>\n",
       "  <tbody>\n",
       "    <tr>\n",
       "      <th>0</th>\n",
       "      <td>0.652663</td>\n",
       "      <td>0.186434</td>\n",
       "      <td>0.319513</td>\n",
       "    </tr>\n",
       "    <tr>\n",
       "      <th>1</th>\n",
       "      <td>0.157815</td>\n",
       "      <td>0.160488</td>\n",
       "      <td>0.171617</td>\n",
       "    </tr>\n",
       "    <tr>\n",
       "      <th>2</th>\n",
       "      <td>0.210212</td>\n",
       "      <td>0.878190</td>\n",
       "      <td>0.572742</td>\n",
       "    </tr>\n",
       "  </tbody>\n",
       "</table>\n",
       "</div>"
      ],
      "text/plain": [
       "          A         B         C\n",
       "0  0.652663  0.186434  0.319513\n",
       "1  0.157815  0.160488  0.171617\n",
       "2  0.210212  0.878190  0.572742"
      ]
     },
     "execution_count": 146,
     "metadata": {},
     "output_type": "execute_result"
    }
   ],
   "source": [
    "df = pd.DataFrame(np.random.rand(3, 3), columns=['A', 'B', 'C'])\n",
    "df"
   ]
  },
  {
   "cell_type": "markdown",
   "id": "6fe29f39-4fec-4a23-8df3-98c117d6edc5",
   "metadata": {},
   "source": [
    "### 3.5.1. Aggregation."
   ]
  },
  {
   "cell_type": "code",
   "execution_count": null,
   "id": "dc8afa28-8d25-4ac7-9d4e-fce4dc67b245",
   "metadata": {
    "scrolled": true
   },
   "outputs": [
    {
     "data": {
      "text/html": [
       "<div>\n",
       "<style scoped>\n",
       "    .dataframe tbody tr th:only-of-type {\n",
       "        vertical-align: middle;\n",
       "    }\n",
       "\n",
       "    .dataframe tbody tr th {\n",
       "        vertical-align: top;\n",
       "    }\n",
       "\n",
       "    .dataframe thead th {\n",
       "        text-align: right;\n",
       "    }\n",
       "</style>\n",
       "<table border=\"1\" class=\"dataframe\">\n",
       "  <thead>\n",
       "    <tr style=\"text-align: right;\">\n",
       "      <th></th>\n",
       "      <th>A</th>\n",
       "      <th>B</th>\n",
       "      <th>C</th>\n",
       "    </tr>\n",
       "  </thead>\n",
       "  <tbody>\n",
       "    <tr>\n",
       "      <th>sum</th>\n",
       "      <td>1.020691</td>\n",
       "      <td>1.225112</td>\n",
       "      <td>1.063872</td>\n",
       "    </tr>\n",
       "  </tbody>\n",
       "</table>\n",
       "</div>"
      ],
      "text/plain": [
       "            A         B         C\n",
       "sum  1.020691  1.225112  1.063872"
      ]
     },
     "execution_count": 147,
     "metadata": {},
     "output_type": "execute_result"
    }
   ],
   "source": [
    "# Each row.\n",
    "df.agg(['sum'], axis=0)   # 0 = each row, 1 = each column.\n"
   ]
  },
  {
   "cell_type": "markdown",
   "id": "2bf86fae-2074-4efa-b4c9-7584bc4f822d",
   "metadata": {},
   "source": [
    "> c.f. Aggregation Functions.\n",
    "| Function   | Description |\n",
    "|------------|-------------|\n",
    "| **`'sum'`**     | Sum of values in each column. |\n",
    "| **`'min'`**     | Minimum value in each column. |\n",
    "| **`'max'`**     | Maximum value in each column. |\n",
    "| **`'mean'`**    | Average (mean) of each column. |\n",
    "| **`'median'`**  | Median value of each column. |\n",
    "| **`'std'`**     | Standard deviation of each column. |\n",
    "| **`'var'`**     | Variance of each column. |\n",
    "| **`'count'`**   | Number of non-null values in each column. |\n",
    "| **`'nunique'`** | Number of unique values in each column. |\n",
    "| **`'first'`**   | First value in each column. |\n",
    "| **`'last'`**    | Last value in each column. |\n",
    "| **`'prod'`**    | Product of all values in each column. |\n",
    "| **`'sem'`**     | Standard error of the mean. |\n",
    "| **`'skew'`**    | Skewness of the distribution. |\n",
    "| **`'kurt'`**    | Kurtosis (measure of tailedness). |"
   ]
  },
  {
   "cell_type": "markdown",
   "id": "410ee617-0aa4-47bd-95d1-819535e53add",
   "metadata": {},
   "source": [
    "### 3.5.2. Culmulative Operations."
   ]
  },
  {
   "cell_type": "code",
   "execution_count": null,
   "id": "9e872c6c-a047-45ff-8bc6-68348247be08",
   "metadata": {},
   "outputs": [
    {
     "data": {
      "text/html": [
       "<div>\n",
       "<style scoped>\n",
       "    .dataframe tbody tr th:only-of-type {\n",
       "        vertical-align: middle;\n",
       "    }\n",
       "\n",
       "    .dataframe tbody tr th {\n",
       "        vertical-align: top;\n",
       "    }\n",
       "\n",
       "    .dataframe thead th {\n",
       "        text-align: right;\n",
       "    }\n",
       "</style>\n",
       "<table border=\"1\" class=\"dataframe\">\n",
       "  <thead>\n",
       "    <tr style=\"text-align: right;\">\n",
       "      <th></th>\n",
       "      <th>A</th>\n",
       "      <th>B</th>\n",
       "      <th>C</th>\n",
       "    </tr>\n",
       "  </thead>\n",
       "  <tbody>\n",
       "    <tr>\n",
       "      <th>0</th>\n",
       "      <td>0.652663</td>\n",
       "      <td>0.186434</td>\n",
       "      <td>0.319513</td>\n",
       "    </tr>\n",
       "    <tr>\n",
       "      <th>1</th>\n",
       "      <td>0.103000</td>\n",
       "      <td>0.029920</td>\n",
       "      <td>0.054834</td>\n",
       "    </tr>\n",
       "    <tr>\n",
       "      <th>2</th>\n",
       "      <td>0.021652</td>\n",
       "      <td>0.026276</td>\n",
       "      <td>0.031406</td>\n",
       "    </tr>\n",
       "  </tbody>\n",
       "</table>\n",
       "</div>"
      ],
      "text/plain": [
       "          A         B         C\n",
       "0  0.652663  0.186434  0.319513\n",
       "1  0.103000  0.029920  0.054834\n",
       "2  0.021652  0.026276  0.031406"
      ]
     },
     "execution_count": 148,
     "metadata": {},
     "output_type": "execute_result"
    }
   ],
   "source": [
    "# df.cummax().\n",
    "df.cummax()\n",
    "\n",
    "# df.cummin().\n",
    "df.cummin()\n",
    "\n",
    "# df.cumsum().\n",
    "df.cumsum()\n",
    "\n",
    "# df.cumprod().\n",
    "df.cumprod()"
   ]
  },
  {
   "cell_type": "markdown",
   "id": "998c6fea-74b8-48f7-9701-8f1d71cef36f",
   "metadata": {},
   "source": [
    "## 3.6. Correlation Analysis."
   ]
  },
  {
   "cell_type": "markdown",
   "id": "d7a509dd-5aad-4602-837c-96f94a6177d6",
   "metadata": {},
   "source": [
    "- Pearson.\n",
    "  - $ r = \\frac{\\sum (x_i - \\bar{x})(y_i - \\bar{y})}{\\sqrt{\\sum (x_i - \\bar{x})^2 \\sum (y_i - \\bar{y})^2}} $\n",
    "- Spearman's rank. \n",
    "  - $ \\rho = 1 - \\frac{6 \\sum d_i^2}{n(n^2 - 1)} $\n",
    "  - where $d_i$ is the difference between the ranks of each observation pair, and $n$ is the number of observations.\n",
    "- Kendall's tau.\n",
    "  - $ \\tau = \\frac{(C - D)}{\\frac{1}{2}n(n - 1)} $\n",
    "  - where $C$ is the number of concordant pairs, $D$ is the number of discordant pairs, and $n$ is the number of observations.\n",
    "  - **Concordant pair (C)**: For a pair of observations $(x_i, y_i)$ and $(x_j, y_j)$, the pair is **concordant** if the order of both $x$ and $y$ agree:  \n",
    "    - i.e., if $x_i > x_j$ and $y_i > y_j$, or $x_i < x_j$ and $y_i < y_j$\n",
    "  - **Discordant pair (D)**: The pair is **discordant** if the order of $x$ and $y$ disagree:  \n",
    "    - i.e., if $x_i > x_j$ and $y_i < y_j$, or $x_i < x_j$ and $y_i > y_j$\n",
    "  - Tied pairs (where $x_i = x_j$ or $y_i = y_j$) are typically excluded in Kendall's tau-b and tau-c variants.\n",
    "\n",
    "- How to choose:\n",
    "| Scenario                                      | Recommended Correlation | Notes                                                                 |\n",
    "|----------------------------------------------|--------------------------|-----------------------------------------------------------------------|\n",
    "| Linear relationship, continuous variables     | Pearson                 | Assumes normal distribution and linearity                             |\n",
    "| Monotonic (but not necessarily linear)        | Spearman                | Based on rank; robust to outliers and non-linearity                   |\n",
    "| Ordinal variables or many ties in the data    | Kendall                 | Better for small datasets or with many tied ranks                     |\n",
    "| Non-parametric, resistant to outliers         | Spearman or Kendall     | Both are rank-based and don't assume normality                        |\n"
   ]
  },
  {
   "cell_type": "markdown",
   "id": "79e19a5d-dfad-425c-8077-c689680c77d4",
   "metadata": {},
   "source": [
    "```python\n",
    "# Signature.\n",
    "df.corr(\n",
    "    method: 'CorrelationMethod' = 'pearson',     # {‘pearson’, ‘kendall’, ‘spearman’} or callable\n",
    "    min_periods: 'int' = 1,                      # Minimum number of observations required per pair of columns to have a valid result.\n",
    "    numeric_only: 'bool' = False,                # Include only float, int or boolean data.\n",
    ") -> 'DataFrame'   \n",
    "   \n",
    "df.corrwith(   \n",
    "    other: 'DataFrame | Series',   \n",
    "    axis: 'Axis' = 0,   \n",
    "    drop: 'bool' = False,                        # Drop missing indices from result.\n",
    "    method: 'CorrelationMethod' = 'pearson',\n",
    "    numeric_only: 'bool' = False,\n",
    ") -> 'Series'\n",
    "\n",
    "df.cov(\n",
    "    min_periods: 'int | None' = None,\n",
    "    ddof: 'int | None' = 1,\n",
    "    numeric_only: 'bool' = False,\n",
    ") -> 'DataFrame'\n",
    "```"
   ]
  },
  {
   "cell_type": "code",
   "execution_count": null,
   "id": "7876ca6a-e3fa-4e8f-affd-ed27306740df",
   "metadata": {},
   "outputs": [
    {
     "name": "stdout",
     "output_type": "stream",
     "text": [
      "   dogs  cats\n",
      "0   0.2   0.3\n",
      "1   0.0   0.6\n",
      "2   0.6   0.0\n",
      "3   0.2   0.1 \n",
      "\n",
      "          dogs      cats\n",
      "dogs  1.000000 -0.851064\n",
      "cats -0.851064  1.000000 \n",
      "\n",
      "   one  two  three  four\n",
      "a    0    1      2     3\n",
      "b    4    5      6     7\n",
      "c    8    9     10    11\n",
      "d   12   13     14    15\n",
      "e   16   17     18    19 \n",
      "\n",
      "   one  two  three  four\n",
      "a    0    1      2     3\n",
      "b    4    5      6     7\n",
      "c    8    9     10    11\n",
      "d   12   13     14    15 \n",
      "\n",
      "one      1.0\n",
      "two      1.0\n",
      "three    1.0\n",
      "four     1.0\n",
      "dtype: float64 \n",
      "\n",
      "          dogs      cats\n",
      "dogs  0.063333 -0.056667\n",
      "cats -0.056667  0.070000\n"
     ]
    }
   ],
   "source": [
    "# Example.\n",
    "\n",
    "# df.corr().\n",
    "df = pd.DataFrame([(.2, .3), (.0, .6), (.6, .0), (.2, .1)],\n",
    "                  columns=['dogs', 'cats'])\n",
    "print(df, '\\n')\n",
    "print(df.corr(), '\\n')\n",
    "\n",
    "\n",
    "# df.corrwith().\n",
    "index       = [\"a\", \"b\", \"c\", \"d\", \"e\"]\n",
    "columns     = [\"one\", \"two\", \"three\", \"four\"]\n",
    "df1         = pd.DataFrame(np.arange(20).reshape(5, 4), index=index, columns=columns)\n",
    "df2         = pd.DataFrame(np.arange(16).reshape(4, 4), index=index[:4], columns=columns)\n",
    "\n",
    "print(df1, '\\n')\n",
    "print(df2, '\\n')\n",
    "print(df1.corrwith(df2), '\\n')\n",
    "\n",
    "# df.cov().\n",
    "print(df.cov())"
   ]
  },
  {
   "cell_type": "code",
   "execution_count": null,
   "id": "92346c46-7899-4262-a5fb-f70260747b59",
   "metadata": {},
   "outputs": [
    {
     "name": "stdout",
     "output_type": "stream",
     "text": [
      "   one  two  three  four\n",
      "a    0    1      2     3\n",
      "b    4    5      6     7\n",
      "c    8    9     10    11\n",
      "d   12   13     14    15\n",
      "e   16   17     18    19 \n",
      "\n",
      "   one  two  three  four\n",
      "a    0    1      2     3\n",
      "b    4    5      6     7\n",
      "c    8    9     10    11\n",
      "d   12   13     14    15 \n",
      "\n"
     ]
    },
    {
     "data": {
      "text/plain": [
       "one      1.0\n",
       "two      1.0\n",
       "three    1.0\n",
       "four     1.0\n",
       "dtype: float64"
      ]
     },
     "execution_count": 150,
     "metadata": {},
     "output_type": "execute_result"
    }
   ],
   "source": [
    "index = [\"a\", \"b\", \"c\", \"d\", \"e\"]\n",
    "columns = [\"one\", \"two\", \"three\", \"four\"]\n",
    "df1 = pd.DataFrame(np.arange(20).reshape(5, 4), index=index, columns=columns)\n",
    "df2 = pd.DataFrame(np.arange(16).reshape(4, 4), index=index[:4], columns=columns)\n",
    "print(df1, '\\n')\n",
    "print(df2, '\\n')\n",
    "df1.corrwith(df2)"
   ]
  },
  {
   "cell_type": "markdown",
   "id": "883f0422-52ae-48e6-8fa9-8dbcea60de84",
   "metadata": {},
   "source": [
    "## 3.7. Sampling."
   ]
  },
  {
   "cell_type": "markdown",
   "id": "bc3c5b36-8e0c-4b57-918f-3f68409e4aaa",
   "metadata": {},
   "source": [
    "### 3.7.1. `df.sample()` : Random sampling."
   ]
  },
  {
   "cell_type": "markdown",
   "id": "480a2ae4-039e-4e5d-9725-95c074eb0714",
   "metadata": {},
   "source": [
    "```python\n",
    "# Signature.\n",
    "df.sample(\n",
    "    n: 'int | None' = None,\n",
    "    frac: 'float | None' = None,\n",
    "    replace: 'bool_t' = False,\n",
    "    weights= 'str | ndarray-like' = None,\n",
    "    random_state: 'RandomState | None' = None,\n",
    "    axis: 'Axis | None' = None,\n",
    "    ignore_index: 'bool_t' = False,\n",
    ") -> 'Self'\n",
    "```"
   ]
  },
  {
   "cell_type": "code",
   "execution_count": null,
   "id": "03dc405b-d036-4770-b563-e5482766eadb",
   "metadata": {},
   "outputs": [
    {
     "data": {
      "text/html": [
       "<div>\n",
       "<style scoped>\n",
       "    .dataframe tbody tr th:only-of-type {\n",
       "        vertical-align: middle;\n",
       "    }\n",
       "\n",
       "    .dataframe tbody tr th {\n",
       "        vertical-align: top;\n",
       "    }\n",
       "\n",
       "    .dataframe thead th {\n",
       "        text-align: right;\n",
       "    }\n",
       "</style>\n",
       "<table border=\"1\" class=\"dataframe\">\n",
       "  <thead>\n",
       "    <tr style=\"text-align: right;\">\n",
       "      <th></th>\n",
       "      <th>dogs</th>\n",
       "      <th>cats</th>\n",
       "    </tr>\n",
       "  </thead>\n",
       "  <tbody>\n",
       "    <tr>\n",
       "      <th>0</th>\n",
       "      <td>0.2</td>\n",
       "      <td>0.3</td>\n",
       "    </tr>\n",
       "    <tr>\n",
       "      <th>1</th>\n",
       "      <td>0.0</td>\n",
       "      <td>0.6</td>\n",
       "    </tr>\n",
       "    <tr>\n",
       "      <th>2</th>\n",
       "      <td>0.6</td>\n",
       "      <td>0.0</td>\n",
       "    </tr>\n",
       "    <tr>\n",
       "      <th>3</th>\n",
       "      <td>0.2</td>\n",
       "      <td>0.1</td>\n",
       "    </tr>\n",
       "  </tbody>\n",
       "</table>\n",
       "</div>"
      ],
      "text/plain": [
       "   dogs  cats\n",
       "0   0.2   0.3\n",
       "1   0.0   0.6\n",
       "2   0.6   0.0\n",
       "3   0.2   0.1"
      ]
     },
     "execution_count": 151,
     "metadata": {},
     "output_type": "execute_result"
    }
   ],
   "source": [
    "df"
   ]
  },
  {
   "cell_type": "code",
   "execution_count": null,
   "id": "d68e2350-6e32-49fb-9b89-5089f3d9bd28",
   "metadata": {},
   "outputs": [
    {
     "data": {
      "text/html": [
       "<div>\n",
       "<style scoped>\n",
       "    .dataframe tbody tr th:only-of-type {\n",
       "        vertical-align: middle;\n",
       "    }\n",
       "\n",
       "    .dataframe tbody tr th {\n",
       "        vertical-align: top;\n",
       "    }\n",
       "\n",
       "    .dataframe thead th {\n",
       "        text-align: right;\n",
       "    }\n",
       "</style>\n",
       "<table border=\"1\" class=\"dataframe\">\n",
       "  <thead>\n",
       "    <tr style=\"text-align: right;\">\n",
       "      <th></th>\n",
       "      <th>A</th>\n",
       "      <th>B</th>\n",
       "    </tr>\n",
       "  </thead>\n",
       "  <tbody>\n",
       "    <tr>\n",
       "      <th>1</th>\n",
       "      <td>1</td>\n",
       "      <td>4</td>\n",
       "    </tr>\n",
       "    <tr>\n",
       "      <th>2</th>\n",
       "      <td>2</td>\n",
       "      <td>5</td>\n",
       "    </tr>\n",
       "  </tbody>\n",
       "</table>\n",
       "</div>"
      ],
      "text/plain": [
       "   A  B\n",
       "1  1  4\n",
       "2  2  5"
      ]
     },
     "execution_count": 152,
     "metadata": {},
     "output_type": "execute_result"
    }
   ],
   "source": [
    "df = pd.DataFrame({\n",
    "    'A': [0, 1, 2],\n",
    "    'B': [3, 4, 5]\n",
    "})\n",
    "\n",
    "df.sample(\n",
    "    n              = 2,                  # n_samples.\n",
    "    # frac           = 0.2,              # frac. can't use with 'n'.\n",
    "    replace        = False,              # If 'True', allows duplications.\n",
    "    weights        = [0.2, 0.5, 0.3],    # Weights on each samples. 'None' = equal weighting.\n",
    "    random_state   = 42,                 # Random seed.\n",
    "    axis           = 0,                  # 0 for index, 1 for column.\n",
    "    ignore_index   = False               # If 'False', returns index of [0, 1, ...].\n",
    ")"
   ]
  },
  {
   "cell_type": "markdown",
   "id": "39fae4d2-9eda-4411-a641-71481f7ae44f",
   "metadata": {},
   "source": [
    "### 3.7.2. `df.resample()`: Resamples based on time."
   ]
  },
  {
   "cell_type": "code",
   "execution_count": null,
   "id": "64fb4e91-880d-4e06-8ea8-50bff5ef8ea3",
   "metadata": {},
   "outputs": [
    {
     "data": {
      "text/plain": [
       "2000-01-01 00:00:00    0\n",
       "2000-01-01 00:01:00    1\n",
       "2000-01-01 00:02:00    2\n",
       "2000-01-01 00:03:00    3\n",
       "2000-01-01 00:04:00    4\n",
       "2000-01-01 00:05:00    5\n",
       "2000-01-01 00:06:00    6\n",
       "2000-01-01 00:07:00    7\n",
       "2000-01-01 00:08:00    8\n",
       "Freq: min, dtype: int64"
      ]
     },
     "metadata": {},
     "output_type": "display_data"
    },
    {
     "data": {
      "text/plain": [
       "2000-01-01 00:00:00     0\n",
       "2000-01-01 00:03:00     6\n",
       "2000-01-01 00:06:00    15\n",
       "2000-01-01 00:09:00    15\n",
       "Freq: 3min, dtype: int64"
      ]
     },
     "execution_count": 153,
     "metadata": {},
     "output_type": "execute_result"
    }
   ],
   "source": [
    "index = pd.date_range('1/1/2000', periods=9, freq='min')\n",
    "series = pd.Series(range(9), index=index)\n",
    "display(series)\n",
    "\n",
    "# Downsampling.\n",
    "series.resample('3min',                 # by 3 mins.\n",
    "                label='right',          # 0 ~ 3 => 3.\n",
    "                closed='right',         # [0, 3].\n",
    "                ).sum()    "
   ]
  },
  {
   "cell_type": "code",
   "execution_count": null,
   "id": "079af96b-e2a0-40c0-b8f1-8532c7c536d6",
   "metadata": {},
   "outputs": [
    {
     "data": {
      "text/plain": [
       "2000-01-01 00:00:00    0\n",
       "2000-01-01 00:00:30    0\n",
       "2000-01-01 00:01:00    1\n",
       "2000-01-01 00:01:30    1\n",
       "2000-01-01 00:02:00    2\n",
       "Freq: 30s, dtype: int64"
      ]
     },
     "execution_count": 154,
     "metadata": {},
     "output_type": "execute_result"
    }
   ],
   "source": [
    "# Upsampling.\n",
    "series.resample('30s').ffill()[:5]"
   ]
  },
  {
   "cell_type": "markdown",
   "id": "72be9db7-8ea0-4670-98e5-50d3584c96a5",
   "metadata": {},
   "source": [
    "## 3.7. Truncation."
   ]
  },
  {
   "cell_type": "code",
   "execution_count": null,
   "id": "37fbf525-e9ca-4daa-a1ab-f4974c7b3ced",
   "metadata": {
    "scrolled": true
   },
   "outputs": [
    {
     "data": {
      "text/html": [
       "<div>\n",
       "<style scoped>\n",
       "    .dataframe tbody tr th:only-of-type {\n",
       "        vertical-align: middle;\n",
       "    }\n",
       "\n",
       "    .dataframe tbody tr th {\n",
       "        vertical-align: top;\n",
       "    }\n",
       "\n",
       "    .dataframe thead th {\n",
       "        text-align: right;\n",
       "    }\n",
       "</style>\n",
       "<table border=\"1\" class=\"dataframe\">\n",
       "  <thead>\n",
       "    <tr style=\"text-align: right;\">\n",
       "      <th></th>\n",
       "      <th>A</th>\n",
       "      <th>B</th>\n",
       "      <th>C</th>\n",
       "    </tr>\n",
       "  </thead>\n",
       "  <tbody>\n",
       "    <tr>\n",
       "      <th>2016-01-01</th>\n",
       "      <td>a</td>\n",
       "      <td>f</td>\n",
       "      <td>k</td>\n",
       "    </tr>\n",
       "    <tr>\n",
       "      <th>2016-01-02</th>\n",
       "      <td>b</td>\n",
       "      <td>g</td>\n",
       "      <td>l</td>\n",
       "    </tr>\n",
       "    <tr>\n",
       "      <th>2016-01-03</th>\n",
       "      <td>c</td>\n",
       "      <td>h</td>\n",
       "      <td>m</td>\n",
       "    </tr>\n",
       "    <tr>\n",
       "      <th>2016-01-04</th>\n",
       "      <td>d</td>\n",
       "      <td>i</td>\n",
       "      <td>n</td>\n",
       "    </tr>\n",
       "    <tr>\n",
       "      <th>2016-01-05</th>\n",
       "      <td>e</td>\n",
       "      <td>j</td>\n",
       "      <td>o</td>\n",
       "    </tr>\n",
       "  </tbody>\n",
       "</table>\n",
       "</div>"
      ],
      "text/plain": [
       "            A  B  C\n",
       "2016-01-01  a  f  k\n",
       "2016-01-02  b  g  l\n",
       "2016-01-03  c  h  m\n",
       "2016-01-04  d  i  n\n",
       "2016-01-05  e  j  o"
      ]
     },
     "metadata": {},
     "output_type": "display_data"
    },
    {
     "data": {
      "text/html": [
       "<div>\n",
       "<style scoped>\n",
       "    .dataframe tbody tr th:only-of-type {\n",
       "        vertical-align: middle;\n",
       "    }\n",
       "\n",
       "    .dataframe tbody tr th {\n",
       "        vertical-align: top;\n",
       "    }\n",
       "\n",
       "    .dataframe thead th {\n",
       "        text-align: right;\n",
       "    }\n",
       "</style>\n",
       "<table border=\"1\" class=\"dataframe\">\n",
       "  <thead>\n",
       "    <tr style=\"text-align: right;\">\n",
       "      <th></th>\n",
       "      <th>A</th>\n",
       "      <th>B</th>\n",
       "      <th>C</th>\n",
       "    </tr>\n",
       "  </thead>\n",
       "  <tbody>\n",
       "    <tr>\n",
       "      <th>2016-01-05</th>\n",
       "      <td>e</td>\n",
       "      <td>j</td>\n",
       "      <td>o</td>\n",
       "    </tr>\n",
       "  </tbody>\n",
       "</table>\n",
       "</div>"
      ],
      "text/plain": [
       "            A  B  C\n",
       "2016-01-05  e  j  o"
      ]
     },
     "execution_count": 155,
     "metadata": {},
     "output_type": "execute_result"
    }
   ],
   "source": [
    "# Data.\n",
    "df = pd.DataFrame({'A': ['a', 'b', 'c', 'd', 'e'],\n",
    "                   'B': ['f', 'g', 'h', 'i', 'j'],\n",
    "                   'C': ['k', 'l', 'm', 'n', 'o']})\n",
    "df.index = pd.date_range(start='2016-01-01', periods=len(df), freq='D')\n",
    "display(df)\n",
    "\n",
    "# By index.\n",
    "df.truncate(before=2, after=4)\n",
    "\n",
    "# By columns.\n",
    "df.truncate(before=\"A\", after=\"B\", axis=\"columns\")\n",
    "\n",
    "# By index, Timestamp.\n",
    "df.truncate(before=pd.Timestamp('2016-01-05'),\n",
    "            after=pd.Timestamp('2016-01-10'))"
   ]
  },
  {
   "cell_type": "markdown",
   "id": "a3e64b65-22a4-45ed-b322-abf005fe034f",
   "metadata": {},
   "source": [
    "## 3.8. Compare."
   ]
  },
  {
   "cell_type": "markdown",
   "id": "0e07cf6d-7fe1-4569-bd6b-9b65040c8af6",
   "metadata": {},
   "source": [
    "```python\n",
    "Signature:\n",
    "df.compare(\n",
    "    other: 'DataFrame',\n",
    "    align_axis: 'Axis' = 1,\n",
    "    keep_shape: 'bool' = False,\n",
    "    keep_equal: 'bool' = False,\n",
    "    result_names: 'Suffixes' = ('self', 'other'),\n",
    ") -> 'DataFrame'\n",
    "\n",
    "Docstring:\n",
    "Compare to another DataFrame and show the differences.\n",
    "```"
   ]
  },
  {
   "cell_type": "code",
   "execution_count": null,
   "id": "493c08bc-e522-4ac3-b733-4dd4352c8fa1",
   "metadata": {},
   "outputs": [
    {
     "data": {
      "text/html": [
       "<div>\n",
       "<style scoped>\n",
       "    .dataframe tbody tr th:only-of-type {\n",
       "        vertical-align: middle;\n",
       "    }\n",
       "\n",
       "    .dataframe tbody tr th {\n",
       "        vertical-align: top;\n",
       "    }\n",
       "\n",
       "    .dataframe thead th {\n",
       "        text-align: right;\n",
       "    }\n",
       "</style>\n",
       "<table border=\"1\" class=\"dataframe\">\n",
       "  <thead>\n",
       "    <tr style=\"text-align: right;\">\n",
       "      <th></th>\n",
       "      <th>col1</th>\n",
       "      <th>col2</th>\n",
       "      <th>col3</th>\n",
       "    </tr>\n",
       "  </thead>\n",
       "  <tbody>\n",
       "    <tr>\n",
       "      <th>0</th>\n",
       "      <td>a</td>\n",
       "      <td>1.0</td>\n",
       "      <td>1.0</td>\n",
       "    </tr>\n",
       "    <tr>\n",
       "      <th>1</th>\n",
       "      <td>a</td>\n",
       "      <td>2.0</td>\n",
       "      <td>2.0</td>\n",
       "    </tr>\n",
       "    <tr>\n",
       "      <th>2</th>\n",
       "      <td>b</td>\n",
       "      <td>3.0</td>\n",
       "      <td>3.0</td>\n",
       "    </tr>\n",
       "    <tr>\n",
       "      <th>3</th>\n",
       "      <td>b</td>\n",
       "      <td>NaN</td>\n",
       "      <td>4.0</td>\n",
       "    </tr>\n",
       "    <tr>\n",
       "      <th>4</th>\n",
       "      <td>a</td>\n",
       "      <td>5.0</td>\n",
       "      <td>5.0</td>\n",
       "    </tr>\n",
       "  </tbody>\n",
       "</table>\n",
       "</div>"
      ],
      "text/plain": [
       "  col1  col2  col3\n",
       "0    a   1.0   1.0\n",
       "1    a   2.0   2.0\n",
       "2    b   3.0   3.0\n",
       "3    b   NaN   4.0\n",
       "4    a   5.0   5.0"
      ]
     },
     "metadata": {},
     "output_type": "display_data"
    },
    {
     "data": {
      "text/html": [
       "<div>\n",
       "<style scoped>\n",
       "    .dataframe tbody tr th:only-of-type {\n",
       "        vertical-align: middle;\n",
       "    }\n",
       "\n",
       "    .dataframe tbody tr th {\n",
       "        vertical-align: top;\n",
       "    }\n",
       "\n",
       "    .dataframe thead th {\n",
       "        text-align: right;\n",
       "    }\n",
       "</style>\n",
       "<table border=\"1\" class=\"dataframe\">\n",
       "  <thead>\n",
       "    <tr style=\"text-align: right;\">\n",
       "      <th></th>\n",
       "      <th>col1</th>\n",
       "      <th>col2</th>\n",
       "      <th>col3</th>\n",
       "    </tr>\n",
       "  </thead>\n",
       "  <tbody>\n",
       "    <tr>\n",
       "      <th>0</th>\n",
       "      <td>c</td>\n",
       "      <td>1.0</td>\n",
       "      <td>1.0</td>\n",
       "    </tr>\n",
       "    <tr>\n",
       "      <th>1</th>\n",
       "      <td>a</td>\n",
       "      <td>2.0</td>\n",
       "      <td>2.0</td>\n",
       "    </tr>\n",
       "    <tr>\n",
       "      <th>2</th>\n",
       "      <td>b</td>\n",
       "      <td>3.0</td>\n",
       "      <td>4.0</td>\n",
       "    </tr>\n",
       "    <tr>\n",
       "      <th>3</th>\n",
       "      <td>b</td>\n",
       "      <td>NaN</td>\n",
       "      <td>4.0</td>\n",
       "    </tr>\n",
       "    <tr>\n",
       "      <th>4</th>\n",
       "      <td>a</td>\n",
       "      <td>5.0</td>\n",
       "      <td>5.0</td>\n",
       "    </tr>\n",
       "  </tbody>\n",
       "</table>\n",
       "</div>"
      ],
      "text/plain": [
       "  col1  col2  col3\n",
       "0    c   1.0   1.0\n",
       "1    a   2.0   2.0\n",
       "2    b   3.0   4.0\n",
       "3    b   NaN   4.0\n",
       "4    a   5.0   5.0"
      ]
     },
     "metadata": {},
     "output_type": "display_data"
    },
    {
     "data": {
      "text/html": [
       "<div>\n",
       "<style scoped>\n",
       "    .dataframe tbody tr th:only-of-type {\n",
       "        vertical-align: middle;\n",
       "    }\n",
       "\n",
       "    .dataframe tbody tr th {\n",
       "        vertical-align: top;\n",
       "    }\n",
       "\n",
       "    .dataframe thead th {\n",
       "        text-align: right;\n",
       "    }\n",
       "</style>\n",
       "<table border=\"1\" class=\"dataframe\">\n",
       "  <thead>\n",
       "    <tr style=\"text-align: right;\">\n",
       "      <th></th>\n",
       "      <th></th>\n",
       "      <th>col1</th>\n",
       "      <th>col2</th>\n",
       "      <th>col3</th>\n",
       "    </tr>\n",
       "  </thead>\n",
       "  <tbody>\n",
       "    <tr>\n",
       "      <th rowspan=\"2\" valign=\"top\">0</th>\n",
       "      <th>df</th>\n",
       "      <td>a</td>\n",
       "      <td>1.0</td>\n",
       "      <td>1.0</td>\n",
       "    </tr>\n",
       "    <tr>\n",
       "      <th>df2</th>\n",
       "      <td>c</td>\n",
       "      <td>1.0</td>\n",
       "      <td>1.0</td>\n",
       "    </tr>\n",
       "    <tr>\n",
       "      <th rowspan=\"2\" valign=\"top\">1</th>\n",
       "      <th>df</th>\n",
       "      <td>a</td>\n",
       "      <td>2.0</td>\n",
       "      <td>2.0</td>\n",
       "    </tr>\n",
       "    <tr>\n",
       "      <th>df2</th>\n",
       "      <td>a</td>\n",
       "      <td>2.0</td>\n",
       "      <td>2.0</td>\n",
       "    </tr>\n",
       "    <tr>\n",
       "      <th rowspan=\"2\" valign=\"top\">2</th>\n",
       "      <th>df</th>\n",
       "      <td>b</td>\n",
       "      <td>3.0</td>\n",
       "      <td>3.0</td>\n",
       "    </tr>\n",
       "    <tr>\n",
       "      <th>df2</th>\n",
       "      <td>b</td>\n",
       "      <td>3.0</td>\n",
       "      <td>4.0</td>\n",
       "    </tr>\n",
       "    <tr>\n",
       "      <th rowspan=\"2\" valign=\"top\">3</th>\n",
       "      <th>df</th>\n",
       "      <td>b</td>\n",
       "      <td>NaN</td>\n",
       "      <td>4.0</td>\n",
       "    </tr>\n",
       "    <tr>\n",
       "      <th>df2</th>\n",
       "      <td>b</td>\n",
       "      <td>NaN</td>\n",
       "      <td>4.0</td>\n",
       "    </tr>\n",
       "    <tr>\n",
       "      <th rowspan=\"2\" valign=\"top\">4</th>\n",
       "      <th>df</th>\n",
       "      <td>a</td>\n",
       "      <td>5.0</td>\n",
       "      <td>5.0</td>\n",
       "    </tr>\n",
       "    <tr>\n",
       "      <th>df2</th>\n",
       "      <td>a</td>\n",
       "      <td>5.0</td>\n",
       "      <td>5.0</td>\n",
       "    </tr>\n",
       "  </tbody>\n",
       "</table>\n",
       "</div>"
      ],
      "text/plain": [
       "      col1  col2  col3\n",
       "0 df     a   1.0   1.0\n",
       "  df2    c   1.0   1.0\n",
       "1 df     a   2.0   2.0\n",
       "  df2    a   2.0   2.0\n",
       "2 df     b   3.0   3.0\n",
       "  df2    b   3.0   4.0\n",
       "3 df     b   NaN   4.0\n",
       "  df2    b   NaN   4.0\n",
       "4 df     a   5.0   5.0\n",
       "  df2    a   5.0   5.0"
      ]
     },
     "execution_count": 156,
     "metadata": {},
     "output_type": "execute_result"
    }
   ],
   "source": [
    "df = pd.DataFrame(\n",
    "    {\n",
    "        \"col1\": [\"a\", \"a\", \"b\", \"b\", \"a\"],\n",
    "        \"col2\": [1.0, 2.0, 3.0, np.nan, 5.0],\n",
    "        \"col3\": [1.0, 2.0, 3.0, 4.0, 5.0]\n",
    "    },\n",
    "    columns=[\"col1\", \"col2\", \"col3\"],\n",
    ")\n",
    "display(df)\n",
    "\n",
    "df2 = df.copy()\n",
    "df2.loc[0, 'col1'] = 'c'\n",
    "df2.loc[2, 'col3'] = 4.0\n",
    "display(df2)\n",
    "\n",
    "df.compare(df2, \n",
    "           result_names   = ('df', 'df2'), \n",
    "           align_axis     = 0,                 # print on the index.\n",
    "           keep_equal     = True,              # keep equal values instead of NaN.\n",
    "           keep_shape     = True)              "
   ]
  },
  {
   "cell_type": "markdown",
   "id": "d72fd88b-a078-43c0-b99c-db4b1ab3a86b",
   "metadata": {},
   "source": [
    "# 4. Manipulation."
   ]
  },
  {
   "cell_type": "markdown",
   "id": "c97b37b4-7a93-47a9-b7d2-ab5cc720e1ca",
   "metadata": {},
   "source": [
    "## 4.1. Append."
   ]
  },
  {
   "cell_type": "code",
   "execution_count": null,
   "id": "fed36b4a-41be-4f7f-94f2-32f29a2cc10f",
   "metadata": {},
   "outputs": [
    {
     "data": {
      "text/html": [
       "<div>\n",
       "<style scoped>\n",
       "    .dataframe tbody tr th:only-of-type {\n",
       "        vertical-align: middle;\n",
       "    }\n",
       "\n",
       "    .dataframe tbody tr th {\n",
       "        vertical-align: top;\n",
       "    }\n",
       "\n",
       "    .dataframe thead th {\n",
       "        text-align: right;\n",
       "    }\n",
       "</style>\n",
       "<table border=\"1\" class=\"dataframe\">\n",
       "  <thead>\n",
       "    <tr style=\"text-align: right;\">\n",
       "      <th></th>\n",
       "      <th>col1</th>\n",
       "      <th>col2</th>\n",
       "      <th>col3</th>\n",
       "    </tr>\n",
       "  </thead>\n",
       "  <tbody>\n",
       "    <tr>\n",
       "      <th>0</th>\n",
       "      <td>a</td>\n",
       "      <td>1.0</td>\n",
       "      <td>1.0</td>\n",
       "    </tr>\n",
       "    <tr>\n",
       "      <th>1</th>\n",
       "      <td>a</td>\n",
       "      <td>2.0</td>\n",
       "      <td>2.0</td>\n",
       "    </tr>\n",
       "    <tr>\n",
       "      <th>2</th>\n",
       "      <td>b</td>\n",
       "      <td>3.0</td>\n",
       "      <td>3.0</td>\n",
       "    </tr>\n",
       "    <tr>\n",
       "      <th>3</th>\n",
       "      <td>b</td>\n",
       "      <td>NaN</td>\n",
       "      <td>4.0</td>\n",
       "    </tr>\n",
       "    <tr>\n",
       "      <th>4</th>\n",
       "      <td>a</td>\n",
       "      <td>5.0</td>\n",
       "      <td>5.0</td>\n",
       "    </tr>\n",
       "  </tbody>\n",
       "</table>\n",
       "</div>"
      ],
      "text/plain": [
       "  col1  col2  col3\n",
       "0    a   1.0   1.0\n",
       "1    a   2.0   2.0\n",
       "2    b   3.0   3.0\n",
       "3    b   NaN   4.0\n",
       "4    a   5.0   5.0"
      ]
     },
     "execution_count": 157,
     "metadata": {},
     "output_type": "execute_result"
    }
   ],
   "source": [
    "df"
   ]
  },
  {
   "cell_type": "code",
   "execution_count": null,
   "id": "d2cdcd54-93dd-4b67-a728-aa1c9ab6607e",
   "metadata": {},
   "outputs": [
    {
     "data": {
      "text/html": [
       "<div>\n",
       "<style scoped>\n",
       "    .dataframe tbody tr th:only-of-type {\n",
       "        vertical-align: middle;\n",
       "    }\n",
       "\n",
       "    .dataframe tbody tr th {\n",
       "        vertical-align: top;\n",
       "    }\n",
       "\n",
       "    .dataframe thead th {\n",
       "        text-align: right;\n",
       "    }\n",
       "</style>\n",
       "<table border=\"1\" class=\"dataframe\">\n",
       "  <thead>\n",
       "    <tr style=\"text-align: right;\">\n",
       "      <th></th>\n",
       "      <th>A</th>\n",
       "      <th>C</th>\n",
       "      <th>B</th>\n",
       "    </tr>\n",
       "  </thead>\n",
       "  <tbody>\n",
       "    <tr>\n",
       "      <th>0</th>\n",
       "      <td>False</td>\n",
       "      <td>0.666667</td>\n",
       "      <td>3</td>\n",
       "    </tr>\n",
       "    <tr>\n",
       "      <th>1</th>\n",
       "      <td>True</td>\n",
       "      <td>0.666667</td>\n",
       "      <td>4</td>\n",
       "    </tr>\n",
       "    <tr>\n",
       "      <th>2</th>\n",
       "      <td>True</td>\n",
       "      <td>0.666667</td>\n",
       "      <td>5</td>\n",
       "    </tr>\n",
       "    <tr>\n",
       "      <th>3</th>\n",
       "      <td>False</td>\n",
       "      <td>0.666667</td>\n",
       "      <td>3</td>\n",
       "    </tr>\n",
       "    <tr>\n",
       "      <th>4</th>\n",
       "      <td>True</td>\n",
       "      <td>0.666667</td>\n",
       "      <td>4</td>\n",
       "    </tr>\n",
       "    <tr>\n",
       "      <th>5</th>\n",
       "      <td>True</td>\n",
       "      <td>0.666667</td>\n",
       "      <td>5</td>\n",
       "    </tr>\n",
       "  </tbody>\n",
       "</table>\n",
       "</div>"
      ],
      "text/plain": [
       "       A         C  B\n",
       "0  False  0.666667  3\n",
       "1   True  0.666667  4\n",
       "2   True  0.666667  5\n",
       "3  False  0.666667  3\n",
       "4   True  0.666667  4\n",
       "5   True  0.666667  5"
      ]
     },
     "execution_count": 158,
     "metadata": {},
     "output_type": "execute_result"
    }
   ],
   "source": [
    "df = pd.DataFrame({\n",
    "    'A': [0, 1, 2],\n",
    "    'B': [3, 4, 5]\n",
    "})\n",
    "\n",
    "# Add column, at last.\n",
    "df['A'] = df['A'].astype(bool)\n",
    "\n",
    "# Add column, at specific location.\n",
    "df.insert(1, 'C', df['A'].mean())    # between 0 and 1. change the original df!\n",
    "\n",
    "# Add row.\n",
    "new_rows = df.tail(3)\n",
    "pd.concat([df, new_rows], ignore_index=True)   # allocate a new index."
   ]
  },
  {
   "cell_type": "markdown",
   "id": "3301cfbe-65f0-47c1-8c87-3839bad0e5c4",
   "metadata": {},
   "source": [
    "## 4.2. Delete."
   ]
  },
  {
   "cell_type": "markdown",
   "id": "511f1bfe-b242-47d3-93d5-d5c59ec8a9fa",
   "metadata": {},
   "source": [
    "### 4.2.1. Drop Columns."
   ]
  },
  {
   "cell_type": "code",
   "execution_count": null,
   "id": "61ddb622-ee60-46b4-ac8d-2ef64a5fb059",
   "metadata": {},
   "outputs": [
    {
     "data": {
      "text/plain": [
       "0    3\n",
       "1    4\n",
       "2    5\n",
       "Name: B, dtype: int64"
      ]
     },
     "execution_count": 159,
     "metadata": {},
     "output_type": "execute_result"
    }
   ],
   "source": [
    "# df.drop().\n",
    "df.drop(columns=['C'], inplace=True)\n",
    "\n",
    "# df.pop(). Only single column name allowed.\n",
    "df.pop('B') "
   ]
  },
  {
   "cell_type": "markdown",
   "id": "b9c2521e-fc9e-482d-914e-757179f1f3e5",
   "metadata": {},
   "source": [
    "### 4.2.2. Drop Rows."
   ]
  },
  {
   "cell_type": "code",
   "execution_count": null,
   "id": "75ee0ab8-9b89-40d4-a7e9-25fba8a5b795",
   "metadata": {},
   "outputs": [
    {
     "data": {
      "text/html": [
       "<div>\n",
       "<style scoped>\n",
       "    .dataframe tbody tr th:only-of-type {\n",
       "        vertical-align: middle;\n",
       "    }\n",
       "\n",
       "    .dataframe tbody tr th {\n",
       "        vertical-align: top;\n",
       "    }\n",
       "\n",
       "    .dataframe thead th {\n",
       "        text-align: right;\n",
       "    }\n",
       "</style>\n",
       "<table border=\"1\" class=\"dataframe\">\n",
       "  <thead>\n",
       "    <tr style=\"text-align: right;\">\n",
       "      <th></th>\n",
       "      <th>A</th>\n",
       "    </tr>\n",
       "  </thead>\n",
       "  <tbody>\n",
       "    <tr>\n",
       "      <th>0</th>\n",
       "      <td>False</td>\n",
       "    </tr>\n",
       "  </tbody>\n",
       "</table>\n",
       "</div>"
      ],
      "text/plain": [
       "       A\n",
       "0  False"
      ]
     },
     "execution_count": 160,
     "metadata": {},
     "output_type": "execute_result"
    }
   ],
   "source": [
    "df.drop(index=df.tail(2).index)"
   ]
  },
  {
   "cell_type": "markdown",
   "id": "3754453d-5408-4689-9119-b8a12b452e45",
   "metadata": {},
   "source": [
    "### 4.2.3. Drop Duplicates."
   ]
  },
  {
   "cell_type": "code",
   "execution_count": null,
   "id": "5be82ea4-05be-4cf8-8391-72cdc1cb1d79",
   "metadata": {},
   "outputs": [
    {
     "data": {
      "text/html": [
       "<div>\n",
       "<style scoped>\n",
       "    .dataframe tbody tr th:only-of-type {\n",
       "        vertical-align: middle;\n",
       "    }\n",
       "\n",
       "    .dataframe tbody tr th {\n",
       "        vertical-align: top;\n",
       "    }\n",
       "\n",
       "    .dataframe thead th {\n",
       "        text-align: right;\n",
       "    }\n",
       "</style>\n",
       "<table border=\"1\" class=\"dataframe\">\n",
       "  <thead>\n",
       "    <tr style=\"text-align: right;\">\n",
       "      <th></th>\n",
       "      <th>A</th>\n",
       "    </tr>\n",
       "  </thead>\n",
       "  <tbody>\n",
       "    <tr>\n",
       "      <th>0</th>\n",
       "      <td>False</td>\n",
       "    </tr>\n",
       "    <tr>\n",
       "      <th>1</th>\n",
       "      <td>True</td>\n",
       "    </tr>\n",
       "  </tbody>\n",
       "</table>\n",
       "</div>"
      ],
      "text/plain": [
       "       A\n",
       "0  False\n",
       "1   True"
      ]
     },
     "execution_count": 161,
     "metadata": {},
     "output_type": "execute_result"
    }
   ],
   "source": [
    "df.drop_duplicates(subset         = ['A'],\n",
    "                   keep           = 'first',     # {'first', 'last'}.\n",
    "                   inplace        = False,\n",
    "                   ignore_index   = False)"
   ]
  },
  {
   "cell_type": "markdown",
   "id": "3d9fc2d9-3ea6-4dbc-8f61-0e6cdde8ba51",
   "metadata": {},
   "source": [
    "## 4.3. Merge."
   ]
  },
  {
   "cell_type": "markdown",
   "id": "001a2513-cd27-4f8a-be5a-c1909a720668",
   "metadata": {},
   "source": [
    "### 4.3.1. `df.combine()` : Overwrite."
   ]
  },
  {
   "cell_type": "code",
   "execution_count": null,
   "id": "2de04c2d-a82e-4b9d-88f7-485748f9346f",
   "metadata": {},
   "outputs": [
    {
     "data": {
      "text/html": [
       "<div>\n",
       "<style scoped>\n",
       "    .dataframe tbody tr th:only-of-type {\n",
       "        vertical-align: middle;\n",
       "    }\n",
       "\n",
       "    .dataframe tbody tr th {\n",
       "        vertical-align: top;\n",
       "    }\n",
       "\n",
       "    .dataframe thead th {\n",
       "        text-align: right;\n",
       "    }\n",
       "</style>\n",
       "<table border=\"1\" class=\"dataframe\">\n",
       "  <thead>\n",
       "    <tr style=\"text-align: right;\">\n",
       "      <th></th>\n",
       "      <th>A</th>\n",
       "    </tr>\n",
       "  </thead>\n",
       "  <tbody>\n",
       "    <tr>\n",
       "      <th>0</th>\n",
       "      <td>False</td>\n",
       "    </tr>\n",
       "    <tr>\n",
       "      <th>1</th>\n",
       "      <td>True</td>\n",
       "    </tr>\n",
       "    <tr>\n",
       "      <th>2</th>\n",
       "      <td>True</td>\n",
       "    </tr>\n",
       "  </tbody>\n",
       "</table>\n",
       "</div>"
      ],
      "text/plain": [
       "       A\n",
       "0  False\n",
       "1   True\n",
       "2   True"
      ]
     },
     "execution_count": 162,
     "metadata": {},
     "output_type": "execute_result"
    }
   ],
   "source": [
    "# Create df2, where 'temperature' is fah.\n",
    "df2 = df.copy()\n",
    "df2['A'] = df['A'] * 9/5 + 32\n",
    "\n",
    "# If df['rainfall'] == 1, replace that row with df2.\n",
    "def select_temp(col1, col2):\n",
    "    return col1.mask(df['A'] == 1, col2)\n",
    "df.combine(df2, select_temp)\n",
    "\n",
    "# Overwrite any null in df with df2.\n",
    "df.combine_first(df2)"
   ]
  },
  {
   "cell_type": "markdown",
   "id": "45827433-44ae-451f-9858-21a0c1518e14",
   "metadata": {},
   "source": [
    "### 4.3.2. `df.align()` : by Column or Index."
   ]
  },
  {
   "cell_type": "code",
   "execution_count": null,
   "id": "eeec1f9e-3572-41d7-b35c-777e56952bad",
   "metadata": {},
   "outputs": [
    {
     "name": "stdout",
     "output_type": "stream",
     "text": [
      "# Data.\n",
      "   D  B  E  A\n",
      "1  1  2  3  4\n",
      "2  6  7  8  9 \n",
      "\n",
      "     A    B    C    D\n",
      "2   10   20   30   40\n",
      "3   60   70   80   90\n",
      "4  600  700  800  900 \n",
      "\n",
      "# On columns.\n",
      "   A  B   C  D  E\n",
      "1  4  2 NaN  1  3\n",
      "2  9  7 NaN  6  8 \n",
      "\n",
      "     A    B    C    D   E\n",
      "2   10   20   30   40 NaN\n",
      "3   60   70   80   90 NaN\n",
      "4  600  700  800  900 NaN \n",
      "\n",
      "# On the index.\n",
      "     D    B    E    A\n",
      "1  1.0  2.0  3.0  4.0\n",
      "2  6.0  7.0  8.0  9.0\n",
      "3  NaN  NaN  NaN  NaN\n",
      "4  NaN  NaN  NaN  NaN \n",
      "\n",
      "       A      B      C      D\n",
      "1    NaN    NaN    NaN    NaN\n",
      "2   10.0   20.0   30.0   40.0\n",
      "3   60.0   70.0   80.0   90.0\n",
      "4  600.0  700.0  800.0  900.0 \n",
      "\n",
      "# On both.\n",
      "     A    B   C    D    E\n",
      "1  4.0  2.0 NaN  1.0  3.0\n",
      "2  9.0  7.0 NaN  6.0  8.0\n",
      "3  NaN  NaN NaN  NaN  NaN\n",
      "4  NaN  NaN NaN  NaN  NaN \n",
      "\n",
      "       A      B      C      D   E\n",
      "1    NaN    NaN    NaN    NaN NaN\n",
      "2   10.0   20.0   30.0   40.0 NaN\n",
      "3   60.0   70.0   80.0   90.0 NaN\n",
      "4  600.0  700.0  800.0  900.0 NaN \n",
      "\n"
     ]
    }
   ],
   "source": [
    "df = pd.DataFrame(\n",
    "    [[1, 2, 3, 4], [6, 7, 8, 9]], columns=[\"D\", \"B\", \"E\", \"A\"], index=[1, 2]\n",
    ")\n",
    "other = pd.DataFrame(\n",
    "    [[10, 20, 30, 40], [60, 70, 80, 90], [600, 700, 800, 900]],\n",
    "    columns=[\"A\", \"B\", \"C\", \"D\"],\n",
    "    index=[2, 3, 4],\n",
    ")\n",
    "\n",
    "print('# Data.')\n",
    "print(df, '\\n')\n",
    "print(other, '\\n')\n",
    "\n",
    "# Align on columns.\n",
    "left, right = df.align(other, join=\"outer\", axis=1)\n",
    "print('# On columns.')\n",
    "print(left, '\\n')\n",
    "print(right, '\\n')\n",
    "\n",
    "# Align on the index.\n",
    "left, right = df.align(other, join=\"outer\", axis=0)\n",
    "print('# On the index.')\n",
    "print(left, '\\n')\n",
    "print(right, '\\n')\n",
    "\n",
    "# Align on both columns and the index.\n",
    "left, right = df.align(other, join=\"outer\", axis=None)\n",
    "print('# On both.')\n",
    "print(left, '\\n')\n",
    "print(right, '\\n')"
   ]
  },
  {
   "cell_type": "markdown",
   "id": "b5cce20e-f9e9-4901-b067-bba0885134e8",
   "metadata": {},
   "source": [
    "### 4.3.3. `df.reindex_like()` : Reindex with given df."
   ]
  },
  {
   "cell_type": "code",
   "execution_count": null,
   "id": "637ae89e-a6dc-4d94-b63b-0ec773aee462",
   "metadata": {},
   "outputs": [
    {
     "name": "stdout",
     "output_type": "stream",
     "text": [
      "            temp_celsius  temp_fahrenheit windspeed\n",
      "2014-02-12          24.3             75.7      high\n",
      "2014-02-13          31.0             87.8      high\n",
      "2014-02-14          22.0             71.6    medium\n",
      "2014-02-15          35.0             95.0    medium \n",
      "\n",
      "            temp_celsius windspeed\n",
      "2014-02-12          28.0       low\n",
      "2014-02-13          30.0       low\n",
      "2014-02-15          35.1    medium \n",
      "\n"
     ]
    },
    {
     "data": {
      "text/html": [
       "<div>\n",
       "<style scoped>\n",
       "    .dataframe tbody tr th:only-of-type {\n",
       "        vertical-align: middle;\n",
       "    }\n",
       "\n",
       "    .dataframe tbody tr th {\n",
       "        vertical-align: top;\n",
       "    }\n",
       "\n",
       "    .dataframe thead th {\n",
       "        text-align: right;\n",
       "    }\n",
       "</style>\n",
       "<table border=\"1\" class=\"dataframe\">\n",
       "  <thead>\n",
       "    <tr style=\"text-align: right;\">\n",
       "      <th></th>\n",
       "      <th>temp_celsius</th>\n",
       "      <th>temp_fahrenheit</th>\n",
       "      <th>windspeed</th>\n",
       "    </tr>\n",
       "  </thead>\n",
       "  <tbody>\n",
       "    <tr>\n",
       "      <th>2014-02-12</th>\n",
       "      <td>28.0</td>\n",
       "      <td>NaN</td>\n",
       "      <td>low</td>\n",
       "    </tr>\n",
       "    <tr>\n",
       "      <th>2014-02-13</th>\n",
       "      <td>30.0</td>\n",
       "      <td>NaN</td>\n",
       "      <td>low</td>\n",
       "    </tr>\n",
       "    <tr>\n",
       "      <th>2014-02-14</th>\n",
       "      <td>NaN</td>\n",
       "      <td>NaN</td>\n",
       "      <td>NaN</td>\n",
       "    </tr>\n",
       "    <tr>\n",
       "      <th>2014-02-15</th>\n",
       "      <td>35.1</td>\n",
       "      <td>NaN</td>\n",
       "      <td>medium</td>\n",
       "    </tr>\n",
       "  </tbody>\n",
       "</table>\n",
       "</div>"
      ],
      "text/plain": [
       "            temp_celsius  temp_fahrenheit windspeed\n",
       "2014-02-12          28.0              NaN       low\n",
       "2014-02-13          30.0              NaN       low\n",
       "2014-02-14           NaN              NaN       NaN\n",
       "2014-02-15          35.1              NaN    medium"
      ]
     },
     "execution_count": 164,
     "metadata": {},
     "output_type": "execute_result"
    }
   ],
   "source": [
    "df1 = pd.DataFrame([[24.3, 75.7, 'high'],\n",
    "                    [31, 87.8, 'high'],\n",
    "                    [22, 71.6, 'medium'],\n",
    "                    [35, 95, 'medium']],\n",
    "                   columns=['temp_celsius', 'temp_fahrenheit',\n",
    "                            'windspeed'],\n",
    "                   index=pd.date_range(start='2014-02-12',\n",
    "                                       end='2014-02-15', freq='D'))\n",
    "print(df1, '\\n')\n",
    "\n",
    "df2 = pd.DataFrame([[28, 'low'],\n",
    "                    [30, 'low'],\n",
    "                    [35.1, 'medium']],\n",
    "                   columns=['temp_celsius', 'windspeed'],\n",
    "                   index=pd.DatetimeIndex(['2014-02-12', '2014-02-13',\n",
    "                                           '2014-02-15']))\n",
    "print(df2, '\\n')\n",
    "\n",
    "df2.reindex_like(df1)"
   ]
  },
  {
   "cell_type": "markdown",
   "id": "24b78d5d-67dd-4fd5-b55c-826449c30e97",
   "metadata": {},
   "source": [
    "### 4.3.4. `df.join()`: merge with the same `key` column."
   ]
  },
  {
   "cell_type": "code",
   "execution_count": null,
   "id": "6e5c1ede-6f21-45b3-ad24-63ff98fb6c40",
   "metadata": {},
   "outputs": [
    {
     "data": {
      "text/html": [
       "<div>\n",
       "<style scoped>\n",
       "    .dataframe tbody tr th:only-of-type {\n",
       "        vertical-align: middle;\n",
       "    }\n",
       "\n",
       "    .dataframe tbody tr th {\n",
       "        vertical-align: top;\n",
       "    }\n",
       "\n",
       "    .dataframe thead th {\n",
       "        text-align: right;\n",
       "    }\n",
       "</style>\n",
       "<table border=\"1\" class=\"dataframe\">\n",
       "  <thead>\n",
       "    <tr style=\"text-align: right;\">\n",
       "      <th></th>\n",
       "      <th>key</th>\n",
       "      <th>A</th>\n",
       "    </tr>\n",
       "  </thead>\n",
       "  <tbody>\n",
       "    <tr>\n",
       "      <th>0</th>\n",
       "      <td>K0</td>\n",
       "      <td>A0</td>\n",
       "    </tr>\n",
       "    <tr>\n",
       "      <th>1</th>\n",
       "      <td>K1</td>\n",
       "      <td>A1</td>\n",
       "    </tr>\n",
       "    <tr>\n",
       "      <th>2</th>\n",
       "      <td>K2</td>\n",
       "      <td>A2</td>\n",
       "    </tr>\n",
       "    <tr>\n",
       "      <th>3</th>\n",
       "      <td>K3</td>\n",
       "      <td>A3</td>\n",
       "    </tr>\n",
       "    <tr>\n",
       "      <th>4</th>\n",
       "      <td>K4</td>\n",
       "      <td>A4</td>\n",
       "    </tr>\n",
       "    <tr>\n",
       "      <th>5</th>\n",
       "      <td>K5</td>\n",
       "      <td>A5</td>\n",
       "    </tr>\n",
       "  </tbody>\n",
       "</table>\n",
       "</div>"
      ],
      "text/plain": [
       "  key   A\n",
       "0  K0  A0\n",
       "1  K1  A1\n",
       "2  K2  A2\n",
       "3  K3  A3\n",
       "4  K4  A4\n",
       "5  K5  A5"
      ]
     },
     "metadata": {},
     "output_type": "display_data"
    },
    {
     "data": {
      "text/html": [
       "<div>\n",
       "<style scoped>\n",
       "    .dataframe tbody tr th:only-of-type {\n",
       "        vertical-align: middle;\n",
       "    }\n",
       "\n",
       "    .dataframe tbody tr th {\n",
       "        vertical-align: top;\n",
       "    }\n",
       "\n",
       "    .dataframe thead th {\n",
       "        text-align: right;\n",
       "    }\n",
       "</style>\n",
       "<table border=\"1\" class=\"dataframe\">\n",
       "  <thead>\n",
       "    <tr style=\"text-align: right;\">\n",
       "      <th></th>\n",
       "      <th>key</th>\n",
       "      <th>B</th>\n",
       "    </tr>\n",
       "  </thead>\n",
       "  <tbody>\n",
       "    <tr>\n",
       "      <th>0</th>\n",
       "      <td>K0</td>\n",
       "      <td>B0</td>\n",
       "    </tr>\n",
       "    <tr>\n",
       "      <th>1</th>\n",
       "      <td>K1</td>\n",
       "      <td>B1</td>\n",
       "    </tr>\n",
       "    <tr>\n",
       "      <th>2</th>\n",
       "      <td>K2</td>\n",
       "      <td>B2</td>\n",
       "    </tr>\n",
       "  </tbody>\n",
       "</table>\n",
       "</div>"
      ],
      "text/plain": [
       "  key   B\n",
       "0  K0  B0\n",
       "1  K1  B1\n",
       "2  K2  B2"
      ]
     },
     "metadata": {},
     "output_type": "display_data"
    },
    {
     "data": {
      "text/html": [
       "<div>\n",
       "<style scoped>\n",
       "    .dataframe tbody tr th:only-of-type {\n",
       "        vertical-align: middle;\n",
       "    }\n",
       "\n",
       "    .dataframe tbody tr th {\n",
       "        vertical-align: top;\n",
       "    }\n",
       "\n",
       "    .dataframe thead th {\n",
       "        text-align: right;\n",
       "    }\n",
       "</style>\n",
       "<table border=\"1\" class=\"dataframe\">\n",
       "  <thead>\n",
       "    <tr style=\"text-align: right;\">\n",
       "      <th></th>\n",
       "      <th>key</th>\n",
       "      <th>A</th>\n",
       "      <th>B</th>\n",
       "    </tr>\n",
       "  </thead>\n",
       "  <tbody>\n",
       "    <tr>\n",
       "      <th>0</th>\n",
       "      <td>K0</td>\n",
       "      <td>A0</td>\n",
       "      <td>B0</td>\n",
       "    </tr>\n",
       "    <tr>\n",
       "      <th>1</th>\n",
       "      <td>K1</td>\n",
       "      <td>A1</td>\n",
       "      <td>B1</td>\n",
       "    </tr>\n",
       "    <tr>\n",
       "      <th>2</th>\n",
       "      <td>K2</td>\n",
       "      <td>A2</td>\n",
       "      <td>B2</td>\n",
       "    </tr>\n",
       "    <tr>\n",
       "      <th>3</th>\n",
       "      <td>K3</td>\n",
       "      <td>A3</td>\n",
       "      <td>NaN</td>\n",
       "    </tr>\n",
       "    <tr>\n",
       "      <th>4</th>\n",
       "      <td>K4</td>\n",
       "      <td>A4</td>\n",
       "      <td>NaN</td>\n",
       "    </tr>\n",
       "    <tr>\n",
       "      <th>5</th>\n",
       "      <td>K5</td>\n",
       "      <td>A5</td>\n",
       "      <td>NaN</td>\n",
       "    </tr>\n",
       "  </tbody>\n",
       "</table>\n",
       "</div>"
      ],
      "text/plain": [
       "  key   A    B\n",
       "0  K0  A0   B0\n",
       "1  K1  A1   B1\n",
       "2  K2  A2   B2\n",
       "3  K3  A3  NaN\n",
       "4  K4  A4  NaN\n",
       "5  K5  A5  NaN"
      ]
     },
     "execution_count": 165,
     "metadata": {},
     "output_type": "execute_result"
    }
   ],
   "source": [
    "df = pd.DataFrame({'key': ['K0', 'K1', 'K2', 'K3', 'K4', 'K5'],\n",
    "                   'A': ['A0', 'A1', 'A2', 'A3', 'A4', 'A5']})\n",
    "other = pd.DataFrame({'key': ['K0', 'K1', 'K2'],\n",
    "                      'B': ['B0', 'B1', 'B2']})\n",
    "display(df)\n",
    "display(other)\n",
    "\n",
    "df.join(other.set_index('key'), on='key')"
   ]
  },
  {
   "cell_type": "markdown",
   "id": "bd395761-094c-43fe-b174-a5e697ef202e",
   "metadata": {},
   "source": [
    "### 4.3.5. `df.merge()`: merge with various `key` and selections."
   ]
  },
  {
   "cell_type": "code",
   "execution_count": null,
   "id": "ebf69a5e-9565-49d3-b990-e38eb0366513",
   "metadata": {},
   "outputs": [
    {
     "data": {
      "text/html": [
       "<div>\n",
       "<style scoped>\n",
       "    .dataframe tbody tr th:only-of-type {\n",
       "        vertical-align: middle;\n",
       "    }\n",
       "\n",
       "    .dataframe tbody tr th {\n",
       "        vertical-align: top;\n",
       "    }\n",
       "\n",
       "    .dataframe thead th {\n",
       "        text-align: right;\n",
       "    }\n",
       "</style>\n",
       "<table border=\"1\" class=\"dataframe\">\n",
       "  <thead>\n",
       "    <tr style=\"text-align: right;\">\n",
       "      <th></th>\n",
       "      <th>a</th>\n",
       "      <th>b</th>\n",
       "    </tr>\n",
       "  </thead>\n",
       "  <tbody>\n",
       "    <tr>\n",
       "      <th>0</th>\n",
       "      <td>foo</td>\n",
       "      <td>1</td>\n",
       "    </tr>\n",
       "    <tr>\n",
       "      <th>1</th>\n",
       "      <td>bar</td>\n",
       "      <td>2</td>\n",
       "    </tr>\n",
       "  </tbody>\n",
       "</table>\n",
       "</div>"
      ],
      "text/plain": [
       "     a  b\n",
       "0  foo  1\n",
       "1  bar  2"
      ]
     },
     "metadata": {},
     "output_type": "display_data"
    },
    {
     "data": {
      "text/html": [
       "<div>\n",
       "<style scoped>\n",
       "    .dataframe tbody tr th:only-of-type {\n",
       "        vertical-align: middle;\n",
       "    }\n",
       "\n",
       "    .dataframe tbody tr th {\n",
       "        vertical-align: top;\n",
       "    }\n",
       "\n",
       "    .dataframe thead th {\n",
       "        text-align: right;\n",
       "    }\n",
       "</style>\n",
       "<table border=\"1\" class=\"dataframe\">\n",
       "  <thead>\n",
       "    <tr style=\"text-align: right;\">\n",
       "      <th></th>\n",
       "      <th>a</th>\n",
       "      <th>c</th>\n",
       "    </tr>\n",
       "  </thead>\n",
       "  <tbody>\n",
       "    <tr>\n",
       "      <th>0</th>\n",
       "      <td>foo</td>\n",
       "      <td>3</td>\n",
       "    </tr>\n",
       "    <tr>\n",
       "      <th>1</th>\n",
       "      <td>baz</td>\n",
       "      <td>4</td>\n",
       "    </tr>\n",
       "  </tbody>\n",
       "</table>\n",
       "</div>"
      ],
      "text/plain": [
       "     a  c\n",
       "0  foo  3\n",
       "1  baz  4"
      ]
     },
     "metadata": {},
     "output_type": "display_data"
    },
    {
     "data": {
      "text/html": [
       "<div>\n",
       "<style scoped>\n",
       "    .dataframe tbody tr th:only-of-type {\n",
       "        vertical-align: middle;\n",
       "    }\n",
       "\n",
       "    .dataframe tbody tr th {\n",
       "        vertical-align: top;\n",
       "    }\n",
       "\n",
       "    .dataframe thead th {\n",
       "        text-align: right;\n",
       "    }\n",
       "</style>\n",
       "<table border=\"1\" class=\"dataframe\">\n",
       "  <thead>\n",
       "    <tr style=\"text-align: right;\">\n",
       "      <th></th>\n",
       "      <th>a</th>\n",
       "      <th>b</th>\n",
       "      <th>c</th>\n",
       "    </tr>\n",
       "  </thead>\n",
       "  <tbody>\n",
       "    <tr>\n",
       "      <th>0</th>\n",
       "      <td>foo</td>\n",
       "      <td>1</td>\n",
       "      <td>3</td>\n",
       "    </tr>\n",
       "  </tbody>\n",
       "</table>\n",
       "</div>"
      ],
      "text/plain": [
       "     a  b  c\n",
       "0  foo  1  3"
      ]
     },
     "metadata": {},
     "output_type": "display_data"
    },
    {
     "data": {
      "text/html": [
       "<div>\n",
       "<style scoped>\n",
       "    .dataframe tbody tr th:only-of-type {\n",
       "        vertical-align: middle;\n",
       "    }\n",
       "\n",
       "    .dataframe tbody tr th {\n",
       "        vertical-align: top;\n",
       "    }\n",
       "\n",
       "    .dataframe thead th {\n",
       "        text-align: right;\n",
       "    }\n",
       "</style>\n",
       "<table border=\"1\" class=\"dataframe\">\n",
       "  <thead>\n",
       "    <tr style=\"text-align: right;\">\n",
       "      <th></th>\n",
       "      <th>a</th>\n",
       "      <th>b</th>\n",
       "      <th>c</th>\n",
       "    </tr>\n",
       "  </thead>\n",
       "  <tbody>\n",
       "    <tr>\n",
       "      <th>0</th>\n",
       "      <td>foo</td>\n",
       "      <td>1</td>\n",
       "      <td>3.0</td>\n",
       "    </tr>\n",
       "    <tr>\n",
       "      <th>1</th>\n",
       "      <td>bar</td>\n",
       "      <td>2</td>\n",
       "      <td>NaN</td>\n",
       "    </tr>\n",
       "  </tbody>\n",
       "</table>\n",
       "</div>"
      ],
      "text/plain": [
       "     a  b    c\n",
       "0  foo  1  3.0\n",
       "1  bar  2  NaN"
      ]
     },
     "metadata": {},
     "output_type": "display_data"
    },
    {
     "data": {
      "text/html": [
       "<div>\n",
       "<style scoped>\n",
       "    .dataframe tbody tr th:only-of-type {\n",
       "        vertical-align: middle;\n",
       "    }\n",
       "\n",
       "    .dataframe tbody tr th {\n",
       "        vertical-align: top;\n",
       "    }\n",
       "\n",
       "    .dataframe thead th {\n",
       "        text-align: right;\n",
       "    }\n",
       "</style>\n",
       "<table border=\"1\" class=\"dataframe\">\n",
       "  <thead>\n",
       "    <tr style=\"text-align: right;\">\n",
       "      <th></th>\n",
       "      <th>a</th>\n",
       "      <th>b</th>\n",
       "      <th>c</th>\n",
       "    </tr>\n",
       "  </thead>\n",
       "  <tbody>\n",
       "    <tr>\n",
       "      <th>0</th>\n",
       "      <td>foo</td>\n",
       "      <td>1.0</td>\n",
       "      <td>3</td>\n",
       "    </tr>\n",
       "    <tr>\n",
       "      <th>1</th>\n",
       "      <td>baz</td>\n",
       "      <td>NaN</td>\n",
       "      <td>4</td>\n",
       "    </tr>\n",
       "  </tbody>\n",
       "</table>\n",
       "</div>"
      ],
      "text/plain": [
       "     a    b  c\n",
       "0  foo  1.0  3\n",
       "1  baz  NaN  4"
      ]
     },
     "metadata": {},
     "output_type": "display_data"
    }
   ],
   "source": [
    "df1 = pd.DataFrame({'a': ['foo', 'bar'], 'b': [1, 2]})\n",
    "df2 = pd.DataFrame({'a': ['foo', 'baz'], 'c': [3, 4]})\n",
    "\n",
    "display(df1)\n",
    "display(df2)\n",
    "\n",
    "display(df1.merge(df2, how='inner', on='a'))    # only rows with the shared key.\n",
    "display(df1.merge(df2, how='left', on='a'))     # use left's key.\n",
    "display(df1.merge(df2, how='right', on='a'))    # use right's key."
   ]
  },
  {
   "cell_type": "markdown",
   "id": "3238ba05-2fa5-41d2-8dc7-a6ee1b7b2855",
   "metadata": {},
   "source": [
    "### 4.3.6. `df.update()`: update values using other df."
   ]
  },
  {
   "cell_type": "code",
   "execution_count": null,
   "id": "4cbf3cf1-35d2-443b-88bf-7626f3c04850",
   "metadata": {
    "scrolled": true
   },
   "outputs": [
    {
     "data": {
      "text/html": [
       "<div>\n",
       "<style scoped>\n",
       "    .dataframe tbody tr th:only-of-type {\n",
       "        vertical-align: middle;\n",
       "    }\n",
       "\n",
       "    .dataframe tbody tr th {\n",
       "        vertical-align: top;\n",
       "    }\n",
       "\n",
       "    .dataframe thead th {\n",
       "        text-align: right;\n",
       "    }\n",
       "</style>\n",
       "<table border=\"1\" class=\"dataframe\">\n",
       "  <thead>\n",
       "    <tr style=\"text-align: right;\">\n",
       "      <th></th>\n",
       "      <th>A</th>\n",
       "      <th>B</th>\n",
       "    </tr>\n",
       "  </thead>\n",
       "  <tbody>\n",
       "    <tr>\n",
       "      <th>0</th>\n",
       "      <td>1</td>\n",
       "      <td>4</td>\n",
       "    </tr>\n",
       "    <tr>\n",
       "      <th>1</th>\n",
       "      <td>2</td>\n",
       "      <td>5</td>\n",
       "    </tr>\n",
       "    <tr>\n",
       "      <th>2</th>\n",
       "      <td>3</td>\n",
       "      <td>6</td>\n",
       "    </tr>\n",
       "  </tbody>\n",
       "</table>\n",
       "</div>"
      ],
      "text/plain": [
       "   A  B\n",
       "0  1  4\n",
       "1  2  5\n",
       "2  3  6"
      ]
     },
     "execution_count": 167,
     "metadata": {},
     "output_type": "execute_result"
    }
   ],
   "source": [
    "df = pd.DataFrame({'A': [1, 2, 3],\n",
    "                   'B': [400, 500, 600]})\n",
    "new_df = pd.DataFrame({'B': [4, 5, 6],    \n",
    "                       'C': ['a', 'b', 'c']})      # column 'C' does not update.\n",
    "df.update(new_df)\n",
    "df"
   ]
  },
  {
   "cell_type": "code",
   "execution_count": null,
   "id": "b0f4feb3-ef78-4987-835f-1da8b625070e",
   "metadata": {},
   "outputs": [
    {
     "data": {
      "text/html": [
       "<div>\n",
       "<style scoped>\n",
       "    .dataframe tbody tr th:only-of-type {\n",
       "        vertical-align: middle;\n",
       "    }\n",
       "\n",
       "    .dataframe tbody tr th {\n",
       "        vertical-align: top;\n",
       "    }\n",
       "\n",
       "    .dataframe thead th {\n",
       "        text-align: right;\n",
       "    }\n",
       "</style>\n",
       "<table border=\"1\" class=\"dataframe\">\n",
       "  <thead>\n",
       "    <tr style=\"text-align: right;\">\n",
       "      <th></th>\n",
       "      <th>A</th>\n",
       "      <th>B</th>\n",
       "    </tr>\n",
       "  </thead>\n",
       "  <tbody>\n",
       "    <tr>\n",
       "      <th>0</th>\n",
       "      <td>a</td>\n",
       "      <td>d</td>\n",
       "    </tr>\n",
       "    <tr>\n",
       "      <th>1</th>\n",
       "      <td>b</td>\n",
       "      <td>e</td>\n",
       "    </tr>\n",
       "    <tr>\n",
       "      <th>2</th>\n",
       "      <td>c</td>\n",
       "      <td>f</td>\n",
       "    </tr>\n",
       "  </tbody>\n",
       "</table>\n",
       "</div>"
      ],
      "text/plain": [
       "   A  B\n",
       "0  a  d\n",
       "1  b  e\n",
       "2  c  f"
      ]
     },
     "execution_count": 168,
     "metadata": {},
     "output_type": "execute_result"
    }
   ],
   "source": [
    "df = pd.DataFrame({'A': ['a', 'b', 'c'],\n",
    "                   'B': ['x', 'y', 'z']})\n",
    "new_df = pd.DataFrame({'B': ['d', 'e', 'f', 'g', 'h', 'i']})   # ['g', 'h', 'i'] does not update.\n",
    "df.update(new_df)\n",
    "df"
   ]
  },
  {
   "cell_type": "code",
   "execution_count": null,
   "id": "539375a1-39fb-45fb-b473-78e63a6ad24c",
   "metadata": {},
   "outputs": [
    {
     "data": {
      "text/html": [
       "<div>\n",
       "<style scoped>\n",
       "    .dataframe tbody tr th:only-of-type {\n",
       "        vertical-align: middle;\n",
       "    }\n",
       "\n",
       "    .dataframe tbody tr th {\n",
       "        vertical-align: top;\n",
       "    }\n",
       "\n",
       "    .dataframe thead th {\n",
       "        text-align: right;\n",
       "    }\n",
       "</style>\n",
       "<table border=\"1\" class=\"dataframe\">\n",
       "  <thead>\n",
       "    <tr style=\"text-align: right;\">\n",
       "      <th></th>\n",
       "      <th>left</th>\n",
       "    </tr>\n",
       "  </thead>\n",
       "  <tbody>\n",
       "    <tr>\n",
       "      <th>0</th>\n",
       "      <td>foo</td>\n",
       "    </tr>\n",
       "    <tr>\n",
       "      <th>1</th>\n",
       "      <td>bar</td>\n",
       "    </tr>\n",
       "  </tbody>\n",
       "</table>\n",
       "</div>"
      ],
      "text/plain": [
       "  left\n",
       "0  foo\n",
       "1  bar"
      ]
     },
     "metadata": {},
     "output_type": "display_data"
    },
    {
     "data": {
      "text/html": [
       "<div>\n",
       "<style scoped>\n",
       "    .dataframe tbody tr th:only-of-type {\n",
       "        vertical-align: middle;\n",
       "    }\n",
       "\n",
       "    .dataframe tbody tr th {\n",
       "        vertical-align: top;\n",
       "    }\n",
       "\n",
       "    .dataframe thead th {\n",
       "        text-align: right;\n",
       "    }\n",
       "</style>\n",
       "<table border=\"1\" class=\"dataframe\">\n",
       "  <thead>\n",
       "    <tr style=\"text-align: right;\">\n",
       "      <th></th>\n",
       "      <th>right</th>\n",
       "    </tr>\n",
       "  </thead>\n",
       "  <tbody>\n",
       "    <tr>\n",
       "      <th>0</th>\n",
       "      <td>7</td>\n",
       "    </tr>\n",
       "    <tr>\n",
       "      <th>1</th>\n",
       "      <td>8</td>\n",
       "    </tr>\n",
       "  </tbody>\n",
       "</table>\n",
       "</div>"
      ],
      "text/plain": [
       "   right\n",
       "0      7\n",
       "1      8"
      ]
     },
     "metadata": {},
     "output_type": "display_data"
    },
    {
     "data": {
      "text/html": [
       "<div>\n",
       "<style scoped>\n",
       "    .dataframe tbody tr th:only-of-type {\n",
       "        vertical-align: middle;\n",
       "    }\n",
       "\n",
       "    .dataframe tbody tr th {\n",
       "        vertical-align: top;\n",
       "    }\n",
       "\n",
       "    .dataframe thead th {\n",
       "        text-align: right;\n",
       "    }\n",
       "</style>\n",
       "<table border=\"1\" class=\"dataframe\">\n",
       "  <thead>\n",
       "    <tr style=\"text-align: right;\">\n",
       "      <th></th>\n",
       "      <th>left</th>\n",
       "      <th>right</th>\n",
       "    </tr>\n",
       "  </thead>\n",
       "  <tbody>\n",
       "    <tr>\n",
       "      <th>0</th>\n",
       "      <td>foo</td>\n",
       "      <td>7</td>\n",
       "    </tr>\n",
       "    <tr>\n",
       "      <th>1</th>\n",
       "      <td>foo</td>\n",
       "      <td>8</td>\n",
       "    </tr>\n",
       "    <tr>\n",
       "      <th>2</th>\n",
       "      <td>bar</td>\n",
       "      <td>7</td>\n",
       "    </tr>\n",
       "    <tr>\n",
       "      <th>3</th>\n",
       "      <td>bar</td>\n",
       "      <td>8</td>\n",
       "    </tr>\n",
       "  </tbody>\n",
       "</table>\n",
       "</div>"
      ],
      "text/plain": [
       "  left  right\n",
       "0  foo      7\n",
       "1  foo      8\n",
       "2  bar      7\n",
       "3  bar      8"
      ]
     },
     "execution_count": 169,
     "metadata": {},
     "output_type": "execute_result"
    }
   ],
   "source": [
    "# Cross.\n",
    "df1 = pd.DataFrame({'left': ['foo', 'bar']})\n",
    "df2 = pd.DataFrame({'right': [7, 8]})\n",
    "\n",
    "display(df1)\n",
    "display(df2)\n",
    "\n",
    "df1.merge(df2, how='cross')"
   ]
  },
  {
   "cell_type": "markdown",
   "id": "794804b3-a15f-4f01-aae6-ed575a1d939f",
   "metadata": {},
   "source": [
    "## 4.4. Apply."
   ]
  },
  {
   "cell_type": "code",
   "execution_count": null,
   "id": "0320174f-f46e-4588-8ed7-87db1951ea1a",
   "metadata": {},
   "outputs": [
    {
     "data": {
      "text/html": [
       "<div>\n",
       "<style scoped>\n",
       "    .dataframe tbody tr th:only-of-type {\n",
       "        vertical-align: middle;\n",
       "    }\n",
       "\n",
       "    .dataframe tbody tr th {\n",
       "        vertical-align: top;\n",
       "    }\n",
       "\n",
       "    .dataframe thead th {\n",
       "        text-align: right;\n",
       "    }\n",
       "</style>\n",
       "<table border=\"1\" class=\"dataframe\">\n",
       "  <thead>\n",
       "    <tr style=\"text-align: right;\">\n",
       "      <th></th>\n",
       "      <th>A</th>\n",
       "      <th>B</th>\n",
       "    </tr>\n",
       "  </thead>\n",
       "  <tbody>\n",
       "    <tr>\n",
       "      <th>0</th>\n",
       "      <td>a</td>\n",
       "      <td>d</td>\n",
       "    </tr>\n",
       "    <tr>\n",
       "      <th>1</th>\n",
       "      <td>b</td>\n",
       "      <td>e</td>\n",
       "    </tr>\n",
       "    <tr>\n",
       "      <th>2</th>\n",
       "      <td>c</td>\n",
       "      <td>f</td>\n",
       "    </tr>\n",
       "  </tbody>\n",
       "</table>\n",
       "</div>"
      ],
      "text/plain": [
       "   A  B\n",
       "0  a  d\n",
       "1  b  e\n",
       "2  c  f"
      ]
     },
     "execution_count": 170,
     "metadata": {},
     "output_type": "execute_result"
    }
   ],
   "source": [
    "df"
   ]
  },
  {
   "cell_type": "code",
   "execution_count": null,
   "id": "faf974c4-c18a-4bde-93b9-7a36e9ba5cfd",
   "metadata": {
    "scrolled": true
   },
   "outputs": [
    {
     "data": {
      "text/html": [
       "<div>\n",
       "<style scoped>\n",
       "    .dataframe tbody tr th:only-of-type {\n",
       "        vertical-align: middle;\n",
       "    }\n",
       "\n",
       "    .dataframe tbody tr th {\n",
       "        vertical-align: top;\n",
       "    }\n",
       "\n",
       "    .dataframe thead th {\n",
       "        text-align: right;\n",
       "    }\n",
       "</style>\n",
       "<table border=\"1\" class=\"dataframe\">\n",
       "  <thead>\n",
       "    <tr style=\"text-align: right;\">\n",
       "      <th></th>\n",
       "      <th>id</th>\n",
       "      <th>day</th>\n",
       "      <th>pressure</th>\n",
       "      <th>maxtemp</th>\n",
       "      <th>temparature</th>\n",
       "      <th>mintemp</th>\n",
       "      <th>dewpoint</th>\n",
       "      <th>humidity</th>\n",
       "      <th>cloud</th>\n",
       "      <th>sunshine</th>\n",
       "      <th>winddirection</th>\n",
       "      <th>windspeed</th>\n",
       "      <th>rainfall</th>\n",
       "    </tr>\n",
       "  </thead>\n",
       "  <tbody>\n",
       "    <tr>\n",
       "      <th>0</th>\n",
       "      <td>0</td>\n",
       "      <td>1</td>\n",
       "      <td>1017.4</td>\n",
       "      <td>21.2</td>\n",
       "      <td>Hot</td>\n",
       "      <td>19.9</td>\n",
       "      <td>19.4</td>\n",
       "      <td>87.0</td>\n",
       "      <td>88.0</td>\n",
       "      <td>1.1</td>\n",
       "      <td>60.0</td>\n",
       "      <td>17.2</td>\n",
       "      <td>1</td>\n",
       "    </tr>\n",
       "    <tr>\n",
       "      <th>1</th>\n",
       "      <td>1</td>\n",
       "      <td>2</td>\n",
       "      <td>1019.5</td>\n",
       "      <td>16.2</td>\n",
       "      <td>Hot</td>\n",
       "      <td>15.8</td>\n",
       "      <td>15.4</td>\n",
       "      <td>95.0</td>\n",
       "      <td>91.0</td>\n",
       "      <td>0.0</td>\n",
       "      <td>50.0</td>\n",
       "      <td>21.9</td>\n",
       "      <td>1</td>\n",
       "    </tr>\n",
       "    <tr>\n",
       "      <th>2</th>\n",
       "      <td>2</td>\n",
       "      <td>3</td>\n",
       "      <td>1024.1</td>\n",
       "      <td>19.4</td>\n",
       "      <td>Hot</td>\n",
       "      <td>14.6</td>\n",
       "      <td>9.3</td>\n",
       "      <td>75.0</td>\n",
       "      <td>47.0</td>\n",
       "      <td>8.3</td>\n",
       "      <td>70.0</td>\n",
       "      <td>18.1</td>\n",
       "      <td>1</td>\n",
       "    </tr>\n",
       "    <tr>\n",
       "      <th>3</th>\n",
       "      <td>3</td>\n",
       "      <td>4</td>\n",
       "      <td>1013.4</td>\n",
       "      <td>18.1</td>\n",
       "      <td>Hot</td>\n",
       "      <td>16.9</td>\n",
       "      <td>16.8</td>\n",
       "      <td>95.0</td>\n",
       "      <td>95.0</td>\n",
       "      <td>0.0</td>\n",
       "      <td>60.0</td>\n",
       "      <td>35.6</td>\n",
       "      <td>1</td>\n",
       "    </tr>\n",
       "    <tr>\n",
       "      <th>4</th>\n",
       "      <td>4</td>\n",
       "      <td>5</td>\n",
       "      <td>1021.8</td>\n",
       "      <td>21.3</td>\n",
       "      <td>Hot</td>\n",
       "      <td>15.2</td>\n",
       "      <td>9.6</td>\n",
       "      <td>52.0</td>\n",
       "      <td>45.0</td>\n",
       "      <td>3.6</td>\n",
       "      <td>40.0</td>\n",
       "      <td>24.8</td>\n",
       "      <td>0</td>\n",
       "    </tr>\n",
       "    <tr>\n",
       "      <th>...</th>\n",
       "      <td>...</td>\n",
       "      <td>...</td>\n",
       "      <td>...</td>\n",
       "      <td>...</td>\n",
       "      <td>...</td>\n",
       "      <td>...</td>\n",
       "      <td>...</td>\n",
       "      <td>...</td>\n",
       "      <td>...</td>\n",
       "      <td>...</td>\n",
       "      <td>...</td>\n",
       "      <td>...</td>\n",
       "      <td>...</td>\n",
       "    </tr>\n",
       "    <tr>\n",
       "      <th>2185</th>\n",
       "      <td>2185</td>\n",
       "      <td>361</td>\n",
       "      <td>1014.6</td>\n",
       "      <td>23.2</td>\n",
       "      <td>Hot</td>\n",
       "      <td>19.1</td>\n",
       "      <td>19.9</td>\n",
       "      <td>97.0</td>\n",
       "      <td>88.0</td>\n",
       "      <td>0.1</td>\n",
       "      <td>40.0</td>\n",
       "      <td>22.1</td>\n",
       "      <td>1</td>\n",
       "    </tr>\n",
       "    <tr>\n",
       "      <th>2186</th>\n",
       "      <td>2186</td>\n",
       "      <td>362</td>\n",
       "      <td>1012.4</td>\n",
       "      <td>17.2</td>\n",
       "      <td>Hot</td>\n",
       "      <td>16.3</td>\n",
       "      <td>15.3</td>\n",
       "      <td>91.0</td>\n",
       "      <td>88.0</td>\n",
       "      <td>0.0</td>\n",
       "      <td>50.0</td>\n",
       "      <td>35.3</td>\n",
       "      <td>1</td>\n",
       "    </tr>\n",
       "    <tr>\n",
       "      <th>2187</th>\n",
       "      <td>2187</td>\n",
       "      <td>363</td>\n",
       "      <td>1013.3</td>\n",
       "      <td>19.0</td>\n",
       "      <td>Hot</td>\n",
       "      <td>14.3</td>\n",
       "      <td>12.6</td>\n",
       "      <td>79.0</td>\n",
       "      <td>79.0</td>\n",
       "      <td>5.0</td>\n",
       "      <td>40.0</td>\n",
       "      <td>32.9</td>\n",
       "      <td>1</td>\n",
       "    </tr>\n",
       "    <tr>\n",
       "      <th>2188</th>\n",
       "      <td>2188</td>\n",
       "      <td>364</td>\n",
       "      <td>1022.3</td>\n",
       "      <td>16.4</td>\n",
       "      <td>Cold</td>\n",
       "      <td>13.8</td>\n",
       "      <td>14.7</td>\n",
       "      <td>92.0</td>\n",
       "      <td>93.0</td>\n",
       "      <td>0.1</td>\n",
       "      <td>40.0</td>\n",
       "      <td>18.0</td>\n",
       "      <td>1</td>\n",
       "    </tr>\n",
       "    <tr>\n",
       "      <th>2189</th>\n",
       "      <td>2189</td>\n",
       "      <td>365</td>\n",
       "      <td>1013.8</td>\n",
       "      <td>21.2</td>\n",
       "      <td>Hot</td>\n",
       "      <td>18.0</td>\n",
       "      <td>18.0</td>\n",
       "      <td>89.0</td>\n",
       "      <td>88.0</td>\n",
       "      <td>1.0</td>\n",
       "      <td>70.0</td>\n",
       "      <td>48.0</td>\n",
       "      <td>1</td>\n",
       "    </tr>\n",
       "  </tbody>\n",
       "</table>\n",
       "<p>2190 rows × 13 columns</p>\n",
       "</div>"
      ],
      "text/plain": [
       "        id  day  pressure  maxtemp temparature  mintemp  dewpoint  humidity  \\\n",
       "0        0    1    1017.4     21.2         Hot     19.9      19.4      87.0   \n",
       "1        1    2    1019.5     16.2         Hot     15.8      15.4      95.0   \n",
       "2        2    3    1024.1     19.4         Hot     14.6       9.3      75.0   \n",
       "3        3    4    1013.4     18.1         Hot     16.9      16.8      95.0   \n",
       "4        4    5    1021.8     21.3         Hot     15.2       9.6      52.0   \n",
       "...    ...  ...       ...      ...         ...      ...       ...       ...   \n",
       "2185  2185  361    1014.6     23.2         Hot     19.1      19.9      97.0   \n",
       "2186  2186  362    1012.4     17.2         Hot     16.3      15.3      91.0   \n",
       "2187  2187  363    1013.3     19.0         Hot     14.3      12.6      79.0   \n",
       "2188  2188  364    1022.3     16.4        Cold     13.8      14.7      92.0   \n",
       "2189  2189  365    1013.8     21.2         Hot     18.0      18.0      89.0   \n",
       "\n",
       "      cloud  sunshine  winddirection  windspeed  rainfall  \n",
       "0      88.0       1.1           60.0       17.2         1  \n",
       "1      91.0       0.0           50.0       21.9         1  \n",
       "2      47.0       8.3           70.0       18.1         1  \n",
       "3      95.0       0.0           60.0       35.6         1  \n",
       "4      45.0       3.6           40.0       24.8         0  \n",
       "...     ...       ...            ...        ...       ...  \n",
       "2185   88.0       0.1           40.0       22.1         1  \n",
       "2186   88.0       0.0           50.0       35.3         1  \n",
       "2187   79.0       5.0           40.0       32.9         1  \n",
       "2188   93.0       0.1           40.0       18.0         1  \n",
       "2189   88.0       1.0           70.0       48.0         1  \n",
       "\n",
       "[2190 rows x 13 columns]"
      ]
     },
     "execution_count": 171,
     "metadata": {},
     "output_type": "execute_result"
    }
   ],
   "source": [
    "df = pd.read_csv('data/rainfall/train.csv.zip')\n",
    "\n",
    "# Column-wise.\n",
    "df['temparature'].apply(lambda x: x * 9/5 + 32)\n",
    "\n",
    "# Row-wise.\n",
    "df.apply(lambda row: 'Hot' if row['temparature'] > 20 else 'Normal', axis=1)\n",
    "\n",
    "# Pipeline.\n",
    "df_after = df.copy()\n",
    "def to_fahrenheit(df):\n",
    "    df['temparature'] = df['temparature'] * 9/5 + 32\n",
    "    return df\n",
    "\n",
    "def categorize_temp(df):\n",
    "    df['temparature'] = df['temparature'].apply(lambda x: 'Hot' if x > 60 else 'Cold')\n",
    "    return df\n",
    "\n",
    "(df_after.pipe(to_fahrenheit)\n",
    "         .pipe(categorize_temp)\n",
    ")"
   ]
  },
  {
   "cell_type": "markdown",
   "id": "366cf711-c87e-4b54-94e7-a65c232dd836",
   "metadata": {},
   "source": [
    "## 4.5. Convert dtype."
   ]
  },
  {
   "cell_type": "code",
   "execution_count": null,
   "id": "87962caf-0fd4-4a5f-b6aa-a8dcffedd685",
   "metadata": {},
   "outputs": [
    {
     "data": {
      "text/plain": [
       "0         1\n",
       "1         2\n",
       "2         3\n",
       "3         4\n",
       "4         5\n",
       "       ... \n",
       "2185    361\n",
       "2186    362\n",
       "2187    363\n",
       "2188    364\n",
       "2189    365\n",
       "Name: day, Length: 2190, dtype: int32"
      ]
     },
     "execution_count": 172,
     "metadata": {},
     "output_type": "execute_result"
    }
   ],
   "source": [
    "df['day'].astype('int32')"
   ]
  },
  {
   "cell_type": "markdown",
   "id": "274eebe5-a533-49c9-8d6f-5375089618eb",
   "metadata": {},
   "source": [
    "## 4.6. Rolling."
   ]
  },
  {
   "cell_type": "markdown",
   "id": "5ad0b94d-9ac6-412c-914b-637d8c0aec39",
   "metadata": {},
   "source": [
    "```python\n",
    "Signature:\n",
    "df.rolling(\n",
    "    window: 'int | dt.timedelta | str | BaseOffset | BaseIndexer',  # window size.\n",
    "    min_periods: 'int | None' = None,  # min num of samples per a window.\n",
    "    center: 'bool_t' = False,          # if `True`, use the center, `False`, use the last one.\n",
    "    win_type: 'str | None' = None,     # scipy.signal window function.\n",
    "    # on: 'str | None' = None,\n",
    "    # axis: 'Axis | lib.NoDefault' = <no_default>,\n",
    "    closed: 'IntervalClosedType | None' = None,  # 'right' (default): exclude the FIRST, 'left', 'both': no exclusion, 'neither'.\n",
    "    step: 'int | None' = None,         # step size to calculate the result. only works with window='int'. default=1.\n",
    "    # method: 'str' = 'single',\n",
    ") -> 'Window | Rolling'\n",
    "\n",
    "Docstring:\n",
    "Provide rolling window calculations.\n",
    "```"
   ]
  },
  {
   "cell_type": "code",
   "execution_count": null,
   "id": "4dcc5bbb-d9e1-4755-8984-f5301fdb28e0",
   "metadata": {},
   "outputs": [
    {
     "data": {
      "text/html": [
       "<div>\n",
       "<style scoped>\n",
       "    .dataframe tbody tr th:only-of-type {\n",
       "        vertical-align: middle;\n",
       "    }\n",
       "\n",
       "    .dataframe tbody tr th {\n",
       "        vertical-align: top;\n",
       "    }\n",
       "\n",
       "    .dataframe thead th {\n",
       "        text-align: right;\n",
       "    }\n",
       "</style>\n",
       "<table border=\"1\" class=\"dataframe\">\n",
       "  <thead>\n",
       "    <tr style=\"text-align: right;\">\n",
       "      <th></th>\n",
       "      <th>data</th>\n",
       "      <th>mean</th>\n",
       "      <th>sum</th>\n",
       "      <th>min</th>\n",
       "      <th>expanded_sum</th>\n",
       "    </tr>\n",
       "  </thead>\n",
       "  <tbody>\n",
       "    <tr>\n",
       "      <th>2024-01-01</th>\n",
       "      <td>0</td>\n",
       "      <td>NaN</td>\n",
       "      <td>0.0</td>\n",
       "      <td>0.000000e+00</td>\n",
       "      <td>NaN</td>\n",
       "    </tr>\n",
       "    <tr>\n",
       "      <th>2024-01-02</th>\n",
       "      <td>1</td>\n",
       "      <td>0.5</td>\n",
       "      <td>1.0</td>\n",
       "      <td>1.000000e+00</td>\n",
       "      <td>1.0</td>\n",
       "    </tr>\n",
       "    <tr>\n",
       "      <th>2024-01-03</th>\n",
       "      <td>2</td>\n",
       "      <td>1.0</td>\n",
       "      <td>3.0</td>\n",
       "      <td>2.000000e+00</td>\n",
       "      <td>3.0</td>\n",
       "    </tr>\n",
       "    <tr>\n",
       "      <th>2024-01-04</th>\n",
       "      <td>3</td>\n",
       "      <td>2.0</td>\n",
       "      <td>6.0</td>\n",
       "      <td>3.000000e+00</td>\n",
       "      <td>6.0</td>\n",
       "    </tr>\n",
       "    <tr>\n",
       "      <th>2024-01-05</th>\n",
       "      <td>4</td>\n",
       "      <td>3.0</td>\n",
       "      <td>9.0</td>\n",
       "      <td>4.000000e+00</td>\n",
       "      <td>10.0</td>\n",
       "    </tr>\n",
       "    <tr>\n",
       "      <th>2024-01-06</th>\n",
       "      <td>5</td>\n",
       "      <td>4.0</td>\n",
       "      <td>12.0</td>\n",
       "      <td>5.000000e+00</td>\n",
       "      <td>15.0</td>\n",
       "    </tr>\n",
       "    <tr>\n",
       "      <th>2024-01-07</th>\n",
       "      <td>6</td>\n",
       "      <td>5.0</td>\n",
       "      <td>15.0</td>\n",
       "      <td>6.000000e+00</td>\n",
       "      <td>21.0</td>\n",
       "    </tr>\n",
       "    <tr>\n",
       "      <th>2024-01-08</th>\n",
       "      <td>7</td>\n",
       "      <td>6.0</td>\n",
       "      <td>18.0</td>\n",
       "      <td>7.000000e+00</td>\n",
       "      <td>28.0</td>\n",
       "    </tr>\n",
       "    <tr>\n",
       "      <th>2024-01-09</th>\n",
       "      <td>8</td>\n",
       "      <td>7.0</td>\n",
       "      <td>21.0</td>\n",
       "      <td>8.000000e+00</td>\n",
       "      <td>36.0</td>\n",
       "    </tr>\n",
       "    <tr>\n",
       "      <th>2024-01-10</th>\n",
       "      <td>9</td>\n",
       "      <td>8.0</td>\n",
       "      <td>24.0</td>\n",
       "      <td>-5.648292e-311</td>\n",
       "      <td>45.0</td>\n",
       "    </tr>\n",
       "  </tbody>\n",
       "</table>\n",
       "</div>"
      ],
      "text/plain": [
       "            data  mean   sum            min  expanded_sum\n",
       "2024-01-01     0   NaN   0.0   0.000000e+00           NaN\n",
       "2024-01-02     1   0.5   1.0   1.000000e+00           1.0\n",
       "2024-01-03     2   1.0   3.0   2.000000e+00           3.0\n",
       "2024-01-04     3   2.0   6.0   3.000000e+00           6.0\n",
       "2024-01-05     4   3.0   9.0   4.000000e+00          10.0\n",
       "2024-01-06     5   4.0  12.0   5.000000e+00          15.0\n",
       "2024-01-07     6   5.0  15.0   6.000000e+00          21.0\n",
       "2024-01-08     7   6.0  18.0   7.000000e+00          28.0\n",
       "2024-01-09     8   7.0  21.0   8.000000e+00          36.0\n",
       "2024-01-10     9   8.0  24.0 -5.648292e-311          45.0"
      ]
     },
     "execution_count": 173,
     "metadata": {},
     "output_type": "execute_result"
    }
   ],
   "source": [
    "# Sample df.\n",
    "df = pd.DataFrame({'data': range(10)}, index=pd.date_range('2024-01-01', periods=10, freq='D'))\n",
    "\n",
    "# Integer window (fixed number of observations).\n",
    "df['mean'] = df['data'].rolling(window=3, min_periods=2).mean()\n",
    "\n",
    "# Timedelta window (variable-sized based on time).\n",
    "df['sum'] = df['data'].rolling(window='3D').sum()\n",
    "\n",
    "# BaseIndexer subclass (custom window boundaries).\n",
    "from pandas.api.indexers import FixedForwardWindowIndexer\n",
    "\n",
    "class CustomIndexer(FixedForwardWindowIndexer):\n",
    "    def get_window_bounds(self, num_values, min_periods, center, closed, step):\n",
    "        start = np.arange(num_values, dtype=np.int64)  \n",
    "        end = start + 3\n",
    "        return start, end.astype(np.int64)  \n",
    "\n",
    "\n",
    "df['min'] = df['data'].rolling(window=CustomIndexer(window_size=3)).min()\n",
    "\n",
    "# df.expanding(): accumulative application.\n",
    "df['expanded_sum'] = df['data'].expanding(min_periods=2).sum()\n",
    "\n",
    "df"
   ]
  },
  {
   "cell_type": "markdown",
   "id": "ed87c42d-52c4-4887-8a04-973bba71d019",
   "metadata": {},
   "source": [
    "> c.f. A list of timedelta str: https://pandas.pydata.org/pandas-docs/stable/user_guide/timeseries.html#offset-aliases  \n",
    "> scipy.signal window function: https://docs.scipy.org/doc/scipy/reference/signal.windows.html#module-scipy.signal.windows\n",
    "\n",
    "> Note) If you need a weighted rolling, check `df.ewm()`."
   ]
  },
  {
   "cell_type": "markdown",
   "id": "6effe0bd-f198-487c-ab6e-7886a0e0a61e",
   "metadata": {},
   "source": [
    "## 4.7. Simple Functions."
   ]
  },
  {
   "cell_type": "markdown",
   "id": "ff3a52dd-f637-4f49-a047-c40a9d93262f",
   "metadata": {},
   "source": [
    "#### `df.abs()`."
   ]
  },
  {
   "cell_type": "code",
   "execution_count": null,
   "id": "6cbffe9b-4e06-4540-813b-bf774c78daa0",
   "metadata": {},
   "outputs": [
    {
     "data": {
      "text/html": [
       "<div>\n",
       "<style scoped>\n",
       "    .dataframe tbody tr th:only-of-type {\n",
       "        vertical-align: middle;\n",
       "    }\n",
       "\n",
       "    .dataframe tbody tr th {\n",
       "        vertical-align: top;\n",
       "    }\n",
       "\n",
       "    .dataframe thead th {\n",
       "        text-align: right;\n",
       "    }\n",
       "</style>\n",
       "<table border=\"1\" class=\"dataframe\">\n",
       "  <thead>\n",
       "    <tr style=\"text-align: right;\">\n",
       "      <th></th>\n",
       "      <th>data</th>\n",
       "      <th>mean</th>\n",
       "      <th>sum</th>\n",
       "      <th>min</th>\n",
       "      <th>expanded_sum</th>\n",
       "    </tr>\n",
       "  </thead>\n",
       "  <tbody>\n",
       "    <tr>\n",
       "      <th>2024-01-01</th>\n",
       "      <td>0</td>\n",
       "      <td>NaN</td>\n",
       "      <td>0.0</td>\n",
       "      <td>0.000000e+00</td>\n",
       "      <td>NaN</td>\n",
       "    </tr>\n",
       "    <tr>\n",
       "      <th>2024-01-02</th>\n",
       "      <td>1</td>\n",
       "      <td>0.5</td>\n",
       "      <td>1.0</td>\n",
       "      <td>1.000000e+00</td>\n",
       "      <td>1.0</td>\n",
       "    </tr>\n",
       "    <tr>\n",
       "      <th>2024-01-03</th>\n",
       "      <td>2</td>\n",
       "      <td>1.0</td>\n",
       "      <td>3.0</td>\n",
       "      <td>2.000000e+00</td>\n",
       "      <td>3.0</td>\n",
       "    </tr>\n",
       "    <tr>\n",
       "      <th>2024-01-04</th>\n",
       "      <td>3</td>\n",
       "      <td>2.0</td>\n",
       "      <td>6.0</td>\n",
       "      <td>3.000000e+00</td>\n",
       "      <td>6.0</td>\n",
       "    </tr>\n",
       "    <tr>\n",
       "      <th>2024-01-05</th>\n",
       "      <td>4</td>\n",
       "      <td>3.0</td>\n",
       "      <td>9.0</td>\n",
       "      <td>4.000000e+00</td>\n",
       "      <td>10.0</td>\n",
       "    </tr>\n",
       "    <tr>\n",
       "      <th>2024-01-06</th>\n",
       "      <td>5</td>\n",
       "      <td>4.0</td>\n",
       "      <td>12.0</td>\n",
       "      <td>5.000000e+00</td>\n",
       "      <td>15.0</td>\n",
       "    </tr>\n",
       "    <tr>\n",
       "      <th>2024-01-07</th>\n",
       "      <td>6</td>\n",
       "      <td>5.0</td>\n",
       "      <td>15.0</td>\n",
       "      <td>6.000000e+00</td>\n",
       "      <td>21.0</td>\n",
       "    </tr>\n",
       "    <tr>\n",
       "      <th>2024-01-08</th>\n",
       "      <td>7</td>\n",
       "      <td>6.0</td>\n",
       "      <td>18.0</td>\n",
       "      <td>7.000000e+00</td>\n",
       "      <td>28.0</td>\n",
       "    </tr>\n",
       "    <tr>\n",
       "      <th>2024-01-09</th>\n",
       "      <td>8</td>\n",
       "      <td>7.0</td>\n",
       "      <td>21.0</td>\n",
       "      <td>8.000000e+00</td>\n",
       "      <td>36.0</td>\n",
       "    </tr>\n",
       "    <tr>\n",
       "      <th>2024-01-10</th>\n",
       "      <td>9</td>\n",
       "      <td>8.0</td>\n",
       "      <td>24.0</td>\n",
       "      <td>5.648292e-311</td>\n",
       "      <td>45.0</td>\n",
       "    </tr>\n",
       "  </tbody>\n",
       "</table>\n",
       "</div>"
      ],
      "text/plain": [
       "            data  mean   sum            min  expanded_sum\n",
       "2024-01-01     0   NaN   0.0   0.000000e+00           NaN\n",
       "2024-01-02     1   0.5   1.0   1.000000e+00           1.0\n",
       "2024-01-03     2   1.0   3.0   2.000000e+00           3.0\n",
       "2024-01-04     3   2.0   6.0   3.000000e+00           6.0\n",
       "2024-01-05     4   3.0   9.0   4.000000e+00          10.0\n",
       "2024-01-06     5   4.0  12.0   5.000000e+00          15.0\n",
       "2024-01-07     6   5.0  15.0   6.000000e+00          21.0\n",
       "2024-01-08     7   6.0  18.0   7.000000e+00          28.0\n",
       "2024-01-09     8   7.0  21.0   8.000000e+00          36.0\n",
       "2024-01-10     9   8.0  24.0  5.648292e-311          45.0"
      ]
     },
     "execution_count": 174,
     "metadata": {},
     "output_type": "execute_result"
    }
   ],
   "source": [
    "df.abs()"
   ]
  },
  {
   "cell_type": "markdown",
   "id": "f7dc1b6c-1247-482f-affb-5d489eb9b924",
   "metadata": {},
   "source": [
    "#### `df.clip()`."
   ]
  },
  {
   "cell_type": "code",
   "execution_count": null,
   "id": "ec8dbdce-b90b-458a-bbfb-3f408de9cf72",
   "metadata": {},
   "outputs": [
    {
     "data": {
      "text/html": [
       "<div>\n",
       "<style scoped>\n",
       "    .dataframe tbody tr th:only-of-type {\n",
       "        vertical-align: middle;\n",
       "    }\n",
       "\n",
       "    .dataframe tbody tr th {\n",
       "        vertical-align: top;\n",
       "    }\n",
       "\n",
       "    .dataframe thead th {\n",
       "        text-align: right;\n",
       "    }\n",
       "</style>\n",
       "<table border=\"1\" class=\"dataframe\">\n",
       "  <thead>\n",
       "    <tr style=\"text-align: right;\">\n",
       "      <th></th>\n",
       "      <th>data</th>\n",
       "      <th>mean</th>\n",
       "      <th>sum</th>\n",
       "      <th>min</th>\n",
       "      <th>expanded_sum</th>\n",
       "    </tr>\n",
       "  </thead>\n",
       "  <tbody>\n",
       "    <tr>\n",
       "      <th>2024-01-01</th>\n",
       "      <td>0</td>\n",
       "      <td>NaN</td>\n",
       "      <td>0.0</td>\n",
       "      <td>0.000000e+00</td>\n",
       "      <td>NaN</td>\n",
       "    </tr>\n",
       "    <tr>\n",
       "      <th>2024-01-02</th>\n",
       "      <td>1</td>\n",
       "      <td>0.5</td>\n",
       "      <td>1.0</td>\n",
       "      <td>1.000000e+00</td>\n",
       "      <td>1.0</td>\n",
       "    </tr>\n",
       "    <tr>\n",
       "      <th>2024-01-03</th>\n",
       "      <td>2</td>\n",
       "      <td>1.0</td>\n",
       "      <td>2.0</td>\n",
       "      <td>2.000000e+00</td>\n",
       "      <td>2.0</td>\n",
       "    </tr>\n",
       "    <tr>\n",
       "      <th>2024-01-04</th>\n",
       "      <td>2</td>\n",
       "      <td>2.0</td>\n",
       "      <td>2.0</td>\n",
       "      <td>2.000000e+00</td>\n",
       "      <td>2.0</td>\n",
       "    </tr>\n",
       "    <tr>\n",
       "      <th>2024-01-05</th>\n",
       "      <td>2</td>\n",
       "      <td>2.0</td>\n",
       "      <td>2.0</td>\n",
       "      <td>2.000000e+00</td>\n",
       "      <td>2.0</td>\n",
       "    </tr>\n",
       "    <tr>\n",
       "      <th>2024-01-06</th>\n",
       "      <td>2</td>\n",
       "      <td>2.0</td>\n",
       "      <td>2.0</td>\n",
       "      <td>2.000000e+00</td>\n",
       "      <td>2.0</td>\n",
       "    </tr>\n",
       "    <tr>\n",
       "      <th>2024-01-07</th>\n",
       "      <td>2</td>\n",
       "      <td>2.0</td>\n",
       "      <td>2.0</td>\n",
       "      <td>2.000000e+00</td>\n",
       "      <td>2.0</td>\n",
       "    </tr>\n",
       "    <tr>\n",
       "      <th>2024-01-08</th>\n",
       "      <td>2</td>\n",
       "      <td>2.0</td>\n",
       "      <td>2.0</td>\n",
       "      <td>2.000000e+00</td>\n",
       "      <td>2.0</td>\n",
       "    </tr>\n",
       "    <tr>\n",
       "      <th>2024-01-09</th>\n",
       "      <td>2</td>\n",
       "      <td>2.0</td>\n",
       "      <td>2.0</td>\n",
       "      <td>2.000000e+00</td>\n",
       "      <td>2.0</td>\n",
       "    </tr>\n",
       "    <tr>\n",
       "      <th>2024-01-10</th>\n",
       "      <td>2</td>\n",
       "      <td>2.0</td>\n",
       "      <td>2.0</td>\n",
       "      <td>-5.648292e-311</td>\n",
       "      <td>2.0</td>\n",
       "    </tr>\n",
       "  </tbody>\n",
       "</table>\n",
       "</div>"
      ],
      "text/plain": [
       "            data  mean  sum            min  expanded_sum\n",
       "2024-01-01     0   NaN  0.0   0.000000e+00           NaN\n",
       "2024-01-02     1   0.5  1.0   1.000000e+00           1.0\n",
       "2024-01-03     2   1.0  2.0   2.000000e+00           2.0\n",
       "2024-01-04     2   2.0  2.0   2.000000e+00           2.0\n",
       "2024-01-05     2   2.0  2.0   2.000000e+00           2.0\n",
       "2024-01-06     2   2.0  2.0   2.000000e+00           2.0\n",
       "2024-01-07     2   2.0  2.0   2.000000e+00           2.0\n",
       "2024-01-08     2   2.0  2.0   2.000000e+00           2.0\n",
       "2024-01-09     2   2.0  2.0   2.000000e+00           2.0\n",
       "2024-01-10     2   2.0  2.0 -5.648292e-311           2.0"
      ]
     },
     "execution_count": 175,
     "metadata": {},
     "output_type": "execute_result"
    }
   ],
   "source": [
    "df.clip(-2, 2)"
   ]
  },
  {
   "cell_type": "markdown",
   "id": "ac5d043a-513b-4c24-ae8f-9197fcb8a47d",
   "metadata": {},
   "source": [
    "#### `df.all()` and `df.any()`."
   ]
  },
  {
   "cell_type": "code",
   "execution_count": null,
   "id": "ae0e7b85-14ff-40f6-ab87-b5b6c24a071d",
   "metadata": {},
   "outputs": [
    {
     "data": {
      "text/plain": [
       "data            True\n",
       "mean            True\n",
       "sum             True\n",
       "min             True\n",
       "expanded_sum    True\n",
       "dtype: bool"
      ]
     },
     "execution_count": 176,
     "metadata": {},
     "output_type": "execute_result"
    }
   ],
   "source": [
    "df.all()              # 'True' if all elems are 'True'.\n",
    "df.any()              # 'False' if any elem is 'False'."
   ]
  },
  {
   "cell_type": "markdown",
   "id": "ac364851-b463-4d79-a522-e78abedf3ee5",
   "metadata": {},
   "source": [
    "#### `df.add_prefix()` and `df.add_suffix()`."
   ]
  },
  {
   "cell_type": "code",
   "execution_count": null,
   "id": "5e58d191-fc4a-4462-94bf-f29d33c037b2",
   "metadata": {},
   "outputs": [
    {
     "data": {
      "text/html": [
       "<div>\n",
       "<style scoped>\n",
       "    .dataframe tbody tr th:only-of-type {\n",
       "        vertical-align: middle;\n",
       "    }\n",
       "\n",
       "    .dataframe tbody tr th {\n",
       "        vertical-align: top;\n",
       "    }\n",
       "\n",
       "    .dataframe thead th {\n",
       "        text-align: right;\n",
       "    }\n",
       "</style>\n",
       "<table border=\"1\" class=\"dataframe\">\n",
       "  <thead>\n",
       "    <tr style=\"text-align: right;\">\n",
       "      <th></th>\n",
       "      <th>datacol_</th>\n",
       "      <th>meancol_</th>\n",
       "      <th>sumcol_</th>\n",
       "      <th>mincol_</th>\n",
       "      <th>expanded_sumcol_</th>\n",
       "    </tr>\n",
       "  </thead>\n",
       "  <tbody>\n",
       "    <tr>\n",
       "      <th>2024-01-01</th>\n",
       "      <td>0</td>\n",
       "      <td>NaN</td>\n",
       "      <td>0.0</td>\n",
       "      <td>0.000000e+00</td>\n",
       "      <td>NaN</td>\n",
       "    </tr>\n",
       "    <tr>\n",
       "      <th>2024-01-02</th>\n",
       "      <td>1</td>\n",
       "      <td>0.5</td>\n",
       "      <td>1.0</td>\n",
       "      <td>1.000000e+00</td>\n",
       "      <td>1.0</td>\n",
       "    </tr>\n",
       "    <tr>\n",
       "      <th>2024-01-03</th>\n",
       "      <td>2</td>\n",
       "      <td>1.0</td>\n",
       "      <td>3.0</td>\n",
       "      <td>2.000000e+00</td>\n",
       "      <td>3.0</td>\n",
       "    </tr>\n",
       "    <tr>\n",
       "      <th>2024-01-04</th>\n",
       "      <td>3</td>\n",
       "      <td>2.0</td>\n",
       "      <td>6.0</td>\n",
       "      <td>3.000000e+00</td>\n",
       "      <td>6.0</td>\n",
       "    </tr>\n",
       "    <tr>\n",
       "      <th>2024-01-05</th>\n",
       "      <td>4</td>\n",
       "      <td>3.0</td>\n",
       "      <td>9.0</td>\n",
       "      <td>4.000000e+00</td>\n",
       "      <td>10.0</td>\n",
       "    </tr>\n",
       "    <tr>\n",
       "      <th>2024-01-06</th>\n",
       "      <td>5</td>\n",
       "      <td>4.0</td>\n",
       "      <td>12.0</td>\n",
       "      <td>5.000000e+00</td>\n",
       "      <td>15.0</td>\n",
       "    </tr>\n",
       "    <tr>\n",
       "      <th>2024-01-07</th>\n",
       "      <td>6</td>\n",
       "      <td>5.0</td>\n",
       "      <td>15.0</td>\n",
       "      <td>6.000000e+00</td>\n",
       "      <td>21.0</td>\n",
       "    </tr>\n",
       "    <tr>\n",
       "      <th>2024-01-08</th>\n",
       "      <td>7</td>\n",
       "      <td>6.0</td>\n",
       "      <td>18.0</td>\n",
       "      <td>7.000000e+00</td>\n",
       "      <td>28.0</td>\n",
       "    </tr>\n",
       "    <tr>\n",
       "      <th>2024-01-09</th>\n",
       "      <td>8</td>\n",
       "      <td>7.0</td>\n",
       "      <td>21.0</td>\n",
       "      <td>8.000000e+00</td>\n",
       "      <td>36.0</td>\n",
       "    </tr>\n",
       "    <tr>\n",
       "      <th>2024-01-10</th>\n",
       "      <td>9</td>\n",
       "      <td>8.0</td>\n",
       "      <td>24.0</td>\n",
       "      <td>-5.648292e-311</td>\n",
       "      <td>45.0</td>\n",
       "    </tr>\n",
       "  </tbody>\n",
       "</table>\n",
       "</div>"
      ],
      "text/plain": [
       "            datacol_  meancol_  sumcol_        mincol_  expanded_sumcol_\n",
       "2024-01-01         0       NaN      0.0   0.000000e+00               NaN\n",
       "2024-01-02         1       0.5      1.0   1.000000e+00               1.0\n",
       "2024-01-03         2       1.0      3.0   2.000000e+00               3.0\n",
       "2024-01-04         3       2.0      6.0   3.000000e+00               6.0\n",
       "2024-01-05         4       3.0      9.0   4.000000e+00              10.0\n",
       "2024-01-06         5       4.0     12.0   5.000000e+00              15.0\n",
       "2024-01-07         6       5.0     15.0   6.000000e+00              21.0\n",
       "2024-01-08         7       6.0     18.0   7.000000e+00              28.0\n",
       "2024-01-09         8       7.0     21.0   8.000000e+00              36.0\n",
       "2024-01-10         9       8.0     24.0 -5.648292e-311              45.0"
      ]
     },
     "execution_count": 177,
     "metadata": {},
     "output_type": "execute_result"
    }
   ],
   "source": [
    "df.add_prefix('col_', axis=1)    # 'A' -> 'col_A'.\n",
    "df.add_suffix('col_', axis=1)    # 'A' -> 'A_col'."
   ]
  },
  {
   "cell_type": "markdown",
   "id": "5f415b90-dfa1-4fda-b04a-31b776ee4670",
   "metadata": {},
   "source": [
    "#### `df.equals()`."
   ]
  },
  {
   "cell_type": "code",
   "execution_count": null,
   "id": "3d8f7b34-ce3d-48b6-8d98-a6b44958c1b9",
   "metadata": {},
   "outputs": [
    {
     "data": {
      "text/plain": [
       "True"
      ]
     },
     "execution_count": 178,
     "metadata": {},
     "output_type": "execute_result"
    }
   ],
   "source": [
    "df  = pd.DataFrame({1: [10], 2: [20]})\n",
    "df2 = pd.DataFrame({1: [10], 2: [20]})\n",
    "\n",
    "df.equals(df2)"
   ]
  },
  {
   "cell_type": "markdown",
   "id": "d634d5b5-a74b-4bc1-a649-d3adb62f0b26",
   "metadata": {},
   "source": [
    "#### `df.shift()`."
   ]
  },
  {
   "cell_type": "code",
   "execution_count": null,
   "id": "e2f01fd9-5229-4cc6-9548-4cb5eac157ef",
   "metadata": {},
   "outputs": [
    {
     "data": {
      "text/html": [
       "<div>\n",
       "<style scoped>\n",
       "    .dataframe tbody tr th:only-of-type {\n",
       "        vertical-align: middle;\n",
       "    }\n",
       "\n",
       "    .dataframe tbody tr th {\n",
       "        vertical-align: top;\n",
       "    }\n",
       "\n",
       "    .dataframe thead th {\n",
       "        text-align: right;\n",
       "    }\n",
       "</style>\n",
       "<table border=\"1\" class=\"dataframe\">\n",
       "  <thead>\n",
       "    <tr style=\"text-align: right;\">\n",
       "      <th></th>\n",
       "      <th>Col1</th>\n",
       "      <th>Col2</th>\n",
       "      <th>Col3</th>\n",
       "    </tr>\n",
       "  </thead>\n",
       "  <tbody>\n",
       "    <tr>\n",
       "      <th>2020-01-01</th>\n",
       "      <td>10</td>\n",
       "      <td>13</td>\n",
       "      <td>17</td>\n",
       "    </tr>\n",
       "    <tr>\n",
       "      <th>2020-01-02</th>\n",
       "      <td>20</td>\n",
       "      <td>23</td>\n",
       "      <td>27</td>\n",
       "    </tr>\n",
       "    <tr>\n",
       "      <th>2020-01-03</th>\n",
       "      <td>15</td>\n",
       "      <td>18</td>\n",
       "      <td>22</td>\n",
       "    </tr>\n",
       "    <tr>\n",
       "      <th>2020-01-04</th>\n",
       "      <td>30</td>\n",
       "      <td>33</td>\n",
       "      <td>37</td>\n",
       "    </tr>\n",
       "    <tr>\n",
       "      <th>2020-01-05</th>\n",
       "      <td>45</td>\n",
       "      <td>48</td>\n",
       "      <td>52</td>\n",
       "    </tr>\n",
       "  </tbody>\n",
       "</table>\n",
       "</div>"
      ],
      "text/plain": [
       "            Col1  Col2  Col3\n",
       "2020-01-01    10    13    17\n",
       "2020-01-02    20    23    27\n",
       "2020-01-03    15    18    22\n",
       "2020-01-04    30    33    37\n",
       "2020-01-05    45    48    52"
      ]
     },
     "metadata": {},
     "output_type": "display_data"
    },
    {
     "data": {
      "text/html": [
       "<div>\n",
       "<style scoped>\n",
       "    .dataframe tbody tr th:only-of-type {\n",
       "        vertical-align: middle;\n",
       "    }\n",
       "\n",
       "    .dataframe tbody tr th {\n",
       "        vertical-align: top;\n",
       "    }\n",
       "\n",
       "    .dataframe thead th {\n",
       "        text-align: right;\n",
       "    }\n",
       "</style>\n",
       "<table border=\"1\" class=\"dataframe\">\n",
       "  <thead>\n",
       "    <tr style=\"text-align: right;\">\n",
       "      <th></th>\n",
       "      <th>Col1</th>\n",
       "      <th>Col2</th>\n",
       "      <th>Col3</th>\n",
       "    </tr>\n",
       "  </thead>\n",
       "  <tbody>\n",
       "    <tr>\n",
       "      <th>2020-01-01</th>\n",
       "      <td>NaN</td>\n",
       "      <td>NaN</td>\n",
       "      <td>NaN</td>\n",
       "    </tr>\n",
       "    <tr>\n",
       "      <th>2020-01-02</th>\n",
       "      <td>NaN</td>\n",
       "      <td>NaN</td>\n",
       "      <td>NaN</td>\n",
       "    </tr>\n",
       "    <tr>\n",
       "      <th>2020-01-03</th>\n",
       "      <td>NaN</td>\n",
       "      <td>NaN</td>\n",
       "      <td>NaN</td>\n",
       "    </tr>\n",
       "    <tr>\n",
       "      <th>2020-01-04</th>\n",
       "      <td>10.0</td>\n",
       "      <td>13.0</td>\n",
       "      <td>17.0</td>\n",
       "    </tr>\n",
       "    <tr>\n",
       "      <th>2020-01-05</th>\n",
       "      <td>20.0</td>\n",
       "      <td>23.0</td>\n",
       "      <td>27.0</td>\n",
       "    </tr>\n",
       "  </tbody>\n",
       "</table>\n",
       "</div>"
      ],
      "text/plain": [
       "            Col1  Col2  Col3\n",
       "2020-01-01   NaN   NaN   NaN\n",
       "2020-01-02   NaN   NaN   NaN\n",
       "2020-01-03   NaN   NaN   NaN\n",
       "2020-01-04  10.0  13.0  17.0\n",
       "2020-01-05  20.0  23.0  27.0"
      ]
     },
     "metadata": {},
     "output_type": "display_data"
    },
    {
     "data": {
      "text/html": [
       "<div>\n",
       "<style scoped>\n",
       "    .dataframe tbody tr th:only-of-type {\n",
       "        vertical-align: middle;\n",
       "    }\n",
       "\n",
       "    .dataframe tbody tr th {\n",
       "        vertical-align: top;\n",
       "    }\n",
       "\n",
       "    .dataframe thead th {\n",
       "        text-align: right;\n",
       "    }\n",
       "</style>\n",
       "<table border=\"1\" class=\"dataframe\">\n",
       "  <thead>\n",
       "    <tr style=\"text-align: right;\">\n",
       "      <th></th>\n",
       "      <th>Col1</th>\n",
       "      <th>Col2</th>\n",
       "      <th>Col3</th>\n",
       "    </tr>\n",
       "  </thead>\n",
       "  <tbody>\n",
       "    <tr>\n",
       "      <th>2020-01-01</th>\n",
       "      <td>-1</td>\n",
       "      <td>10</td>\n",
       "      <td>13</td>\n",
       "    </tr>\n",
       "    <tr>\n",
       "      <th>2020-01-02</th>\n",
       "      <td>-1</td>\n",
       "      <td>20</td>\n",
       "      <td>23</td>\n",
       "    </tr>\n",
       "    <tr>\n",
       "      <th>2020-01-03</th>\n",
       "      <td>-1</td>\n",
       "      <td>15</td>\n",
       "      <td>18</td>\n",
       "    </tr>\n",
       "    <tr>\n",
       "      <th>2020-01-04</th>\n",
       "      <td>-1</td>\n",
       "      <td>30</td>\n",
       "      <td>33</td>\n",
       "    </tr>\n",
       "    <tr>\n",
       "      <th>2020-01-05</th>\n",
       "      <td>-1</td>\n",
       "      <td>45</td>\n",
       "      <td>48</td>\n",
       "    </tr>\n",
       "  </tbody>\n",
       "</table>\n",
       "</div>"
      ],
      "text/plain": [
       "            Col1  Col2  Col3\n",
       "2020-01-01    -1    10    13\n",
       "2020-01-02    -1    20    23\n",
       "2020-01-03    -1    15    18\n",
       "2020-01-04    -1    30    33\n",
       "2020-01-05    -1    45    48"
      ]
     },
     "metadata": {},
     "output_type": "display_data"
    },
    {
     "data": {
      "text/html": [
       "<div>\n",
       "<style scoped>\n",
       "    .dataframe tbody tr th:only-of-type {\n",
       "        vertical-align: middle;\n",
       "    }\n",
       "\n",
       "    .dataframe tbody tr th {\n",
       "        vertical-align: top;\n",
       "    }\n",
       "\n",
       "    .dataframe thead th {\n",
       "        text-align: right;\n",
       "    }\n",
       "</style>\n",
       "<table border=\"1\" class=\"dataframe\">\n",
       "  <thead>\n",
       "    <tr style=\"text-align: right;\">\n",
       "      <th></th>\n",
       "      <th>Col1_0</th>\n",
       "      <th>Col1_1</th>\n",
       "      <th>Col1_2</th>\n",
       "    </tr>\n",
       "  </thead>\n",
       "  <tbody>\n",
       "    <tr>\n",
       "      <th>2020-01-01</th>\n",
       "      <td>10</td>\n",
       "      <td>NaN</td>\n",
       "      <td>NaN</td>\n",
       "    </tr>\n",
       "    <tr>\n",
       "      <th>2020-01-02</th>\n",
       "      <td>20</td>\n",
       "      <td>10.0</td>\n",
       "      <td>NaN</td>\n",
       "    </tr>\n",
       "    <tr>\n",
       "      <th>2020-01-03</th>\n",
       "      <td>15</td>\n",
       "      <td>20.0</td>\n",
       "      <td>10.0</td>\n",
       "    </tr>\n",
       "    <tr>\n",
       "      <th>2020-01-04</th>\n",
       "      <td>30</td>\n",
       "      <td>15.0</td>\n",
       "      <td>20.0</td>\n",
       "    </tr>\n",
       "    <tr>\n",
       "      <th>2020-01-05</th>\n",
       "      <td>45</td>\n",
       "      <td>30.0</td>\n",
       "      <td>15.0</td>\n",
       "    </tr>\n",
       "  </tbody>\n",
       "</table>\n",
       "</div>"
      ],
      "text/plain": [
       "            Col1_0  Col1_1  Col1_2\n",
       "2020-01-01      10     NaN     NaN\n",
       "2020-01-02      20    10.0     NaN\n",
       "2020-01-03      15    20.0    10.0\n",
       "2020-01-04      30    15.0    20.0\n",
       "2020-01-05      45    30.0    15.0"
      ]
     },
     "execution_count": 179,
     "metadata": {},
     "output_type": "execute_result"
    }
   ],
   "source": [
    "df = pd.DataFrame({\"Col1\": [10, 20, 15, 30, 45],\n",
    "                   \"Col2\": [13, 23, 18, 33, 48],\n",
    "                   \"Col3\": [17, 27, 22, 37, 52]},\n",
    "                  index=pd.date_range(\"2020-01-01\", \"2020-01-05\"))\n",
    "display(df)\n",
    "\n",
    "# Shift by row.\n",
    "display(df.shift(periods=3))\n",
    "\n",
    "# Shift by column.\n",
    "display(df.shift(periods=1, axis=1, fill_value=-1))    # fill values.\n",
    "\n",
    "# Shift by multiple rows.\n",
    "df['Col1'].shift(periods=[0, 1, 2])"
   ]
  },
  {
   "cell_type": "markdown",
   "id": "64d3b95c-3661-46e4-86a4-a69231e80f40",
   "metadata": {},
   "source": [
    "## 4.8. Operations."
   ]
  },
  {
   "cell_type": "code",
   "execution_count": null,
   "id": "1c310225-ce52-4367-bba8-3d3c388b7511",
   "metadata": {},
   "outputs": [
    {
     "data": {
      "text/html": [
       "<div>\n",
       "<style scoped>\n",
       "    .dataframe tbody tr th:only-of-type {\n",
       "        vertical-align: middle;\n",
       "    }\n",
       "\n",
       "    .dataframe tbody tr th {\n",
       "        vertical-align: top;\n",
       "    }\n",
       "\n",
       "    .dataframe thead th {\n",
       "        text-align: right;\n",
       "    }\n",
       "</style>\n",
       "<table border=\"1\" class=\"dataframe\">\n",
       "  <thead>\n",
       "    <tr style=\"text-align: right;\">\n",
       "      <th></th>\n",
       "      <th>0</th>\n",
       "      <th>1</th>\n",
       "    </tr>\n",
       "  </thead>\n",
       "  <tbody>\n",
       "    <tr>\n",
       "      <th>0</th>\n",
       "      <td>1</td>\n",
       "      <td>2</td>\n",
       "    </tr>\n",
       "    <tr>\n",
       "      <th>1</th>\n",
       "      <td>3</td>\n",
       "      <td>4</td>\n",
       "    </tr>\n",
       "  </tbody>\n",
       "</table>\n",
       "</div>"
      ],
      "text/plain": [
       "   0  1\n",
       "0  1  2\n",
       "1  3  4"
      ]
     },
     "metadata": {},
     "output_type": "display_data"
    },
    {
     "data": {
      "text/html": [
       "<div>\n",
       "<style scoped>\n",
       "    .dataframe tbody tr th:only-of-type {\n",
       "        vertical-align: middle;\n",
       "    }\n",
       "\n",
       "    .dataframe tbody tr th {\n",
       "        vertical-align: top;\n",
       "    }\n",
       "\n",
       "    .dataframe thead th {\n",
       "        text-align: right;\n",
       "    }\n",
       "</style>\n",
       "<table border=\"1\" class=\"dataframe\">\n",
       "  <thead>\n",
       "    <tr style=\"text-align: right;\">\n",
       "      <th></th>\n",
       "      <th>0</th>\n",
       "      <th>1</th>\n",
       "    </tr>\n",
       "  </thead>\n",
       "  <tbody>\n",
       "    <tr>\n",
       "      <th>0</th>\n",
       "      <td>5</td>\n",
       "      <td>6</td>\n",
       "    </tr>\n",
       "    <tr>\n",
       "      <th>1</th>\n",
       "      <td>7</td>\n",
       "      <td>8</td>\n",
       "    </tr>\n",
       "  </tbody>\n",
       "</table>\n",
       "</div>"
      ],
      "text/plain": [
       "   0  1\n",
       "0  5  6\n",
       "1  7  8"
      ]
     },
     "metadata": {},
     "output_type": "display_data"
    },
    {
     "name": "stdout",
     "output_type": "stream",
     "text": [
      "    0   1\n",
      "0  19  22\n",
      "1  43  50\n"
     ]
    }
   ],
   "source": [
    "# dot product.\n",
    "df1 = pd.DataFrame([[1, 2], [3, 4]])\n",
    "df2 = pd.DataFrame([[5, 6], [7, 8]])\n",
    "\n",
    "display(df1)\n",
    "display(df2)\n",
    "\n",
    "result = df1 @ df2\n",
    "print(result)"
   ]
  },
  {
   "cell_type": "markdown",
   "id": "1f3b92a8-9f0c-41c8-b5af-082070f398ce",
   "metadata": {},
   "source": [
    "## 4.9. Replace."
   ]
  },
  {
   "cell_type": "code",
   "execution_count": null,
   "id": "3e64e53e-9f2e-477a-92c0-cd69ab6b0247",
   "metadata": {},
   "outputs": [
    {
     "data": {
      "text/html": [
       "<div>\n",
       "<style scoped>\n",
       "    .dataframe tbody tr th:only-of-type {\n",
       "        vertical-align: middle;\n",
       "    }\n",
       "\n",
       "    .dataframe tbody tr th {\n",
       "        vertical-align: top;\n",
       "    }\n",
       "\n",
       "    .dataframe thead th {\n",
       "        text-align: right;\n",
       "    }\n",
       "</style>\n",
       "<table border=\"1\" class=\"dataframe\">\n",
       "  <thead>\n",
       "    <tr style=\"text-align: right;\">\n",
       "      <th></th>\n",
       "      <th>A</th>\n",
       "      <th>B</th>\n",
       "      <th>C</th>\n",
       "    </tr>\n",
       "  </thead>\n",
       "  <tbody>\n",
       "    <tr>\n",
       "      <th>0</th>\n",
       "      <td>0</td>\n",
       "      <td>5</td>\n",
       "      <td>a</td>\n",
       "    </tr>\n",
       "    <tr>\n",
       "      <th>1</th>\n",
       "      <td>1</td>\n",
       "      <td>6</td>\n",
       "      <td>b</td>\n",
       "    </tr>\n",
       "    <tr>\n",
       "      <th>2</th>\n",
       "      <td>2</td>\n",
       "      <td>7</td>\n",
       "      <td>c</td>\n",
       "    </tr>\n",
       "    <tr>\n",
       "      <th>3</th>\n",
       "      <td>3</td>\n",
       "      <td>8</td>\n",
       "      <td>d</td>\n",
       "    </tr>\n",
       "    <tr>\n",
       "      <th>4</th>\n",
       "      <td>4</td>\n",
       "      <td>9</td>\n",
       "      <td>e</td>\n",
       "    </tr>\n",
       "  </tbody>\n",
       "</table>\n",
       "</div>"
      ],
      "text/plain": [
       "   A  B  C\n",
       "0  0  5  a\n",
       "1  1  6  b\n",
       "2  2  7  c\n",
       "3  3  8  d\n",
       "4  4  9  e"
      ]
     },
     "execution_count": 181,
     "metadata": {},
     "output_type": "execute_result"
    }
   ],
   "source": [
    "df = pd.DataFrame({'A': [0, 1, 2, 3, 4],\n",
    "                   'B': [5, 6, 7, 8, 9],\n",
    "                   'C': ['a', 'b', 'c', 'd', 'e']})\n",
    "\n",
    "# Scalar. e.g. 1 -> 5.\n",
    "df.replace(1, 5)\n",
    "\n",
    "# List. e.g. [0, 1] -> [1, 2].\n",
    "df.replace([0, 1], [1, 2])\n",
    "\n",
    "# Dict. e.g. 1 -> one, 2 -> two.\n",
    "df.replace({1: 'one', 2: 'two'})\n",
    "\n",
    "# Dict. e.g. 'A': 0, 'B': 5 -> 100.\n",
    "df.replace({'A': 0, 'B': 5}, 100)\n",
    "\n",
    "# Dict. e.g. 'A': {1 -> 100, 2 -> 200}.\n",
    "df.replace({'A': {1: 100, 2: 200}})\n",
    "\n",
    "# Dict. e.g. regex -> value.\n",
    "df.replace(regex=r'^ba.$', value='new')    # replace strs containing '_ba_' with 'new'."
   ]
  },
  {
   "cell_type": "markdown",
   "id": "fdb91264-0893-45be-9e64-668d25279483",
   "metadata": {},
   "source": [
    "## 4.10. Pivot."
   ]
  },
  {
   "cell_type": "markdown",
   "id": "15fcc16b-c755-47a2-9d0b-631792167380",
   "metadata": {},
   "source": [
    "#### 4.10.1. `df.pivot()` : Rearrange the axis."
   ]
  },
  {
   "cell_type": "code",
   "execution_count": null,
   "id": "bff0f2c9-309b-4efc-afda-6f8a63a0719e",
   "metadata": {},
   "outputs": [
    {
     "name": "stdout",
     "output_type": "stream",
     "text": [
      "   lev1  lev2  lev3  lev4  values\n",
      "0     1     1     1     1       0\n",
      "1     1     1     2     2       1\n",
      "2     1     2     1     3       2\n",
      "3     2     1     2     4       3\n",
      "4     2     1     1     5       4\n",
      "5     2     2     2     6       5 \n",
      "\n"
     ]
    },
    {
     "data": {
      "text/html": [
       "<div>\n",
       "<style scoped>\n",
       "    .dataframe tbody tr th:only-of-type {\n",
       "        vertical-align: middle;\n",
       "    }\n",
       "\n",
       "    .dataframe tbody tr th {\n",
       "        vertical-align: top;\n",
       "    }\n",
       "\n",
       "    .dataframe thead tr th {\n",
       "        text-align: left;\n",
       "    }\n",
       "\n",
       "    .dataframe thead tr:last-of-type th {\n",
       "        text-align: right;\n",
       "    }\n",
       "</style>\n",
       "<table border=\"1\" class=\"dataframe\">\n",
       "  <thead>\n",
       "    <tr>\n",
       "      <th>lev2</th>\n",
       "      <th colspan=\"2\" halign=\"left\">1</th>\n",
       "      <th colspan=\"2\" halign=\"left\">2</th>\n",
       "    </tr>\n",
       "    <tr>\n",
       "      <th>lev3</th>\n",
       "      <th>1</th>\n",
       "      <th>2</th>\n",
       "      <th>1</th>\n",
       "      <th>2</th>\n",
       "    </tr>\n",
       "    <tr>\n",
       "      <th>lev1</th>\n",
       "      <th></th>\n",
       "      <th></th>\n",
       "      <th></th>\n",
       "      <th></th>\n",
       "    </tr>\n",
       "  </thead>\n",
       "  <tbody>\n",
       "    <tr>\n",
       "      <th>1</th>\n",
       "      <td>0.0</td>\n",
       "      <td>1.0</td>\n",
       "      <td>2.0</td>\n",
       "      <td>NaN</td>\n",
       "    </tr>\n",
       "    <tr>\n",
       "      <th>2</th>\n",
       "      <td>4.0</td>\n",
       "      <td>3.0</td>\n",
       "      <td>NaN</td>\n",
       "      <td>5.0</td>\n",
       "    </tr>\n",
       "  </tbody>\n",
       "</table>\n",
       "</div>"
      ],
      "text/plain": [
       "lev2    1         2     \n",
       "lev3    1    2    1    2\n",
       "lev1                    \n",
       "1     0.0  1.0  2.0  NaN\n",
       "2     4.0  3.0  NaN  5.0"
      ]
     },
     "execution_count": 182,
     "metadata": {},
     "output_type": "execute_result"
    }
   ],
   "source": [
    "df = pd.DataFrame({\n",
    "       \"lev1\": [1, 1, 1, 2, 2, 2],\n",
    "       \"lev2\": [1, 1, 2, 1, 1, 2],\n",
    "       \"lev3\": [1, 2, 1, 2, 1, 2],\n",
    "       \"lev4\": [1, 2, 3, 4, 5, 6],\n",
    "       \"values\": [0, 1, 2, 3, 4, 5]})\n",
    "print(df, '\\n')\n",
    "\n",
    "df.pivot(index=\"lev1\", columns=[\"lev2\", \"lev3\"], values=\"values\")"
   ]
  },
  {
   "cell_type": "markdown",
   "id": "ec2aa53e-abc0-4984-a374-5d091032c766",
   "metadata": {},
   "source": [
    "#### 4.10.2. `pd.pivot_table()` : Pivot as a table."
   ]
  },
  {
   "cell_type": "code",
   "execution_count": null,
   "id": "02f91bae-eb20-47b9-b199-d10377aa8eb0",
   "metadata": {},
   "outputs": [
    {
     "name": "stdout",
     "output_type": "stream",
     "text": [
      "     A    B      C  D  E\n",
      "0  foo  one  small  1  2\n",
      "1  foo  one  large  2  4\n",
      "2  foo  one  large  2  5\n",
      "3  foo  two  small  3  5\n",
      "4  foo  two  small  3  6\n",
      "5  bar  one  large  4  6\n",
      "6  bar  one  small  5  8\n",
      "7  bar  two  small  6  9\n",
      "8  bar  two  large  7  9 \n",
      "\n"
     ]
    },
    {
     "data": {
      "text/html": [
       "<div>\n",
       "<style scoped>\n",
       "    .dataframe tbody tr th:only-of-type {\n",
       "        vertical-align: middle;\n",
       "    }\n",
       "\n",
       "    .dataframe tbody tr th {\n",
       "        vertical-align: top;\n",
       "    }\n",
       "\n",
       "    .dataframe thead th {\n",
       "        text-align: right;\n",
       "    }\n",
       "</style>\n",
       "<table border=\"1\" class=\"dataframe\">\n",
       "  <thead>\n",
       "    <tr style=\"text-align: right;\">\n",
       "      <th></th>\n",
       "      <th>C</th>\n",
       "      <th>large</th>\n",
       "      <th>small</th>\n",
       "    </tr>\n",
       "    <tr>\n",
       "      <th>A</th>\n",
       "      <th>B</th>\n",
       "      <th></th>\n",
       "      <th></th>\n",
       "    </tr>\n",
       "  </thead>\n",
       "  <tbody>\n",
       "    <tr>\n",
       "      <th rowspan=\"2\" valign=\"top\">bar</th>\n",
       "      <th>one</th>\n",
       "      <td>4.0</td>\n",
       "      <td>5.0</td>\n",
       "    </tr>\n",
       "    <tr>\n",
       "      <th>two</th>\n",
       "      <td>7.0</td>\n",
       "      <td>6.0</td>\n",
       "    </tr>\n",
       "    <tr>\n",
       "      <th rowspan=\"2\" valign=\"top\">foo</th>\n",
       "      <th>one</th>\n",
       "      <td>4.0</td>\n",
       "      <td>1.0</td>\n",
       "    </tr>\n",
       "    <tr>\n",
       "      <th>two</th>\n",
       "      <td>NaN</td>\n",
       "      <td>6.0</td>\n",
       "    </tr>\n",
       "  </tbody>\n",
       "</table>\n",
       "</div>"
      ],
      "text/plain": [
       "C        large  small\n",
       "A   B                \n",
       "bar one    4.0    5.0\n",
       "    two    7.0    6.0\n",
       "foo one    4.0    1.0\n",
       "    two    NaN    6.0"
      ]
     },
     "execution_count": 183,
     "metadata": {},
     "output_type": "execute_result"
    }
   ],
   "source": [
    "df = pd.DataFrame({\"A\": [\"foo\", \"foo\", \"foo\", \"foo\", \"foo\",\n",
    "                         \"bar\", \"bar\", \"bar\", \"bar\"],\n",
    "                   \"B\": [\"one\", \"one\", \"one\", \"two\", \"two\",\n",
    "                         \"one\", \"one\", \"two\", \"two\"],\n",
    "                   \"C\": [\"small\", \"large\", \"large\", \"small\",\n",
    "                         \"small\", \"large\", \"small\", \"small\",\n",
    "                         \"large\"],\n",
    "                   \"D\": [1, 2, 2, 3, 3, 4, 5, 6, 7],\n",
    "                   \"E\": [2, 4, 5, 5, 6, 6, 8, 9, 9]})\n",
    "print(df, '\\n')\n",
    "\n",
    "table = pd.pivot_table(df, \n",
    "                       index=['A', 'B'],\n",
    "                       columns=['C'], \n",
    "                       values='D', \n",
    "                       aggfunc=\"sum\")\n",
    "table"
   ]
  },
  {
   "cell_type": "markdown",
   "id": "3b8ef112-def9-4987-a252-bb0a11def8fa",
   "metadata": {},
   "source": [
    "### 4.10.3. Unpivot."
   ]
  },
  {
   "cell_type": "markdown",
   "id": "6ccb5516-d016-456a-b3e1-d3c792571bd4",
   "metadata": {},
   "source": [
    "#### `df.melt()`: melts column(s)."
   ]
  },
  {
   "cell_type": "code",
   "execution_count": null,
   "id": "09f9053d-2da8-4ea3-9764-729898b19a82",
   "metadata": {},
   "outputs": [
    {
     "data": {
      "text/html": [
       "<div>\n",
       "<style scoped>\n",
       "    .dataframe tbody tr th:only-of-type {\n",
       "        vertical-align: middle;\n",
       "    }\n",
       "\n",
       "    .dataframe tbody tr th {\n",
       "        vertical-align: top;\n",
       "    }\n",
       "\n",
       "    .dataframe thead th {\n",
       "        text-align: right;\n",
       "    }\n",
       "</style>\n",
       "<table border=\"1\" class=\"dataframe\">\n",
       "  <thead>\n",
       "    <tr style=\"text-align: right;\">\n",
       "      <th></th>\n",
       "      <th>A</th>\n",
       "      <th>B</th>\n",
       "      <th>C</th>\n",
       "    </tr>\n",
       "  </thead>\n",
       "  <tbody>\n",
       "    <tr>\n",
       "      <th>0</th>\n",
       "      <td>a</td>\n",
       "      <td>1</td>\n",
       "      <td>2</td>\n",
       "    </tr>\n",
       "    <tr>\n",
       "      <th>1</th>\n",
       "      <td>b</td>\n",
       "      <td>3</td>\n",
       "      <td>4</td>\n",
       "    </tr>\n",
       "    <tr>\n",
       "      <th>2</th>\n",
       "      <td>c</td>\n",
       "      <td>5</td>\n",
       "      <td>6</td>\n",
       "    </tr>\n",
       "  </tbody>\n",
       "</table>\n",
       "</div>"
      ],
      "text/plain": [
       "   A  B  C\n",
       "0  a  1  2\n",
       "1  b  3  4\n",
       "2  c  5  6"
      ]
     },
     "metadata": {},
     "output_type": "display_data"
    },
    {
     "data": {
      "text/html": [
       "<div>\n",
       "<style scoped>\n",
       "    .dataframe tbody tr th:only-of-type {\n",
       "        vertical-align: middle;\n",
       "    }\n",
       "\n",
       "    .dataframe tbody tr th {\n",
       "        vertical-align: top;\n",
       "    }\n",
       "\n",
       "    .dataframe thead th {\n",
       "        text-align: right;\n",
       "    }\n",
       "</style>\n",
       "<table border=\"1\" class=\"dataframe\">\n",
       "  <thead>\n",
       "    <tr style=\"text-align: right;\">\n",
       "      <th></th>\n",
       "      <th>A</th>\n",
       "      <th>My Var</th>\n",
       "      <th>My Value</th>\n",
       "    </tr>\n",
       "  </thead>\n",
       "  <tbody>\n",
       "    <tr>\n",
       "      <th>0</th>\n",
       "      <td>a</td>\n",
       "      <td>B</td>\n",
       "      <td>1</td>\n",
       "    </tr>\n",
       "    <tr>\n",
       "      <th>1</th>\n",
       "      <td>b</td>\n",
       "      <td>B</td>\n",
       "      <td>3</td>\n",
       "    </tr>\n",
       "    <tr>\n",
       "      <th>2</th>\n",
       "      <td>c</td>\n",
       "      <td>B</td>\n",
       "      <td>5</td>\n",
       "    </tr>\n",
       "    <tr>\n",
       "      <th>3</th>\n",
       "      <td>a</td>\n",
       "      <td>C</td>\n",
       "      <td>2</td>\n",
       "    </tr>\n",
       "    <tr>\n",
       "      <th>4</th>\n",
       "      <td>b</td>\n",
       "      <td>C</td>\n",
       "      <td>4</td>\n",
       "    </tr>\n",
       "    <tr>\n",
       "      <th>5</th>\n",
       "      <td>c</td>\n",
       "      <td>C</td>\n",
       "      <td>6</td>\n",
       "    </tr>\n",
       "  </tbody>\n",
       "</table>\n",
       "</div>"
      ],
      "text/plain": [
       "   A My Var  My Value\n",
       "0  a      B         1\n",
       "1  b      B         3\n",
       "2  c      B         5\n",
       "3  a      C         2\n",
       "4  b      C         4\n",
       "5  c      C         6"
      ]
     },
     "execution_count": 184,
     "metadata": {},
     "output_type": "execute_result"
    }
   ],
   "source": [
    "df = pd.DataFrame({'A': {0: 'a', 1: 'b', 2: 'c'},\n",
    "                   'B': {0: 1, 1: 3, 2: 5},\n",
    "                   'C': {0: 2, 1: 4, 2: 6}})\n",
    "display(df)\n",
    "\n",
    "df.melt(id_vars=['A'], value_vars=['B', 'C'],\n",
    "        var_name='My Var', value_name='My Value')"
   ]
  },
  {
   "cell_type": "markdown",
   "id": "ecce741e-1405-4829-9869-024cfad97957",
   "metadata": {},
   "source": [
    "#### `df.explode()`: melts values."
   ]
  },
  {
   "cell_type": "code",
   "execution_count": null,
   "id": "219c8933-b8a0-4d66-b196-6ccb92151ad1",
   "metadata": {},
   "outputs": [
    {
     "data": {
      "text/html": [
       "<div>\n",
       "<style scoped>\n",
       "    .dataframe tbody tr th:only-of-type {\n",
       "        vertical-align: middle;\n",
       "    }\n",
       "\n",
       "    .dataframe tbody tr th {\n",
       "        vertical-align: top;\n",
       "    }\n",
       "\n",
       "    .dataframe thead th {\n",
       "        text-align: right;\n",
       "    }\n",
       "</style>\n",
       "<table border=\"1\" class=\"dataframe\">\n",
       "  <thead>\n",
       "    <tr style=\"text-align: right;\">\n",
       "      <th></th>\n",
       "      <th>A</th>\n",
       "      <th>B</th>\n",
       "      <th>C</th>\n",
       "    </tr>\n",
       "  </thead>\n",
       "  <tbody>\n",
       "    <tr>\n",
       "      <th>0</th>\n",
       "      <td>[0, 1, 2]</td>\n",
       "      <td>1</td>\n",
       "      <td>[a, b, c]</td>\n",
       "    </tr>\n",
       "    <tr>\n",
       "      <th>1</th>\n",
       "      <td>foo</td>\n",
       "      <td>1</td>\n",
       "      <td>NaN</td>\n",
       "    </tr>\n",
       "    <tr>\n",
       "      <th>2</th>\n",
       "      <td>[]</td>\n",
       "      <td>1</td>\n",
       "      <td>[]</td>\n",
       "    </tr>\n",
       "    <tr>\n",
       "      <th>3</th>\n",
       "      <td>[3, 4]</td>\n",
       "      <td>1</td>\n",
       "      <td>[d, e]</td>\n",
       "    </tr>\n",
       "  </tbody>\n",
       "</table>\n",
       "</div>"
      ],
      "text/plain": [
       "           A  B          C\n",
       "0  [0, 1, 2]  1  [a, b, c]\n",
       "1        foo  1        NaN\n",
       "2         []  1         []\n",
       "3     [3, 4]  1     [d, e]"
      ]
     },
     "metadata": {},
     "output_type": "display_data"
    },
    {
     "data": {
      "text/html": [
       "<div>\n",
       "<style scoped>\n",
       "    .dataframe tbody tr th:only-of-type {\n",
       "        vertical-align: middle;\n",
       "    }\n",
       "\n",
       "    .dataframe tbody tr th {\n",
       "        vertical-align: top;\n",
       "    }\n",
       "\n",
       "    .dataframe thead th {\n",
       "        text-align: right;\n",
       "    }\n",
       "</style>\n",
       "<table border=\"1\" class=\"dataframe\">\n",
       "  <thead>\n",
       "    <tr style=\"text-align: right;\">\n",
       "      <th></th>\n",
       "      <th>A</th>\n",
       "      <th>B</th>\n",
       "      <th>C</th>\n",
       "    </tr>\n",
       "  </thead>\n",
       "  <tbody>\n",
       "    <tr>\n",
       "      <th>0</th>\n",
       "      <td>0</td>\n",
       "      <td>1</td>\n",
       "      <td>a</td>\n",
       "    </tr>\n",
       "    <tr>\n",
       "      <th>0</th>\n",
       "      <td>1</td>\n",
       "      <td>1</td>\n",
       "      <td>b</td>\n",
       "    </tr>\n",
       "    <tr>\n",
       "      <th>0</th>\n",
       "      <td>2</td>\n",
       "      <td>1</td>\n",
       "      <td>c</td>\n",
       "    </tr>\n",
       "    <tr>\n",
       "      <th>1</th>\n",
       "      <td>foo</td>\n",
       "      <td>1</td>\n",
       "      <td>NaN</td>\n",
       "    </tr>\n",
       "    <tr>\n",
       "      <th>2</th>\n",
       "      <td>NaN</td>\n",
       "      <td>1</td>\n",
       "      <td>NaN</td>\n",
       "    </tr>\n",
       "    <tr>\n",
       "      <th>3</th>\n",
       "      <td>3</td>\n",
       "      <td>1</td>\n",
       "      <td>d</td>\n",
       "    </tr>\n",
       "    <tr>\n",
       "      <th>3</th>\n",
       "      <td>4</td>\n",
       "      <td>1</td>\n",
       "      <td>e</td>\n",
       "    </tr>\n",
       "  </tbody>\n",
       "</table>\n",
       "</div>"
      ],
      "text/plain": [
       "     A  B    C\n",
       "0    0  1    a\n",
       "0    1  1    b\n",
       "0    2  1    c\n",
       "1  foo  1  NaN\n",
       "2  NaN  1  NaN\n",
       "3    3  1    d\n",
       "3    4  1    e"
      ]
     },
     "execution_count": 185,
     "metadata": {},
     "output_type": "execute_result"
    }
   ],
   "source": [
    "df = pd.DataFrame({'A': [[0, 1, 2], 'foo', [], [3, 4]],\n",
    "                   'B': 1,\n",
    "                   'C': [['a', 'b', 'c'], np.nan, [], ['d', 'e']]})\n",
    "display(df)\n",
    "\n",
    "df.explode(['A', 'C'])"
   ]
  },
  {
   "cell_type": "markdown",
   "id": "82dd0914-2cdf-4b76-9d96-237d77c41733",
   "metadata": {},
   "source": [
    "### 4.10.4. Transpose."
   ]
  },
  {
   "cell_type": "code",
   "execution_count": null,
   "id": "40e3ade2-e2f0-44cc-b29f-b34dab6ecd53",
   "metadata": {},
   "outputs": [
    {
     "data": {
      "text/html": [
       "<div>\n",
       "<style scoped>\n",
       "    .dataframe tbody tr th:only-of-type {\n",
       "        vertical-align: middle;\n",
       "    }\n",
       "\n",
       "    .dataframe tbody tr th {\n",
       "        vertical-align: top;\n",
       "    }\n",
       "\n",
       "    .dataframe thead th {\n",
       "        text-align: right;\n",
       "    }\n",
       "</style>\n",
       "<table border=\"1\" class=\"dataframe\">\n",
       "  <thead>\n",
       "    <tr style=\"text-align: right;\">\n",
       "      <th></th>\n",
       "      <th>col1</th>\n",
       "      <th>col2</th>\n",
       "    </tr>\n",
       "  </thead>\n",
       "  <tbody>\n",
       "    <tr>\n",
       "      <th>0</th>\n",
       "      <td>1</td>\n",
       "      <td>3</td>\n",
       "    </tr>\n",
       "    <tr>\n",
       "      <th>1</th>\n",
       "      <td>2</td>\n",
       "      <td>4</td>\n",
       "    </tr>\n",
       "  </tbody>\n",
       "</table>\n",
       "</div>"
      ],
      "text/plain": [
       "   col1  col2\n",
       "0     1     3\n",
       "1     2     4"
      ]
     },
     "metadata": {},
     "output_type": "display_data"
    },
    {
     "data": {
      "text/html": [
       "<div>\n",
       "<style scoped>\n",
       "    .dataframe tbody tr th:only-of-type {\n",
       "        vertical-align: middle;\n",
       "    }\n",
       "\n",
       "    .dataframe tbody tr th {\n",
       "        vertical-align: top;\n",
       "    }\n",
       "\n",
       "    .dataframe thead th {\n",
       "        text-align: right;\n",
       "    }\n",
       "</style>\n",
       "<table border=\"1\" class=\"dataframe\">\n",
       "  <thead>\n",
       "    <tr style=\"text-align: right;\">\n",
       "      <th></th>\n",
       "      <th>0</th>\n",
       "      <th>1</th>\n",
       "    </tr>\n",
       "  </thead>\n",
       "  <tbody>\n",
       "    <tr>\n",
       "      <th>col1</th>\n",
       "      <td>1</td>\n",
       "      <td>2</td>\n",
       "    </tr>\n",
       "    <tr>\n",
       "      <th>col2</th>\n",
       "      <td>3</td>\n",
       "      <td>4</td>\n",
       "    </tr>\n",
       "  </tbody>\n",
       "</table>\n",
       "</div>"
      ],
      "text/plain": [
       "      0  1\n",
       "col1  1  2\n",
       "col2  3  4"
      ]
     },
     "execution_count": 186,
     "metadata": {},
     "output_type": "execute_result"
    }
   ],
   "source": [
    "df = pd.DataFrame({'col1': [1, 2], 'col2': [3, 4]})\n",
    "display(df)\n",
    "\n",
    "df.T"
   ]
  },
  {
   "cell_type": "markdown",
   "id": "f320a40a-d912-4761-af96-3e8bf6e1bef9",
   "metadata": {},
   "source": [
    "## 4.11. Sort."
   ]
  },
  {
   "cell_type": "markdown",
   "id": "520c607b-dd1b-4823-9045-6b98ef58fd76",
   "metadata": {},
   "source": [
    "> c.f. `natsort` for natural sort."
   ]
  },
  {
   "cell_type": "markdown",
   "id": "1c05aefa-d617-41fb-991e-490227553ce5",
   "metadata": {},
   "source": [
    "### 4.11.1. By Values."
   ]
  },
  {
   "cell_type": "markdown",
   "id": "c808d3d3-cbaf-41bb-8108-e5706de8060c",
   "metadata": {},
   "source": [
    "```python\n",
    "Signature:\n",
    "df.sort_values(\n",
    "    by: 'IndexLabel',\n",
    "    *,\n",
    "    axis: 'Axis' = 0,\n",
    "    ascending: 'bool | list[bool] | tuple[bool, ...]' = True,\n",
    "    inplace: 'bool' = False,\n",
    "    kind: {'quicksort', 'mergesort', 'heapsort', 'stable'} = 'quicksort',    # only 'mergesort' and 'stable' are stable.\n",
    "    na_position: {'first', 'last'} = 'last',    # put NaN at 'first' or 'last'.\n",
    "    ignore_index: 'bool' = False,  # If True, the resulting axis will be labeled 0, 1, …, n - 1.\n",
    "    key: 'ValueKeyFunc | None' = None,\n",
    ") -> 'DataFrame | None'\n",
    "\n",
    "Docstring:\n",
    "Sort by the values along either axis.\n",
    "```"
   ]
  },
  {
   "cell_type": "code",
   "execution_count": null,
   "id": "9817eba8-745a-4480-b44d-dc2e8870d6ff",
   "metadata": {},
   "outputs": [
    {
     "data": {
      "text/html": [
       "<div>\n",
       "<style scoped>\n",
       "    .dataframe tbody tr th:only-of-type {\n",
       "        vertical-align: middle;\n",
       "    }\n",
       "\n",
       "    .dataframe tbody tr th {\n",
       "        vertical-align: top;\n",
       "    }\n",
       "\n",
       "    .dataframe thead th {\n",
       "        text-align: right;\n",
       "    }\n",
       "</style>\n",
       "<table border=\"1\" class=\"dataframe\">\n",
       "  <thead>\n",
       "    <tr style=\"text-align: right;\">\n",
       "      <th></th>\n",
       "      <th>A</th>\n",
       "      <th>B</th>\n",
       "    </tr>\n",
       "  </thead>\n",
       "  <tbody>\n",
       "    <tr>\n",
       "      <th>1</th>\n",
       "      <td>3.5</td>\n",
       "      <td>2</td>\n",
       "    </tr>\n",
       "    <tr>\n",
       "      <th>2</th>\n",
       "      <td>2.0</td>\n",
       "      <td>1</td>\n",
       "    </tr>\n",
       "    <tr>\n",
       "      <th>3</th>\n",
       "      <td>2.0</td>\n",
       "      <td>4</td>\n",
       "    </tr>\n",
       "    <tr>\n",
       "      <th>0</th>\n",
       "      <td>1.0</td>\n",
       "      <td>3</td>\n",
       "    </tr>\n",
       "  </tbody>\n",
       "</table>\n",
       "</div>"
      ],
      "text/plain": [
       "     A  B\n",
       "1  3.5  2\n",
       "2  2.0  1\n",
       "3  2.0  4\n",
       "0  1.0  3"
      ]
     },
     "execution_count": 187,
     "metadata": {},
     "output_type": "execute_result"
    }
   ],
   "source": [
    "df = pd.DataFrame({\n",
    "    'A': [1, 3.5, 2, 2], \n",
    "    'B': [3, 2, 1, 4]\n",
    "})\n",
    "\n",
    "df.sort_values(['A', 'B'],                          # by multiple columns.\n",
    "               ascending=[False, True],             # ascending or descending.\n",
    "               inplace=False,\n",
    "               ignore_index=False,\n",
    "               key=lambda col: col.astype(int))     # function applied before sorting.\n"
   ]
  },
  {
   "cell_type": "markdown",
   "id": "6b572bc4-ccb7-442c-9e4b-700afee62dac",
   "metadata": {},
   "source": [
    "### 4.11.2. By Index."
   ]
  },
  {
   "cell_type": "markdown",
   "id": "b73f8248-e851-4164-881a-6aea5e3a3dbf",
   "metadata": {},
   "source": [
    "```python\n",
    "Signature:\n",
    "df.sort_index(\n",
    "    *,\n",
    "    axis: 'Axis' = 0,\n",
    "    level: 'IndexLabel | None' = None,\n",
    "    ascending: 'bool | Sequence[bool]' = True,\n",
    "    inplace: 'bool' = False,\n",
    "    kind: 'SortKind' = 'quicksort',\n",
    "    na_position: 'NaPosition' = 'last',\n",
    "    sort_remaining: 'bool' = True,\n",
    "    ignore_index: 'bool' = False,\n",
    "    key: 'IndexKeyFunc | None' = None,\n",
    ") -> 'DataFrame | None'\n",
    "\n",
    "Docstring:\n",
    "Sort object by labels (along an axis).\n",
    "```"
   ]
  },
  {
   "cell_type": "code",
   "execution_count": null,
   "id": "c5f81ec3-9265-4e68-b533-22010e6d93bb",
   "metadata": {},
   "outputs": [
    {
     "data": {
      "text/html": [
       "<div>\n",
       "<style scoped>\n",
       "    .dataframe tbody tr th:only-of-type {\n",
       "        vertical-align: middle;\n",
       "    }\n",
       "\n",
       "    .dataframe tbody tr th {\n",
       "        vertical-align: top;\n",
       "    }\n",
       "\n",
       "    .dataframe thead th {\n",
       "        text-align: right;\n",
       "    }\n",
       "</style>\n",
       "<table border=\"1\" class=\"dataframe\">\n",
       "  <thead>\n",
       "    <tr style=\"text-align: right;\">\n",
       "      <th></th>\n",
       "      <th>A</th>\n",
       "      <th>B</th>\n",
       "    </tr>\n",
       "  </thead>\n",
       "  <tbody>\n",
       "    <tr>\n",
       "      <th>0</th>\n",
       "      <td>1.0</td>\n",
       "      <td>3</td>\n",
       "    </tr>\n",
       "    <tr>\n",
       "      <th>1</th>\n",
       "      <td>3.5</td>\n",
       "      <td>2</td>\n",
       "    </tr>\n",
       "    <tr>\n",
       "      <th>2</th>\n",
       "      <td>2.0</td>\n",
       "      <td>1</td>\n",
       "    </tr>\n",
       "    <tr>\n",
       "      <th>3</th>\n",
       "      <td>2.0</td>\n",
       "      <td>4</td>\n",
       "    </tr>\n",
       "  </tbody>\n",
       "</table>\n",
       "</div>"
      ],
      "text/plain": [
       "     A  B\n",
       "0  1.0  3\n",
       "1  3.5  2\n",
       "2  2.0  1\n",
       "3  2.0  4"
      ]
     },
     "execution_count": 188,
     "metadata": {},
     "output_type": "execute_result"
    }
   ],
   "source": [
    "df.sort_index()"
   ]
  },
  {
   "cell_type": "markdown",
   "id": "4fc2e829-4807-4b94-83d6-93dad1818523",
   "metadata": {},
   "source": [
    "### 4.11.3. N-Largest and N-Smallest."
   ]
  },
  {
   "cell_type": "markdown",
   "id": "4c357108-3612-41fe-9b68-d627419fad3f",
   "metadata": {},
   "source": [
    "```python\n",
    "Signature:\n",
    "df.nlargest(\n",
    "    n: 'int',\n",
    "    columns: 'IndexLabel',\n",
    "    keep: {'first', 'last', 'all'} = 'first',    # how to keep duplicated items.\n",
    ") -> 'DataFrame'\n",
    "\n",
    "Docstring:\n",
    "Return the first `n` rows ordered by `columns` in descending order.\n",
    "\n",
    "Signature:\n",
    "df.nsmallest(\n",
    "    n: 'int',\n",
    "    columns: 'IndexLabel',\n",
    "    keep: {'first', 'last', 'all'} = 'first',\n",
    ") -> 'DataFrame'\n",
    "\n",
    "Docstring:\n",
    "Return the first `n` rows ordered by `columns` in ascending order.\n",
    "```"
   ]
  },
  {
   "cell_type": "code",
   "execution_count": null,
   "id": "d2fa3280-da0a-4cc3-8a99-dde4a8f66454",
   "metadata": {},
   "outputs": [
    {
     "data": {
      "text/html": [
       "<div>\n",
       "<style scoped>\n",
       "    .dataframe tbody tr th:only-of-type {\n",
       "        vertical-align: middle;\n",
       "    }\n",
       "\n",
       "    .dataframe tbody tr th {\n",
       "        vertical-align: top;\n",
       "    }\n",
       "\n",
       "    .dataframe thead th {\n",
       "        text-align: right;\n",
       "    }\n",
       "</style>\n",
       "<table border=\"1\" class=\"dataframe\">\n",
       "  <thead>\n",
       "    <tr style=\"text-align: right;\">\n",
       "      <th></th>\n",
       "      <th>A</th>\n",
       "      <th>B</th>\n",
       "    </tr>\n",
       "  </thead>\n",
       "  <tbody>\n",
       "    <tr>\n",
       "      <th>1</th>\n",
       "      <td>3.5</td>\n",
       "      <td>2</td>\n",
       "    </tr>\n",
       "    <tr>\n",
       "      <th>2</th>\n",
       "      <td>2.0</td>\n",
       "      <td>1</td>\n",
       "    </tr>\n",
       "    <tr>\n",
       "      <th>3</th>\n",
       "      <td>2.0</td>\n",
       "      <td>4</td>\n",
       "    </tr>\n",
       "  </tbody>\n",
       "</table>\n",
       "</div>"
      ],
      "text/plain": [
       "     A  B\n",
       "1  3.5  2\n",
       "2  2.0  1\n",
       "3  2.0  4"
      ]
     },
     "execution_count": 189,
     "metadata": {},
     "output_type": "execute_result"
    }
   ],
   "source": [
    "df.nlargest(n=2, columns='A', keep='all')"
   ]
  },
  {
   "cell_type": "markdown",
   "id": "bde7d982-3838-4e19-bd9a-d527c1af87b7",
   "metadata": {},
   "source": [
    "## 4.12. Time."
   ]
  },
  {
   "cell_type": "markdown",
   "id": "a2c4bc51-93cd-4242-9ae2-c76910cfe509",
   "metadata": {},
   "source": [
    "### 4.12.1. Frequency."
   ]
  },
  {
   "cell_type": "code",
   "execution_count": null,
   "id": "2a6e2d78-bd57-444b-b789-8fa3236ba069",
   "metadata": {},
   "outputs": [
    {
     "data": {
      "text/html": [
       "<div>\n",
       "<style scoped>\n",
       "    .dataframe tbody tr th:only-of-type {\n",
       "        vertical-align: middle;\n",
       "    }\n",
       "\n",
       "    .dataframe tbody tr th {\n",
       "        vertical-align: top;\n",
       "    }\n",
       "\n",
       "    .dataframe thead th {\n",
       "        text-align: right;\n",
       "    }\n",
       "</style>\n",
       "<table border=\"1\" class=\"dataframe\">\n",
       "  <thead>\n",
       "    <tr style=\"text-align: right;\">\n",
       "      <th></th>\n",
       "      <th>s</th>\n",
       "    </tr>\n",
       "  </thead>\n",
       "  <tbody>\n",
       "    <tr>\n",
       "      <th>2000-01-01 00:00:00</th>\n",
       "      <td>0.0</td>\n",
       "    </tr>\n",
       "    <tr>\n",
       "      <th>2000-01-01 00:01:00</th>\n",
       "      <td>NaN</td>\n",
       "    </tr>\n",
       "    <tr>\n",
       "      <th>2000-01-01 00:02:00</th>\n",
       "      <td>2.0</td>\n",
       "    </tr>\n",
       "    <tr>\n",
       "      <th>2000-01-01 00:03:00</th>\n",
       "      <td>3.0</td>\n",
       "    </tr>\n",
       "  </tbody>\n",
       "</table>\n",
       "</div>"
      ],
      "text/plain": [
       "                       s\n",
       "2000-01-01 00:00:00  0.0\n",
       "2000-01-01 00:01:00  NaN\n",
       "2000-01-01 00:02:00  2.0\n",
       "2000-01-01 00:03:00  3.0"
      ]
     },
     "metadata": {},
     "output_type": "display_data"
    },
    {
     "data": {
      "text/html": [
       "<div>\n",
       "<style scoped>\n",
       "    .dataframe tbody tr th:only-of-type {\n",
       "        vertical-align: middle;\n",
       "    }\n",
       "\n",
       "    .dataframe tbody tr th {\n",
       "        vertical-align: top;\n",
       "    }\n",
       "\n",
       "    .dataframe thead th {\n",
       "        text-align: right;\n",
       "    }\n",
       "</style>\n",
       "<table border=\"1\" class=\"dataframe\">\n",
       "  <thead>\n",
       "    <tr style=\"text-align: right;\">\n",
       "      <th></th>\n",
       "      <th>s</th>\n",
       "    </tr>\n",
       "  </thead>\n",
       "  <tbody>\n",
       "    <tr>\n",
       "      <th>2000-01-01 00:00:00</th>\n",
       "      <td>0.0</td>\n",
       "    </tr>\n",
       "    <tr>\n",
       "      <th>2000-01-01 00:00:30</th>\n",
       "      <td>NaN</td>\n",
       "    </tr>\n",
       "    <tr>\n",
       "      <th>2000-01-01 00:01:00</th>\n",
       "      <td>NaN</td>\n",
       "    </tr>\n",
       "    <tr>\n",
       "      <th>2000-01-01 00:01:30</th>\n",
       "      <td>2.0</td>\n",
       "    </tr>\n",
       "    <tr>\n",
       "      <th>2000-01-01 00:02:00</th>\n",
       "      <td>2.0</td>\n",
       "    </tr>\n",
       "    <tr>\n",
       "      <th>2000-01-01 00:02:30</th>\n",
       "      <td>3.0</td>\n",
       "    </tr>\n",
       "    <tr>\n",
       "      <th>2000-01-01 00:03:00</th>\n",
       "      <td>3.0</td>\n",
       "    </tr>\n",
       "  </tbody>\n",
       "</table>\n",
       "</div>"
      ],
      "text/plain": [
       "                       s\n",
       "2000-01-01 00:00:00  0.0\n",
       "2000-01-01 00:00:30  NaN\n",
       "2000-01-01 00:01:00  NaN\n",
       "2000-01-01 00:01:30  2.0\n",
       "2000-01-01 00:02:00  2.0\n",
       "2000-01-01 00:02:30  3.0\n",
       "2000-01-01 00:03:00  3.0"
      ]
     },
     "execution_count": 190,
     "metadata": {},
     "output_type": "execute_result"
    }
   ],
   "source": [
    "index = pd.date_range('1/1/2000', periods=4, freq='min')\n",
    "series = pd.Series([0.0, None, 2.0, 3.0], index=index)\n",
    "df = pd.DataFrame({'s': series})\n",
    "display(df)\n",
    "df.asfreq(freq='30s', method='bfill')"
   ]
  },
  {
   "cell_type": "markdown",
   "id": "1b4469d0-bc27-4804-a3a1-2a6eb0bf0dbf",
   "metadata": {},
   "source": [
    "### 4.12.2. Timestamp."
   ]
  },
  {
   "cell_type": "code",
   "execution_count": null,
   "id": "9cfe97a7-9321-4dd9-bbb5-d9ac70382175",
   "metadata": {},
   "outputs": [
    {
     "data": {
      "text/html": [
       "<div>\n",
       "<style scoped>\n",
       "    .dataframe tbody tr th:only-of-type {\n",
       "        vertical-align: middle;\n",
       "    }\n",
       "\n",
       "    .dataframe tbody tr th {\n",
       "        vertical-align: top;\n",
       "    }\n",
       "\n",
       "    .dataframe thead th {\n",
       "        text-align: right;\n",
       "    }\n",
       "</style>\n",
       "<table border=\"1\" class=\"dataframe\">\n",
       "  <thead>\n",
       "    <tr style=\"text-align: right;\">\n",
       "      <th></th>\n",
       "      <th>col1</th>\n",
       "      <th>col2</th>\n",
       "    </tr>\n",
       "  </thead>\n",
       "  <tbody>\n",
       "    <tr>\n",
       "      <th>2023-01-01</th>\n",
       "      <td>1</td>\n",
       "      <td>3</td>\n",
       "    </tr>\n",
       "    <tr>\n",
       "      <th>2024-01-01</th>\n",
       "      <td>2</td>\n",
       "      <td>4</td>\n",
       "    </tr>\n",
       "  </tbody>\n",
       "</table>\n",
       "</div>"
      ],
      "text/plain": [
       "            col1  col2\n",
       "2023-01-01     1     3\n",
       "2024-01-01     2     4"
      ]
     },
     "execution_count": 191,
     "metadata": {},
     "output_type": "execute_result"
    }
   ],
   "source": [
    "idx = pd.PeriodIndex(['2023', '2024'], freq='Y')\n",
    "d = {'col1': [1, 2], 'col2': [3, 4]}\n",
    "df1 = pd.DataFrame(data=d, index=idx)\n",
    "df1 = df1.to_timestamp()\n",
    "df1"
   ]
  },
  {
   "cell_type": "markdown",
   "id": "03f5100d-49b1-4a8f-9a3c-3f453427ef48",
   "metadata": {},
   "source": [
    "### 4.12.3. Timezone."
   ]
  },
  {
   "cell_type": "code",
   "execution_count": null,
   "id": "58b4281a-3298-46be-9fc8-c8fbdb881058",
   "metadata": {},
   "outputs": [
    {
     "data": {
      "text/plain": [
       "2018-09-15 07:30:00+08:00    1\n",
       "dtype: int64"
      ]
     },
     "execution_count": 192,
     "metadata": {},
     "output_type": "execute_result"
    }
   ],
   "source": [
    "s = pd.Series(\n",
    "    [1],\n",
    "    index=pd.DatetimeIndex(['2018-09-15 01:30:00+02:00']),\n",
    ")\n",
    "s.tz_convert('Asia/Shanghai')"
   ]
  },
  {
   "cell_type": "code",
   "execution_count": null,
   "id": "f9df571d-7954-4e12-93d8-a43bbe1b9b9e",
   "metadata": {},
   "outputs": [
    {
     "data": {
      "text/plain": [
       "2018-09-15 01:30:00+02:00    1\n",
       "dtype: int64"
      ]
     },
     "execution_count": 193,
     "metadata": {},
     "output_type": "execute_result"
    }
   ],
   "source": [
    "s = pd.Series(\n",
    "    [1],\n",
    "    index=pd.DatetimeIndex(['2018-09-15 01:30:00']),\n",
    ")\n",
    "s.tz_localize('CET')"
   ]
  },
  {
   "cell_type": "markdown",
   "id": "42a88928-0b7c-4a20-9963-5ace925414b0",
   "metadata": {},
   "source": [
    "# 5. Plot."
   ]
  },
  {
   "cell_type": "markdown",
   "id": "5d82341f-07a4-4466-8384-3e4883989f96",
   "metadata": {},
   "source": [
    "## 5.1. `'kind'`."
   ]
  },
  {
   "cell_type": "code",
   "execution_count": null,
   "id": "c27ba75f-f7e7-4789-87b0-7020c566e3f1",
   "metadata": {},
   "outputs": [
    {
     "data": {
      "text/html": [
       "<div>\n",
       "<style scoped>\n",
       "    .dataframe tbody tr th:only-of-type {\n",
       "        vertical-align: middle;\n",
       "    }\n",
       "\n",
       "    .dataframe tbody tr th {\n",
       "        vertical-align: top;\n",
       "    }\n",
       "\n",
       "    .dataframe thead th {\n",
       "        text-align: right;\n",
       "    }\n",
       "</style>\n",
       "<table border=\"1\" class=\"dataframe\">\n",
       "  <thead>\n",
       "    <tr style=\"text-align: right;\">\n",
       "      <th></th>\n",
       "      <th>A</th>\n",
       "      <th>B</th>\n",
       "    </tr>\n",
       "  </thead>\n",
       "  <tbody>\n",
       "    <tr>\n",
       "      <th>2000-01-01 00:00:00</th>\n",
       "      <td>0</td>\n",
       "      <td>0</td>\n",
       "    </tr>\n",
       "    <tr>\n",
       "      <th>2000-01-01 00:01:00</th>\n",
       "      <td>1</td>\n",
       "      <td>1</td>\n",
       "    </tr>\n",
       "    <tr>\n",
       "      <th>2000-01-01 00:02:00</th>\n",
       "      <td>1</td>\n",
       "      <td>2</td>\n",
       "    </tr>\n",
       "    <tr>\n",
       "      <th>2000-01-01 00:03:00</th>\n",
       "      <td>2</td>\n",
       "      <td>3</td>\n",
       "    </tr>\n",
       "    <tr>\n",
       "      <th>2000-01-01 00:04:00</th>\n",
       "      <td>3</td>\n",
       "      <td>4</td>\n",
       "    </tr>\n",
       "  </tbody>\n",
       "</table>\n",
       "</div>"
      ],
      "text/plain": [
       "                     A  B\n",
       "2000-01-01 00:00:00  0  0\n",
       "2000-01-01 00:01:00  1  1\n",
       "2000-01-01 00:02:00  1  2\n",
       "2000-01-01 00:03:00  2  3\n",
       "2000-01-01 00:04:00  3  4"
      ]
     },
     "metadata": {},
     "output_type": "display_data"
    },
    {
     "data": {
      "image/png": "[encoded data removed]",
      "text/plain": [
       "<Figure size 1600x900 with 10 Axes>"
      ]
     },
     "metadata": {},
     "output_type": "display_data"
    }
   ],
   "source": [
    "import matplotlib.pyplot as plt\n",
    "\n",
    "index = pd.date_range('1/1/2000', periods=5, freq='min')\n",
    "df = pd.DataFrame({'A': [0, 1, 1, 2, 3],\n",
    "                   'B': [0, 1, 2, 3, 4]}, \n",
    "                   index=index)\n",
    "display(df)\n",
    "\n",
    "kinds = ['line', 'bar', 'barh', 'hist', 'box', 'kde', 'area', 'pie']\n",
    "n = len(kinds)\n",
    "rows = 3\n",
    "cols = 4  \n",
    "\n",
    "fig, axes = plt.subplots(rows, cols, figsize=(cols * 4, rows * 3))\n",
    "axes = axes.flatten()\n",
    "\n",
    "df.plot(kind='line', ax=axes[0], title='line')\n",
    "df.plot(kind='bar', ax=axes[1], title='bar')\n",
    "df.plot(kind='barh', ax=axes[2], title='barh')\n",
    "df.plot(kind='hist', ax=axes[3], title='hist')\n",
    "df.plot(kind='box', ax=axes[4], title='box')\n",
    "df.plot(kind='kde', ax=axes[5], title='kde')\n",
    "df.plot(kind='area', ax=axes[6], title='area')\n",
    "df.plot(kind='scatter', x='A', y='B', ax=axes[7], title='scatter')\n",
    "df['A'].plot(kind='pie', ax=axes[8], autopct='%1.1f%%', title='pie_A')\n",
    "df['B'].plot(kind='pie', ax=axes[9], autopct='%1.1f%%', title='pie_B')\n",
    "\n",
    "\n",
    "fig.delaxes(axes[10])\n",
    "fig.delaxes(axes[11])\n",
    "\n",
    "plt.tight_layout()\n",
    "plt.show()"
   ]
  },
  {
   "cell_type": "markdown",
   "id": "38718bf0-0cb0-4beb-b9e7-b0da41a218ab",
   "metadata": {},
   "source": [
    "## 5.2. Options."
   ]
  },
  {
   "cell_type": "markdown",
   "id": "412e575a-1f09-4555-9945-f274b73f41fd",
   "metadata": {},
   "source": [
    "### 5.2.1. General."
   ]
  },
  {
   "cell_type": "code",
   "execution_count": null,
   "id": "3eddac3f-cdc6-4187-af97-9b15e53d9be6",
   "metadata": {},
   "outputs": [
    {
     "data": {
      "text/plain": [
       "<Axes: xlabel='hi', ylabel='bye'>"
      ]
     },
     "execution_count": 195,
     "metadata": {},
     "output_type": "execute_result"
    },
    {
     "data": {
      "image/png": "[encoded data removed]",
      "text/plain": [
       "<Figure size 1000x400 with 1 Axes>"
      ]
     },
     "metadata": {},
     "output_type": "display_data"
    }
   ],
   "source": [
    "df = pd.DataFrame({\n",
    "    'A': range(1, 6),\n",
    "    'B': range(5, 10)\n",
    "}, index=range(1, 6))\n",
    "\n",
    "df.plot(figsize=(10, 4),             # figsize.\n",
    "        use_index=True,              # use idx for x-axis or not.\n",
    "        grid=True,                   # draw grid or not.\n",
    "        legend=True,                 # place legend or not.\n",
    "        style=['.', '--'],           # style for each column.\n",
    "        logx=False,                  # use log scaling for x-axis.\n",
    "        logy=False,                  # use log scaling for y-axis.\n",
    "        xticks=[0, 2, 4],            # values for x-axis.\n",
    "        yticks=range(0, 12, 2),      # values for y-axis.\n",
    "        xlim=[0, 6],                 # the range of x-axis.\n",
    "        ylim=[0, 10],                # the range of y-axis.\n",
    "        xlabel='hi',                 # label for x-axis.\n",
    "        ylabel='bye',                # label for y-axis.\n",
    "        rot=45,                      # rotate x-ticks.\n",
    "        fontsize=10,                 # font size for x/y-ticks.\n",
    "        colormap='tab10',            # colormap.\n",
    "        table=True,                  # draw a table for each index and value.\n",
    "        backend=None,                # backend to plot. default=matplotlib.\n",
    "        )"
   ]
  },
  {
   "cell_type": "markdown",
   "id": "c48ea09e-b5b4-4985-a97b-61faed24e520",
   "metadata": {},
   "source": [
    "### 5.2.2. `'stacked'`."
   ]
  },
  {
   "cell_type": "code",
   "execution_count": null,
   "id": "bb76b548-ddc6-4c88-a791-1703cbd0286e",
   "metadata": {},
   "outputs": [
    {
     "data": {
      "text/plain": [
       "<Axes: title={'center': 'bar'}>"
      ]
     },
     "execution_count": 196,
     "metadata": {},
     "output_type": "execute_result"
    },
    {
     "data": {
      "image/png": "[encoded data removed]",
      "text/plain": [
       "<Figure size 640x480 with 1 Axes>"
      ]
     },
     "metadata": {},
     "output_type": "display_data"
    }
   ],
   "source": [
    "# 'stacked', for 'bar' and 'area'.\n",
    "df.plot(kind='bar', title='bar', stacked=True)"
   ]
  },
  {
   "cell_type": "markdown",
   "id": "90a1c9db-75cc-45cf-9f6d-3e8d6814b1e3",
   "metadata": {},
   "source": [
    "### 5.2.3. Secondary y-axis."
   ]
  },
  {
   "cell_type": "code",
   "execution_count": null,
   "id": "6e23358a-697e-4384-9c43-141ab501c1b3",
   "metadata": {},
   "outputs": [
    {
     "data": {
      "image/png": "[encoded data removed]",
      "text/plain": [
       "<Figure size 640x480 with 2 Axes>"
      ]
     },
     "metadata": {},
     "output_type": "display_data"
    }
   ],
   "source": [
    "df = pd.DataFrame({\n",
    "    'A': range(1, 6),\n",
    "    'B': range(5, 10)\n",
    "}, index=range(1, 6))\n",
    "\n",
    "# Plot with B on secondary y-axis\n",
    "ax = df.plot(\n",
    "    secondary_y='B',\n",
    "    mark_right=True,        # Legend shows \"(right)\" for secondary axis\n",
    "    grid=True,\n",
    "    style=['o', '-']\n",
    ")\n"
   ]
  },
  {
   "cell_type": "markdown",
   "id": "2aca47e1-49c6-4403-bb1b-b4fd3418ba9e",
   "metadata": {},
   "source": [
    "## 5.3. Subplots."
   ]
  },
  {
   "cell_type": "code",
   "execution_count": null,
   "id": "00162498-88c5-4799-816f-61ec40d859e2",
   "metadata": {},
   "outputs": [
    {
     "data": {
      "text/plain": [
       "array([[<Axes: >, <Axes: >]], dtype=object)"
      ]
     },
     "execution_count": 198,
     "metadata": {},
     "output_type": "execute_result"
    },
    {
     "data": {
      "image/png": "[encoded data removed]",
      "text/plain": [
       "<Figure size 1000x400 with 2 Axes>"
      ]
     },
     "metadata": {},
     "output_type": "display_data"
    }
   ],
   "source": [
    "df = pd.DataFrame({\n",
    "    'A': range(5),\n",
    "    'B': range(5, 10)\n",
    "}, index=range(1, 6))\n",
    "\n",
    "df.plot(subplots=True,\n",
    "        sharex=True,\n",
    "        sharey=False,\n",
    "        layout=(1, 2),\n",
    "        figsize=(10, 4),\n",
    "        )\n"
   ]
  },
  {
   "cell_type": "markdown",
   "id": "532578d3-dc70-41d5-ab8f-d4f8aee96e82",
   "metadata": {},
   "source": [
    "## 5.4. Errors."
   ]
  },
  {
   "cell_type": "code",
   "execution_count": null,
   "id": "68463a78-ec85-4dbc-97d4-eae17bd74ae5",
   "metadata": {},
   "outputs": [
    {
     "data": {
      "text/plain": [
       "<Axes: xlabel='hi', ylabel='bye'>"
      ]
     },
     "execution_count": 199,
     "metadata": {},
     "output_type": "execute_result"
    },
    {
     "data": {
      "image/png": "[encoded data removed]",
      "text/plain": [
       "<Figure size 1000x400 with 1 Axes>"
      ]
     },
     "metadata": {},
     "output_type": "display_data"
    }
   ],
   "source": [
    "df = pd.DataFrame({\n",
    "    'group': np.tile(range(1, 6), 3),  # 5 groups, 3 samples each\n",
    "    'A': np.random.normal(loc=5, scale=1, size=15),\n",
    "    'B': np.random.normal(loc=8, scale=2, size=15)\n",
    "})\n",
    "\n",
    "grouped = df.groupby('group')\n",
    "means = grouped.mean()\n",
    "err_std = grouped.std()\n",
    "err_sem = err_std / np.sqrt(len(df))\n",
    "\n",
    "fig, ax = plt.subplots(figsize=(10, 4))\n",
    "means.plot(\n",
    "    kind='bar',\n",
    "    yerr=err_sem,\n",
    "    ax=ax,\n",
    "    capsize=4,\n",
    "    grid=True,\n",
    "    legend=True,\n",
    "    colormap='tab10',\n",
    "    rot=0,\n",
    "    xlabel='hi',\n",
    "    ylabel='bye'\n",
    ")\n"
   ]
  },
  {
   "cell_type": "markdown",
   "id": "2acd7bdd-16dd-4286-a35f-fa1cf8356b06",
   "metadata": {},
   "source": [
    "# 6. Miscellaneous."
   ]
  },
  {
   "cell_type": "markdown",
   "id": "7191a311-8700-4087-9b1a-a7b00de571b9",
   "metadata": {},
   "source": [
    "## 6.1. Export."
   ]
  },
  {
   "cell_type": "code",
   "execution_count": null,
   "id": "48cbbe9c-5056-40c1-8181-8217dba30312",
   "metadata": {},
   "outputs": [
    {
     "data": {
      "text/html": [
       "<div>\n",
       "<style scoped>\n",
       "    .dataframe tbody tr th:only-of-type {\n",
       "        vertical-align: middle;\n",
       "    }\n",
       "\n",
       "    .dataframe tbody tr th {\n",
       "        vertical-align: top;\n",
       "    }\n",
       "\n",
       "    .dataframe thead th {\n",
       "        text-align: right;\n",
       "    }\n",
       "</style>\n",
       "<table border=\"1\" class=\"dataframe\">\n",
       "  <thead>\n",
       "    <tr style=\"text-align: right;\">\n",
       "      <th></th>\n",
       "      <th>A</th>\n",
       "      <th>B</th>\n",
       "    </tr>\n",
       "  </thead>\n",
       "  <tbody>\n",
       "    <tr>\n",
       "      <th>0</th>\n",
       "      <td>5.274271</td>\n",
       "      <td>4.909041</td>\n",
       "    </tr>\n",
       "    <tr>\n",
       "      <th>1</th>\n",
       "      <td>4.019057</td>\n",
       "      <td>6.812817</td>\n",
       "    </tr>\n",
       "    <tr>\n",
       "      <th>2</th>\n",
       "      <td>4.486577</td>\n",
       "      <td>8.386779</td>\n",
       "    </tr>\n",
       "    <tr>\n",
       "      <th>3</th>\n",
       "      <td>6.208189</td>\n",
       "      <td>3.660090</td>\n",
       "    </tr>\n",
       "    <tr>\n",
       "      <th>4</th>\n",
       "      <td>3.663925</td>\n",
       "      <td>6.357364</td>\n",
       "    </tr>\n",
       "  </tbody>\n",
       "</table>\n",
       "</div>"
      ],
      "text/plain": [
       "          A         B\n",
       "0  5.274271  4.909041\n",
       "1  4.019057  6.812817\n",
       "2  4.486577  8.386779\n",
       "3  6.208189  3.660090\n",
       "4  3.663925  6.357364"
      ]
     },
     "metadata": {},
     "output_type": "display_data"
    }
   ],
   "source": [
    "df = pd.DataFrame({\n",
    "    'A': np.random.normal(loc=5, scale=1, size=5),\n",
    "    'B': np.random.normal(loc=5, scale=2, size=5)\n",
    "})\n",
    "\n",
    "display(df)\n",
    "\n",
    "df.to_csv()\n",
    "df.to_markdown()\n",
    "df.to_dict()\n",
    "df.to_json()\n",
    "df.to_html()\n",
    "df.to_string()\n",
    "df.to_clipboard()"
   ]
  },
  {
   "cell_type": "markdown",
   "id": "d43c918f-79a9-4197-b9c3-141423d04a64",
   "metadata": {},
   "source": [
    "## 6.2. Style."
   ]
  },
  {
   "cell_type": "markdown",
   "id": "8cc58171-6130-4374-aaed-985b622f784d",
   "metadata": {},
   "source": [
    "- https://pandas.pydata.org/docs/user_guide/style.html"
   ]
  },
  {
   "cell_type": "code",
   "execution_count": null,
   "id": "71067fcd-7554-4f33-b0e7-94534ee2440e",
   "metadata": {},
   "outputs": [
    {
     "data": {
      "text/html": [
       "<style type=\"text/css\">\n",
       "#T_c4fd1_row0_col0 {\n",
       "  background-color: #f7fbff;\n",
       "  color: #000000;\n",
       "}\n",
       "#T_c4fd1_row1_col0 {\n",
       "  background-color: #6aaed6;\n",
       "  color: #f1f1f1;\n",
       "}\n",
       "#T_c4fd1_row2_col0 {\n",
       "  background-color: #08306b;\n",
       "  color: #f1f1f1;\n",
       "}\n",
       "</style>\n",
       "<table id=\"T_c4fd1\">\n",
       "  <thead>\n",
       "    <tr>\n",
       "      <th class=\"blank level0\" >&nbsp;</th>\n",
       "      <th id=\"T_c4fd1_level0_col0\" class=\"col_heading level0 col0\" >A</th>\n",
       "    </tr>\n",
       "  </thead>\n",
       "  <tbody>\n",
       "    <tr>\n",
       "      <th id=\"T_c4fd1_level0_row0\" class=\"row_heading level0 row0\" >0</th>\n",
       "      <td id=\"T_c4fd1_row0_col0\" class=\"data row0 col0\" >1</td>\n",
       "    </tr>\n",
       "    <tr>\n",
       "      <th id=\"T_c4fd1_level0_row1\" class=\"row_heading level0 row1\" >1</th>\n",
       "      <td id=\"T_c4fd1_row1_col0\" class=\"data row1 col0\" >2</td>\n",
       "    </tr>\n",
       "    <tr>\n",
       "      <th id=\"T_c4fd1_level0_row2\" class=\"row_heading level0 row2\" >2</th>\n",
       "      <td id=\"T_c4fd1_row2_col0\" class=\"data row2 col0\" >3</td>\n",
       "    </tr>\n",
       "  </tbody>\n",
       "</table>\n"
      ],
      "text/plain": [
       "<pandas.io.formats.style.Styler at 0x22e823f9150>"
      ]
     },
     "execution_count": 201,
     "metadata": {},
     "output_type": "execute_result"
    }
   ],
   "source": [
    "df = pd.DataFrame({'A': [1, 2, 3]})\n",
    "df.style.highlight_max()\n",
    "df.style.format(\"{:.2f}\")\n",
    "df.style.background_gradient(cmap='Blues')"
   ]
  }
 ],
 "metadata": {
  "kernelspec": {
   "display_name": "study_ai",
   "language": "python",
   "name": "python3"
  },
  "language_info": {
   "codemirror_mode": {
    "name": "ipython",
    "version": 3
   },
   "file_extension": ".py",
   "mimetype": "text/x-python",
   "name": "python",
   "nbconvert_exporter": "python",
   "pygments_lexer": "ipython3",
   "version": "3.10.16"
  }
 },
 "nbformat": 4,
 "nbformat_minor": 5
}
