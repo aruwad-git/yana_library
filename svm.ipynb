{
 "cells": [
  {
   "cell_type": "markdown",
   "id": "149d79de",
   "metadata": {},
   "source": [
    "# 1. Hard-Margin SVM Optimization\n",
    "\n",
    "## 1. Primal (constrained optimization problem)\n",
    "$ \\min_{w,b} \\tfrac{1}{2}\\|w\\|^2 \\quad \\text{s.t. } y_i(w^\\top x_i + b) \\ge 1, \\;\\; \\forall i $\n",
    "\n",
    "---\n",
    "\n",
    "## 2. Lagrangian\n",
    "Introduce multipliers $\\alpha_i \\ge 0$ for each constraint:\n",
    "\n",
    "$ \\mathcal{L}(w,b,\\alpha) = \\tfrac{1}{2}\\|w\\|^2 - \\sum_i \\alpha_i \\big( y_i(w^\\top x_i + b) - 1 \\big) $\n",
    "\n",
    "---\n",
    "\n",
    "## 3. KKT Conditions\n",
    "\n",
    "### (a) Stationarity\n",
    "$ \\frac{\\partial \\mathcal{L}}{\\partial w} = 0 \\;\\;\\;\\Rightarrow\\;\\;\\; w = \\sum_i \\alpha_i y_i x_i $  \n",
    "$ \\frac{\\partial \\mathcal{L}}{\\partial b} = 0 \\;\\;\\;\\Rightarrow\\;\\;\\; \\sum_i \\alpha_i y_i = 0 $\n",
    "\n",
    "### (b) Primal feasibility\n",
    "$ y_i(w^\\top x_i + b) \\ge 1, \\quad \\forall i $\n",
    "\n",
    "### (c) Dual feasibility\n",
    "$ \\alpha_i \\ge 0, \\quad \\forall i $\n",
    "\n",
    "### (d) Complementary slackness\n",
    "$ \\alpha_i \\big( y_i(w^\\top x_i + b) - 1 \\big) = 0, \\quad \\forall i $\n",
    "\n",
    "---\n",
    "\n",
    "## 4. Dual Problem\n",
    "$ \\max_{\\alpha} \\;\\; \\sum_i \\alpha_i - \\tfrac{1}{2} \\sum_{i,j} \\alpha_i \\alpha_j y_i y_j (x_i^\\top x_j) $  \n",
    "subject to: $ \\alpha_i \\ge 0, \\quad \\sum_i \\alpha_i y_i = 0 $\n",
    "\n",
    "## 5. Solver\n",
    "- QP Solver.\n",
    "- Sequential Minimal Optimization.\n",
    "- etc."
   ]
  },
  {
   "cell_type": "markdown",
   "id": "fad8aa35",
   "metadata": {},
   "source": [
    "# 2. Soft Margin.\n",
    "$ \\displaystyle \\argmin_{w,b,\\xi\\ge 0} \\tfrac{1}{2}|w|^2 + C \\sum_i \\xi_i $\n",
    "\n",
    "subject to:\n",
    "\n",
    "$ y_i(w^\\top x_i + b) \\ge 1 - \\xi_i, \\quad \\forall i $\n",
    "\n",
    "- $\\xi_i \\ge 0$ are slack variables (how much each point is allowed to violate the margin).\n",
    "\n",
    "- $C$ is the penalty strength for violations."
   ]
  },
  {
   "cell_type": "markdown",
   "id": "57b6f752",
   "metadata": {},
   "source": [
    "# 3. Usage."
   ]
  },
  {
   "cell_type": "code",
   "execution_count": null,
   "id": "c224713a",
   "metadata": {},
   "outputs": [],
   "source": [
    "from sklearn.svm import LinearSVC\n",
    "\n",
    "# Create the model.\n",
    "clf = LinearSVC(C=1.0, max_iter=1_000)\n",
    "\n",
    "# Fit.\n",
    "clf.fit(X_train, y_train)\n",
    "\n",
    "# Predict.\n",
    "y_pred = clf.predict(X_test)\n",
    "\n",
    "# Params.\n",
    "print(\"w:\", clf.coef_)        # Weight vector.\n",
    "print(\"b:\", clf.intercept_)   # Bias.\n"
   ]
  },
  {
   "cell_type": "markdown",
   "id": "8378a2af",
   "metadata": {},
   "source": [
    "# c.f. ||w|| vs margin."
   ]
  },
  {
   "cell_type": "code",
   "execution_count": null,
   "id": "c93e4e70",
   "metadata": {},
   "outputs": [
    {
     "data": {
      "image/png": "[encoded data removed]",
      "text/plain": [
       "<Figure size 1000x500 with 2 Axes>"
      ]
     },
     "metadata": {},
     "output_type": "display_data"
    }
   ],
   "source": [
    "import matplotlib.pyplot as plt\n",
    "import numpy as np\n",
    "\n",
    "def plot_lines(ax, w, b_vals, color, label):\n",
    "    \"\"\"\n",
    "    Plot lines of form w[0]*x + w[1]*y + b = 0 for each b in b_vals\n",
    "    \"\"\"\n",
    "    x = np.linspace(-5, 5, 400)\n",
    "    if w[1] != 0:\n",
    "        for b in b_vals:\n",
    "            y = -(w[0]*x + b)/w[1]\n",
    "            ax.plot(x, y, color=color)\n",
    "    else:  # vertical lines if w[1]==0\n",
    "        for b in b_vals:\n",
    "            x_line = -b/w[0]\n",
    "            ax.axvline(x_line, color=color)\n",
    "\n",
    "def draw_margin_example(w, title, ax):\n",
    "    # Two lines: w·x + b = ±1\n",
    "    plot_lines(ax, w, [+1, -1], 'blue', 'margins')\n",
    "    plot_lines(ax, w, [0], 'black', 'decision boundary')\n",
    "    \n",
    "    # pick a point on one line (w·x + b=+1)\n",
    "    # e.g. find intersection with x=0\n",
    "    if w[1] != 0:\n",
    "        x0 = 0\n",
    "        y0 = -(w[0]*x0 + 1)/w[1]\n",
    "    else:\n",
    "        x0 = -(1)/w[0]\n",
    "        y0 = 0\n",
    "    point = np.array([x0, y0])\n",
    "    \n",
    "    # direction of normal vector (unit vector)\n",
    "    w = np.array(w)\n",
    "    unit_w = w/np.linalg.norm(w)\n",
    "    \n",
    "    # distance between lines\n",
    "    d = 2/np.linalg.norm(w)\n",
    "    \n",
    "    # draw perpendicular segment\n",
    "    ax.plot([point[0], point[0]-unit_w[0]*d], [point[1], point[1]-unit_w[1]*d],\n",
    "            color='red', linewidth=2)\n",
    "    \n",
    "    ax.set_title(f\"{title}\\nDistance = {d:.2f}\")\n",
    "    ax.set_xlim(-3,3)\n",
    "    ax.set_ylim(-3,3)\n",
    "    ax.set_aspect('equal')\n",
    "\n",
    "fig, axs = plt.subplots(1,2, figsize=(10,5))\n",
    "\n",
    "# Case 1: w = (1,0)\n",
    "draw_margin_example((1,0), \"w=(1,0)\", axs[0])\n",
    "\n",
    "# Case 2: w = (3,4)\n",
    "draw_margin_example((3,4), \"w=(3,4)\", axs[1])\n",
    "\n",
    "plt.tight_layout()\n",
    "plt.show()\n"
   ]
  }
 ],
 "metadata": {
  "kernelspec": {
   "display_name": "yana_library",
   "language": "python",
   "name": "python3"
  },
  "language_info": {
   "codemirror_mode": {
    "name": "ipython",
    "version": 3
   },
   "file_extension": ".py",
   "mimetype": "text/x-python",
   "name": "python",
   "nbconvert_exporter": "python",
   "pygments_lexer": "ipython3",
   "version": "3.11.13"
  }
 },
 "nbformat": 4,
 "nbformat_minor": 5
}
