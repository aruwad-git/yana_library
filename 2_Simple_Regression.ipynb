{
 "cells": [
  {
   "cell_type": "markdown",
   "id": "3eda5b8d-0594-4d19-ad55-335d094b43c4",
   "metadata": {},
   "source": [
    "# About."
   ]
  },
  {
   "cell_type": "markdown",
   "id": "2e68ff3b-10e7-4e9e-80ad-62e6f4bf4eb9",
   "metadata": {},
   "source": [
    "- **History.**\n",
    "  - 2025.08.10, 1st summary.\n",
    "- **Library.**\n",
    "  - `sklearn`, 1.6.1.\n",
    "  - https://scikit-learn.org/stable/supervised_learning.html"
   ]
  },
  {
   "cell_type": "markdown",
   "id": "f0c76d6e-6aa4-4b63-b4e6-121f3e2e8364",
   "metadata": {},
   "source": [
    "# 0. Setup."
   ]
  },
  {
   "cell_type": "code",
   "execution_count": 3,
   "id": "4fdc9068",
   "metadata": {},
   "outputs": [
    {
     "name": "stdout",
     "output_type": "stream",
     "text": [
      "Collecting numpy (from -r requirements.txt (line 2))\n",
      "  Downloading numpy-2.3.2-cp311-cp311-win_amd64.whl.metadata (60 kB)\n",
      "Collecting pandas (from -r requirements.txt (line 3))\n",
      "  Downloading pandas-2.3.1-cp311-cp311-win_amd64.whl.metadata (19 kB)\n",
      "Collecting matplotlib (from -r requirements.txt (line 4))\n",
      "  Downloading matplotlib-3.10.5-cp311-cp311-win_amd64.whl.metadata (11 kB)\n",
      "Collecting lightgbm (from -r requirements.txt (line 6))\n",
      "  Downloading lightgbm-4.6.0-py3-none-win_amd64.whl.metadata (17 kB)\n",
      "Collecting shap (from -r requirements.txt (line 7))\n",
      "  Downloading shap-0.48.0-cp311-cp311-win_amd64.whl.metadata (25 kB)\n",
      "Requirement already satisfied: python-dateutil>=2.8.2 in c:\\users\\aruwa\\anaconda3\\envs\\yana_library\\lib\\site-packages (from pandas->-r requirements.txt (line 3)) (2.9.0.post0)\n",
      "Collecting pytz>=2020.1 (from pandas->-r requirements.txt (line 3))\n",
      "  Using cached pytz-2025.2-py2.py3-none-any.whl.metadata (22 kB)\n",
      "Collecting tzdata>=2022.7 (from pandas->-r requirements.txt (line 3))\n",
      "  Using cached tzdata-2025.2-py2.py3-none-any.whl.metadata (1.4 kB)\n",
      "Collecting contourpy>=1.0.1 (from matplotlib->-r requirements.txt (line 4))\n",
      "  Downloading contourpy-1.3.3-cp311-cp311-win_amd64.whl.metadata (5.5 kB)\n",
      "Collecting cycler>=0.10 (from matplotlib->-r requirements.txt (line 4))\n",
      "  Using cached cycler-0.12.1-py3-none-any.whl.metadata (3.8 kB)\n",
      "Collecting fonttools>=4.22.0 (from matplotlib->-r requirements.txt (line 4))\n",
      "  Downloading fonttools-4.59.0-cp311-cp311-win_amd64.whl.metadata (110 kB)\n",
      "Collecting kiwisolver>=1.3.1 (from matplotlib->-r requirements.txt (line 4))\n",
      "  Downloading kiwisolver-1.4.9-cp311-cp311-win_amd64.whl.metadata (6.4 kB)\n",
      "Requirement already satisfied: packaging>=20.0 in c:\\users\\aruwa\\anaconda3\\envs\\yana_library\\lib\\site-packages (from matplotlib->-r requirements.txt (line 4)) (25.0)\n",
      "Collecting pillow>=8 (from matplotlib->-r requirements.txt (line 4))\n",
      "  Downloading pillow-11.3.0-cp311-cp311-win_amd64.whl.metadata (9.2 kB)\n",
      "Collecting pyparsing>=2.3.1 (from matplotlib->-r requirements.txt (line 4))\n",
      "  Using cached pyparsing-3.2.3-py3-none-any.whl.metadata (5.0 kB)\n",
      "Collecting scipy (from lightgbm->-r requirements.txt (line 6))\n",
      "  Downloading scipy-1.16.1-cp311-cp311-win_amd64.whl.metadata (60 kB)\n",
      "Collecting scikit-learn (from shap->-r requirements.txt (line 7))\n",
      "  Downloading scikit_learn-1.7.1-cp311-cp311-win_amd64.whl.metadata (11 kB)\n",
      "Collecting tqdm>=4.27.0 (from shap->-r requirements.txt (line 7))\n",
      "  Using cached tqdm-4.67.1-py3-none-any.whl.metadata (57 kB)\n",
      "Collecting slicer==0.0.8 (from shap->-r requirements.txt (line 7))\n",
      "  Downloading slicer-0.0.8-py3-none-any.whl.metadata (4.0 kB)\n",
      "Collecting numba>=0.54 (from shap->-r requirements.txt (line 7))\n",
      "  Downloading numba-0.61.2-cp311-cp311-win_amd64.whl.metadata (2.9 kB)\n",
      "Collecting cloudpickle (from shap->-r requirements.txt (line 7))\n",
      "  Downloading cloudpickle-3.1.1-py3-none-any.whl.metadata (7.1 kB)\n",
      "Requirement already satisfied: typing-extensions in c:\\users\\aruwa\\anaconda3\\envs\\yana_library\\lib\\site-packages (from shap->-r requirements.txt (line 7)) (4.14.1)\n",
      "Collecting llvmlite<0.45,>=0.44.0dev0 (from numba>=0.54->shap->-r requirements.txt (line 7))\n",
      "  Downloading llvmlite-0.44.0-cp311-cp311-win_amd64.whl.metadata (5.0 kB)\n",
      "Collecting numpy (from -r requirements.txt (line 2))\n",
      "  Downloading numpy-2.2.6-cp311-cp311-win_amd64.whl.metadata (60 kB)\n",
      "Requirement already satisfied: six>=1.5 in c:\\users\\aruwa\\anaconda3\\envs\\yana_library\\lib\\site-packages (from python-dateutil>=2.8.2->pandas->-r requirements.txt (line 3)) (1.17.0)\n",
      "Requirement already satisfied: colorama in c:\\users\\aruwa\\anaconda3\\envs\\yana_library\\lib\\site-packages (from tqdm>=4.27.0->shap->-r requirements.txt (line 7)) (0.4.6)\n",
      "Collecting joblib>=1.2.0 (from scikit-learn->shap->-r requirements.txt (line 7))\n",
      "  Using cached joblib-1.5.1-py3-none-any.whl.metadata (5.6 kB)\n",
      "Collecting threadpoolctl>=3.1.0 (from scikit-learn->shap->-r requirements.txt (line 7))\n",
      "  Using cached threadpoolctl-3.6.0-py3-none-any.whl.metadata (13 kB)\n",
      "Downloading pandas-2.3.1-cp311-cp311-win_amd64.whl (11.3 MB)\n",
      "   ---------------------------------------- 0.0/11.3 MB ? eta -:--:--\n",
      "   -------- ------------------------------- 2.4/11.3 MB 12.2 MB/s eta 0:00:01\n",
      "   ----------------- ---------------------- 5.0/11.3 MB 12.6 MB/s eta 0:00:01\n",
      "   --------------------------- ------------ 7.9/11.3 MB 12.5 MB/s eta 0:00:01\n",
      "   ------------------------------------ --- 10.5/11.3 MB 12.6 MB/s eta 0:00:01\n",
      "   ---------------------------------------- 11.3/11.3 MB 12.2 MB/s eta 0:00:00\n",
      "Downloading matplotlib-3.10.5-cp311-cp311-win_amd64.whl (8.1 MB)\n",
      "   ---------------------------------------- 0.0/8.1 MB ? eta -:--:--\n",
      "   ----------- ---------------------------- 2.4/8.1 MB 10.3 MB/s eta 0:00:01\n",
      "   ------------------------ --------------- 5.0/8.1 MB 11.6 MB/s eta 0:00:01\n",
      "   ------------------------------------- -- 7.6/8.1 MB 12.1 MB/s eta 0:00:01\n",
      "   ---------------------------------------- 8.1/8.1 MB 11.7 MB/s eta 0:00:00\n",
      "Downloading lightgbm-4.6.0-py3-none-win_amd64.whl (1.5 MB)\n",
      "   ---------------------------------------- 0.0/1.5 MB ? eta -:--:--\n",
      "   ---------------------------------------- 1.5/1.5 MB 10.9 MB/s eta 0:00:00\n",
      "Downloading shap-0.48.0-cp311-cp311-win_amd64.whl (544 kB)\n",
      "   ---------------------------------------- 0.0/544.4 kB ? eta -:--:--\n",
      "   ---------------------------------------- 544.4/544.4 kB 8.8 MB/s eta 0:00:00\n",
      "Downloading slicer-0.0.8-py3-none-any.whl (15 kB)\n",
      "Downloading contourpy-1.3.3-cp311-cp311-win_amd64.whl (225 kB)\n",
      "Using cached cycler-0.12.1-py3-none-any.whl (8.3 kB)\n",
      "Downloading fonttools-4.59.0-cp311-cp311-win_amd64.whl (2.3 MB)\n",
      "   ---------------------------------------- 0.0/2.3 MB ? eta -:--:--\n",
      "   ---------------------------------------- 2.3/2.3 MB 11.6 MB/s eta 0:00:00\n",
      "Downloading kiwisolver-1.4.9-cp311-cp311-win_amd64.whl (73 kB)\n",
      "Downloading numba-0.61.2-cp311-cp311-win_amd64.whl (2.8 MB)\n",
      "   ---------------------------------------- 0.0/2.8 MB ? eta -:--:--\n",
      "   --------------------------------- ------ 2.4/2.8 MB 12.2 MB/s eta 0:00:01\n",
      "   ---------------------------------------- 2.8/2.8 MB 11.0 MB/s eta 0:00:00\n",
      "Downloading numpy-2.2.6-cp311-cp311-win_amd64.whl (12.9 MB)\n",
      "   ---------------------------------------- 0.0/12.9 MB ? eta -:--:--\n",
      "   -------- ------------------------------- 2.6/12.9 MB 13.7 MB/s eta 0:00:01\n",
      "   --------------- ------------------------ 5.0/12.9 MB 12.6 MB/s eta 0:00:01\n",
      "   ----------------------- ---------------- 7.6/12.9 MB 12.7 MB/s eta 0:00:01\n",
      "   ------------------------------- -------- 10.2/12.9 MB 12.5 MB/s eta 0:00:01\n",
      "   ---------------------------------------  12.8/12.9 MB 12.6 MB/s eta 0:00:01\n",
      "   ---------------------------------------- 12.9/12.9 MB 12.1 MB/s eta 0:00:00\n",
      "Downloading llvmlite-0.44.0-cp311-cp311-win_amd64.whl (30.3 MB)\n",
      "   ---------------------------------------- 0.0/30.3 MB ? eta -:--:--\n",
      "   --- ------------------------------------ 2.4/30.3 MB 13.4 MB/s eta 0:00:03\n",
      "   ------ --------------------------------- 5.0/30.3 MB 12.6 MB/s eta 0:00:03\n",
      "   ---------- ----------------------------- 7.6/30.3 MB 12.7 MB/s eta 0:00:02\n",
      "   ------------- -------------------------- 10.5/30.3 MB 12.6 MB/s eta 0:00:02\n",
      "   ---------------- ----------------------- 12.8/30.3 MB 12.6 MB/s eta 0:00:02\n",
      "   -------------------- ------------------- 15.5/30.3 MB 12.5 MB/s eta 0:00:02\n",
      "   ----------------------- ---------------- 18.1/30.3 MB 12.5 MB/s eta 0:00:01\n",
      "   --------------------------- ------------ 20.7/30.3 MB 12.5 MB/s eta 0:00:01\n",
      "   ------------------------------ --------- 23.3/30.3 MB 12.5 MB/s eta 0:00:01\n",
      "   ---------------------------------- ----- 26.0/30.3 MB 12.5 MB/s eta 0:00:01\n",
      "   ------------------------------------- -- 28.6/30.3 MB 12.5 MB/s eta 0:00:01\n",
      "   ---------------------------------------- 30.3/30.3 MB 12.2 MB/s eta 0:00:00\n",
      "Downloading pillow-11.3.0-cp311-cp311-win_amd64.whl (7.0 MB)\n",
      "   ---------------------------------------- 0.0/7.0 MB ? eta -:--:--\n",
      "   ------------- -------------------------- 2.4/7.0 MB 12.2 MB/s eta 0:00:01\n",
      "   ---------------------------- ----------- 5.0/7.0 MB 12.6 MB/s eta 0:00:01\n",
      "   ---------------------------------------- 7.0/7.0 MB 11.9 MB/s eta 0:00:00\n",
      "Using cached pyparsing-3.2.3-py3-none-any.whl (111 kB)\n",
      "Using cached pytz-2025.2-py2.py3-none-any.whl (509 kB)\n",
      "Using cached tqdm-4.67.1-py3-none-any.whl (78 kB)\n",
      "Using cached tzdata-2025.2-py2.py3-none-any.whl (347 kB)\n",
      "Downloading cloudpickle-3.1.1-py3-none-any.whl (20 kB)\n",
      "Downloading scikit_learn-1.7.1-cp311-cp311-win_amd64.whl (8.9 MB)\n",
      "   ---------------------------------------- 0.0/8.9 MB ? eta -:--:--\n",
      "   ----------- ---------------------------- 2.6/8.9 MB 12.5 MB/s eta 0:00:01\n",
      "   ----------------------- ---------------- 5.2/8.9 MB 12.2 MB/s eta 0:00:01\n",
      "   ---------------------------------- ----- 7.6/8.9 MB 12.4 MB/s eta 0:00:01\n",
      "   ---------------------------------------- 8.9/8.9 MB 12.0 MB/s eta 0:00:00\n",
      "Using cached joblib-1.5.1-py3-none-any.whl (307 kB)\n",
      "Downloading scipy-1.16.1-cp311-cp311-win_amd64.whl (38.6 MB)\n",
      "   ---------------------------------------- 0.0/38.6 MB ? eta -:--:--\n",
      "   -- ------------------------------------- 2.4/38.6 MB 13.4 MB/s eta 0:00:03\n",
      "   ----- ---------------------------------- 5.0/38.6 MB 12.6 MB/s eta 0:00:03\n",
      "   ------- -------------------------------- 7.6/38.6 MB 12.7 MB/s eta 0:00:03\n",
      "   ---------- ----------------------------- 10.2/38.6 MB 12.8 MB/s eta 0:00:03\n",
      "   ------------- -------------------------- 12.6/38.6 MB 12.5 MB/s eta 0:00:03\n",
      "   --------------- ------------------------ 15.2/38.6 MB 12.6 MB/s eta 0:00:02\n",
      "   ------------------ --------------------- 17.8/38.6 MB 12.5 MB/s eta 0:00:02\n",
      "   --------------------- ------------------ 20.4/38.6 MB 12.5 MB/s eta 0:00:02\n",
      "   ----------------------- ---------------- 23.1/38.6 MB 12.5 MB/s eta 0:00:02\n",
      "   -------------------------- ------------- 25.7/38.6 MB 12.5 MB/s eta 0:00:02\n",
      "   ----------------------------- ---------- 28.3/38.6 MB 12.6 MB/s eta 0:00:01\n",
      "   -------------------------------- ------- 30.9/38.6 MB 12.5 MB/s eta 0:00:01\n",
      "   ---------------------------------- ----- 33.6/38.6 MB 12.5 MB/s eta 0:00:01\n",
      "   ------------------------------------- -- 36.2/38.6 MB 12.6 MB/s eta 0:00:01\n",
      "   ---------------------------------------  38.5/38.6 MB 12.5 MB/s eta 0:00:01\n",
      "   ---------------------------------------- 38.6/38.6 MB 12.3 MB/s eta 0:00:00\n",
      "Using cached threadpoolctl-3.6.0-py3-none-any.whl (18 kB)\n",
      "Installing collected packages: pytz, tzdata, tqdm, threadpoolctl, slicer, pyparsing, pillow, numpy, llvmlite, kiwisolver, joblib, fonttools, cycler, cloudpickle, scipy, pandas, numba, contourpy, scikit-learn, matplotlib, lightgbm, shap\n",
      "\n",
      "   ----------------------------------------  0/22 [pytz]\n",
      "   ----------------------------------------  0/22 [pytz]\n",
      "   - --------------------------------------  1/22 [tzdata]\n",
      "   - --------------------------------------  1/22 [tzdata]\n",
      "   --- ------------------------------------  2/22 [tqdm]\n",
      "   --------- ------------------------------  5/22 [pyparsing]\n",
      "   ---------- -----------------------------  6/22 [pillow]\n",
      "   ---------- -----------------------------  6/22 [pillow]\n",
      "   ---------- -----------------------------  6/22 [pillow]\n",
      "   ------------ ---------------------------  7/22 [numpy]\n",
      "   ------------ ---------------------------  7/22 [numpy]\n",
      "   ------------ ---------------------------  7/22 [numpy]\n",
      "   ------------ ---------------------------  7/22 [numpy]\n",
      "   ------------ ---------------------------  7/22 [numpy]\n",
      "   ------------ ---------------------------  7/22 [numpy]\n",
      "   ------------ ---------------------------  7/22 [numpy]\n",
      "   ------------ ---------------------------  7/22 [numpy]\n",
      "   ------------ ---------------------------  7/22 [numpy]\n",
      "   ------------ ---------------------------  7/22 [numpy]\n",
      "   ------------ ---------------------------  7/22 [numpy]\n",
      "   ------------ ---------------------------  7/22 [numpy]\n",
      "   ------------ ---------------------------  7/22 [numpy]\n",
      "   ------------ ---------------------------  7/22 [numpy]\n",
      "   ------------ ---------------------------  7/22 [numpy]\n",
      "   ------------ ---------------------------  7/22 [numpy]\n",
      "   ------------ ---------------------------  7/22 [numpy]\n",
      "   ------------ ---------------------------  7/22 [numpy]\n",
      "   ------------ ---------------------------  7/22 [numpy]\n",
      "   -------------- -------------------------  8/22 [llvmlite]\n",
      "   -------------- -------------------------  8/22 [llvmlite]\n",
      "   -------------- -------------------------  8/22 [llvmlite]\n",
      "   -------------- -------------------------  8/22 [llvmlite]\n",
      "   ------------------ --------------------- 10/22 [joblib]\n",
      "   ------------------ --------------------- 10/22 [joblib]\n",
      "   -------------------- ------------------- 11/22 [fonttools]\n",
      "   -------------------- ------------------- 11/22 [fonttools]\n",
      "   -------------------- ------------------- 11/22 [fonttools]\n",
      "   -------------------- ------------------- 11/22 [fonttools]\n",
      "   -------------------- ------------------- 11/22 [fonttools]\n",
      "   -------------------- ------------------- 11/22 [fonttools]\n",
      "   -------------------- ------------------- 11/22 [fonttools]\n",
      "   -------------------- ------------------- 11/22 [fonttools]\n",
      "   -------------------- ------------------- 11/22 [fonttools]\n",
      "   ------------------------- -------------- 14/22 [scipy]\n",
      "   ------------------------- -------------- 14/22 [scipy]\n",
      "   ------------------------- -------------- 14/22 [scipy]\n",
      "   ------------------------- -------------- 14/22 [scipy]\n",
      "   ------------------------- -------------- 14/22 [scipy]\n",
      "   ------------------------- -------------- 14/22 [scipy]\n",
      "   ------------------------- -------------- 14/22 [scipy]\n",
      "   ------------------------- -------------- 14/22 [scipy]\n",
      "   ------------------------- -------------- 14/22 [scipy]\n",
      "   ------------------------- -------------- 14/22 [scipy]\n",
      "   ------------------------- -------------- 14/22 [scipy]\n",
      "   ------------------------- -------------- 14/22 [scipy]\n",
      "   ------------------------- -------------- 14/22 [scipy]\n",
      "   ------------------------- -------------- 14/22 [scipy]\n",
      "   ------------------------- -------------- 14/22 [scipy]\n",
      "   ------------------------- -------------- 14/22 [scipy]\n",
      "   ------------------------- -------------- 14/22 [scipy]\n",
      "   ------------------------- -------------- 14/22 [scipy]\n",
      "   ------------------------- -------------- 14/22 [scipy]\n",
      "   ------------------------- -------------- 14/22 [scipy]\n",
      "   ------------------------- -------------- 14/22 [scipy]\n",
      "   ------------------------- -------------- 14/22 [scipy]\n",
      "   ------------------------- -------------- 14/22 [scipy]\n",
      "   ------------------------- -------------- 14/22 [scipy]\n",
      "   ------------------------- -------------- 14/22 [scipy]\n",
      "   ------------------------- -------------- 14/22 [scipy]\n",
      "   ------------------------- -------------- 14/22 [scipy]\n",
      "   ------------------------- -------------- 14/22 [scipy]\n",
      "   ------------------------- -------------- 14/22 [scipy]\n",
      "   ------------------------- -------------- 14/22 [scipy]\n",
      "   ------------------------- -------------- 14/22 [scipy]\n",
      "   ------------------------- -------------- 14/22 [scipy]\n",
      "   ------------------------- -------------- 14/22 [scipy]\n",
      "   ------------------------- -------------- 14/22 [scipy]\n",
      "   ------------------------- -------------- 14/22 [scipy]\n",
      "   --------------------------- ------------ 15/22 [pandas]\n",
      "   --------------------------- ------------ 15/22 [pandas]\n",
      "   --------------------------- ------------ 15/22 [pandas]\n",
      "   --------------------------- ------------ 15/22 [pandas]\n",
      "   --------------------------- ------------ 15/22 [pandas]\n",
      "   --------------------------- ------------ 15/22 [pandas]\n",
      "   --------------------------- ------------ 15/22 [pandas]\n",
      "   --------------------------- ------------ 15/22 [pandas]\n",
      "   --------------------------- ------------ 15/22 [pandas]\n",
      "   --------------------------- ------------ 15/22 [pandas]\n",
      "   --------------------------- ------------ 15/22 [pandas]\n",
      "   --------------------------- ------------ 15/22 [pandas]\n",
      "   --------------------------- ------------ 15/22 [pandas]\n",
      "   --------------------------- ------------ 15/22 [pandas]\n",
      "   --------------------------- ------------ 15/22 [pandas]\n",
      "   --------------------------- ------------ 15/22 [pandas]\n",
      "   --------------------------- ------------ 15/22 [pandas]\n",
      "   --------------------------- ------------ 15/22 [pandas]\n",
      "   --------------------------- ------------ 15/22 [pandas]\n",
      "   --------------------------- ------------ 15/22 [pandas]\n",
      "   --------------------------- ------------ 15/22 [pandas]\n",
      "   --------------------------- ------------ 15/22 [pandas]\n",
      "   --------------------------- ------------ 15/22 [pandas]\n",
      "   --------------------------- ------------ 15/22 [pandas]\n",
      "   --------------------------- ------------ 15/22 [pandas]\n",
      "   --------------------------- ------------ 15/22 [pandas]\n",
      "   --------------------------- ------------ 15/22 [pandas]\n",
      "   --------------------------- ------------ 15/22 [pandas]\n",
      "   --------------------------- ------------ 15/22 [pandas]\n",
      "   --------------------------- ------------ 15/22 [pandas]\n",
      "   --------------------------- ------------ 15/22 [pandas]\n",
      "   --------------------------- ------------ 15/22 [pandas]\n",
      "   --------------------------- ------------ 15/22 [pandas]\n",
      "   --------------------------- ------------ 15/22 [pandas]\n",
      "   --------------------------- ------------ 15/22 [pandas]\n",
      "   --------------------------- ------------ 15/22 [pandas]\n",
      "   --------------------------- ------------ 15/22 [pandas]\n",
      "   --------------------------- ------------ 15/22 [pandas]\n",
      "   --------------------------- ------------ 15/22 [pandas]\n",
      "   --------------------------- ------------ 15/22 [pandas]\n",
      "   --------------------------- ------------ 15/22 [pandas]\n",
      "   --------------------------- ------------ 15/22 [pandas]\n",
      "   --------------------------- ------------ 15/22 [pandas]\n",
      "   --------------------------- ------------ 15/22 [pandas]\n",
      "   --------------------------- ------------ 15/22 [pandas]\n",
      "   ----------------------------- ---------- 16/22 [numba]\n",
      "   ----------------------------- ---------- 16/22 [numba]\n",
      "   ----------------------------- ---------- 16/22 [numba]\n",
      "   ----------------------------- ---------- 16/22 [numba]\n",
      "   ----------------------------- ---------- 16/22 [numba]\n",
      "   ----------------------------- ---------- 16/22 [numba]\n",
      "   ----------------------------- ---------- 16/22 [numba]\n",
      "   ----------------------------- ---------- 16/22 [numba]\n",
      "   ----------------------------- ---------- 16/22 [numba]\n",
      "   ----------------------------- ---------- 16/22 [numba]\n",
      "   ----------------------------- ---------- 16/22 [numba]\n",
      "   ----------------------------- ---------- 16/22 [numba]\n",
      "   ----------------------------- ---------- 16/22 [numba]\n",
      "   ----------------------------- ---------- 16/22 [numba]\n",
      "   ----------------------------- ---------- 16/22 [numba]\n",
      "   ----------------------------- ---------- 16/22 [numba]\n",
      "   ----------------------------- ---------- 16/22 [numba]\n",
      "   ----------------------------- ---------- 16/22 [numba]\n",
      "   ----------------------------- ---------- 16/22 [numba]\n",
      "   ----------------------------- ---------- 16/22 [numba]\n",
      "   ----------------------------- ---------- 16/22 [numba]\n",
      "   ----------------------------- ---------- 16/22 [numba]\n",
      "   ----------------------------- ---------- 16/22 [numba]\n",
      "   ----------------------------- ---------- 16/22 [numba]\n",
      "   ----------------------------- ---------- 16/22 [numba]\n",
      "   ----------------------------- ---------- 16/22 [numba]\n",
      "   -------------------------------- ------- 18/22 [scikit-learn]\n",
      "   -------------------------------- ------- 18/22 [scikit-learn]\n",
      "   -------------------------------- ------- 18/22 [scikit-learn]\n",
      "   -------------------------------- ------- 18/22 [scikit-learn]\n",
      "   -------------------------------- ------- 18/22 [scikit-learn]\n",
      "   -------------------------------- ------- 18/22 [scikit-learn]\n",
      "   -------------------------------- ------- 18/22 [scikit-learn]\n",
      "   -------------------------------- ------- 18/22 [scikit-learn]\n",
      "   -------------------------------- ------- 18/22 [scikit-learn]\n",
      "   -------------------------------- ------- 18/22 [scikit-learn]\n",
      "   -------------------------------- ------- 18/22 [scikit-learn]\n",
      "   -------------------------------- ------- 18/22 [scikit-learn]\n",
      "   -------------------------------- ------- 18/22 [scikit-learn]\n",
      "   -------------------------------- ------- 18/22 [scikit-learn]\n",
      "   -------------------------------- ------- 18/22 [scikit-learn]\n",
      "   -------------------------------- ------- 18/22 [scikit-learn]\n",
      "   -------------------------------- ------- 18/22 [scikit-learn]\n",
      "   -------------------------------- ------- 18/22 [scikit-learn]\n",
      "   -------------------------------- ------- 18/22 [scikit-learn]\n",
      "   -------------------------------- ------- 18/22 [scikit-learn]\n",
      "   -------------------------------- ------- 18/22 [scikit-learn]\n",
      "   -------------------------------- ------- 18/22 [scikit-learn]\n",
      "   -------------------------------- ------- 18/22 [scikit-learn]\n",
      "   ---------------------------------- ----- 19/22 [matplotlib]\n",
      "   ---------------------------------- ----- 19/22 [matplotlib]\n",
      "   ---------------------------------- ----- 19/22 [matplotlib]\n",
      "   ---------------------------------- ----- 19/22 [matplotlib]\n",
      "   ---------------------------------- ----- 19/22 [matplotlib]\n",
      "   ---------------------------------- ----- 19/22 [matplotlib]\n",
      "   ---------------------------------- ----- 19/22 [matplotlib]\n",
      "   ---------------------------------- ----- 19/22 [matplotlib]\n",
      "   ---------------------------------- ----- 19/22 [matplotlib]\n",
      "   ---------------------------------- ----- 19/22 [matplotlib]\n",
      "   ---------------------------------- ----- 19/22 [matplotlib]\n",
      "   ---------------------------------- ----- 19/22 [matplotlib]\n",
      "   ---------------------------------- ----- 19/22 [matplotlib]\n",
      "   ---------------------------------- ----- 19/22 [matplotlib]\n",
      "   ---------------------------------- ----- 19/22 [matplotlib]\n",
      "   ------------------------------------ --- 20/22 [lightgbm]\n",
      "   -------------------------------------- - 21/22 [shap]\n",
      "   -------------------------------------- - 21/22 [shap]\n",
      "   -------------------------------------- - 21/22 [shap]\n",
      "   ---------------------------------------- 22/22 [shap]\n",
      "\n",
      "Successfully installed cloudpickle-3.1.1 contourpy-1.3.3 cycler-0.12.1 fonttools-4.59.0 joblib-1.5.1 kiwisolver-1.4.9 lightgbm-4.6.0 llvmlite-0.44.0 matplotlib-3.10.5 numba-0.61.2 numpy-2.2.6 pandas-2.3.1 pillow-11.3.0 pyparsing-3.2.3 pytz-2025.2 scikit-learn-1.7.1 scipy-1.16.1 shap-0.48.0 slicer-0.0.8 threadpoolctl-3.6.0 tqdm-4.67.1 tzdata-2025.2\n",
      "Note: you may need to restart the kernel to use updated packages.\n"
     ]
    }
   ],
   "source": [
    "%pip install -r requirements.txt"
   ]
  },
  {
   "cell_type": "code",
   "execution_count": 2,
   "id": "cac5a418-8314-4db5-8797-7ee0f7ed6a98",
   "metadata": {},
   "outputs": [
    {
     "ename": "ModuleNotFoundError",
     "evalue": "No module named 'numpy'",
     "output_type": "error",
     "traceback": [
      "\u001b[31m---------------------------------------------------------------------------\u001b[39m",
      "\u001b[31mModuleNotFoundError\u001b[39m                       Traceback (most recent call last)",
      "\u001b[36mCell\u001b[39m\u001b[36m \u001b[39m\u001b[32mIn[2]\u001b[39m\u001b[32m, line 2\u001b[39m\n\u001b[32m      1\u001b[39m \u001b[38;5;66;03m# Imports.\u001b[39;00m\n\u001b[32m----> \u001b[39m\u001b[32m2\u001b[39m \u001b[38;5;28;01mimport\u001b[39;00m\u001b[38;5;250m \u001b[39m\u001b[34;01mnumpy\u001b[39;00m\u001b[38;5;250m \u001b[39m\u001b[38;5;28;01mas\u001b[39;00m\u001b[38;5;250m \u001b[39m\u001b[34;01mnp\u001b[39;00m\n\u001b[32m      3\u001b[39m \u001b[38;5;28;01mimport\u001b[39;00m\u001b[38;5;250m \u001b[39m\u001b[34;01mpandas\u001b[39;00m\u001b[38;5;250m \u001b[39m\u001b[38;5;28;01mas\u001b[39;00m\u001b[38;5;250m \u001b[39m\u001b[34;01mpd\u001b[39;00m\n\u001b[32m      4\u001b[39m \u001b[38;5;28;01mimport\u001b[39;00m\u001b[38;5;250m \u001b[39m\u001b[34;01mmatplotlib\u001b[39;00m\u001b[34;01m.\u001b[39;00m\u001b[34;01mpyplot\u001b[39;00m\u001b[38;5;250m \u001b[39m\u001b[38;5;28;01mas\u001b[39;00m\u001b[38;5;250m \u001b[39m\u001b[34;01mplt\u001b[39;00m\n",
      "\u001b[31mModuleNotFoundError\u001b[39m: No module named 'numpy'"
     ]
    }
   ],
   "source": [
    "# Imports.\n",
    "import numpy as np\n",
    "import pandas as pd\n",
    "import matplotlib.pyplot as plt\n",
    "\n",
    "# Verbose.\n",
    "verbose = True\n",
    "vprint  = print if verbose else lambda *a, **k: None\n",
    "\n",
    "# Seed.\n",
    "SEED    = 42"
   ]
  },
  {
   "cell_type": "markdown",
   "id": "b8e29dab",
   "metadata": {},
   "source": [
    "> Note) Unfortunately, `sklearn` does not support **global seed** yet (8/10, 2025)."
   ]
  },
  {
   "cell_type": "code",
   "execution_count": null,
   "id": "5ec2cf6f-842f-4951-83e2-51b228c20e74",
   "metadata": {},
   "outputs": [
    {
     "data": {
      "text/plain": [
       "<matplotlib.collections.PathCollection at 0x1211503b4f0>"
      ]
     },
     "execution_count": 2,
     "metadata": {},
     "output_type": "execute_result"
    },
    {
     "data": {
      "image/png": "[encoded data removed]",
      "text/plain": [
       "<Figure size 640x480 with 1 Axes>"
      ]
     },
     "metadata": {},
     "output_type": "display_data"
    }
   ],
   "source": [
    "# Sample data.\n",
    "X = np.random.rand(100, 1)\n",
    "y = 3*X + 4 + np.random.randn(100, 1) / 2\n",
    "\n",
    "plt.scatter(X, y)"
   ]
  },
  {
   "cell_type": "markdown",
   "id": "9f19b8c4-eedd-468e-9e93-1e90d719fb1f",
   "metadata": {},
   "source": [
    "# 1. Linear Models."
   ]
  },
  {
   "cell_type": "markdown",
   "id": "4f932141-7d36-49e3-bae2-69b82ad1f232",
   "metadata": {},
   "source": [
    "- $\\hat{y} = w_0 + w_1x_1 + ... + w_kx_k$\n",
    "- $w^T = <w_1, w_2, ..., w_k> = $ `'coef_'`\n",
    "- $w_0 = $ `'intercept_'`"
   ]
  },
  {
   "cell_type": "markdown",
   "id": "0eb95e84-0197-4364-a183-d7ce61fe6d54",
   "metadata": {},
   "source": [
    "## 1.1. `LinearRegression`: Ordinary Least Square."
   ]
  },
  {
   "cell_type": "markdown",
   "id": "363c68eb-cdee-4ba4-8e87-286e8204cdb9",
   "metadata": {},
   "source": [
    "- Objective: $\\min\\limits_{w} ||Xw - \\bar{y}||^2_2$\n",
    "- Time Complexity (SVD): $O(m \\cdot n^2)$, where $m \\geq n$."
   ]
  },
  {
   "cell_type": "markdown",
   "id": "d43f43f5-4ea0-4aaa-b1a5-b0abb26155ec",
   "metadata": {},
   "source": [
    "#### Signature."
   ]
  },
  {
   "cell_type": "markdown",
   "id": "2a18d2d5-99f3-4d09-ad27-6ca51f089221",
   "metadata": {},
   "source": [
    "```python\n",
    "from sklearn.linear_model import LinearRegression\n",
    "\n",
    "LinearRegression(\n",
    "    *,\n",
    "    fit_intercept=True,\n",
    "    copy_X=True,\n",
    "    n_jobs=None,\n",
    "    positive=False,\n",
    ")\n",
    "\n",
    "Ordinary least squares Linear Regression.\n",
    "```"
   ]
  },
  {
   "cell_type": "markdown",
   "id": "bc77348a-69dc-4ef9-8fe3-94a40ddf59e4",
   "metadata": {},
   "source": [
    "#### Example."
   ]
  },
  {
   "cell_type": "code",
   "execution_count": null,
   "id": "34fffe10-26ce-4927-b0af-f3057c52a79a",
   "metadata": {},
   "outputs": [
    {
     "name": "stdout",
     "output_type": "stream",
     "text": [
      "[[3.19031515]]\n",
      "[3.92588268]\n"
     ]
    }
   ],
   "source": [
    "from sklearn.linear_model import LinearRegression\n",
    "\n",
    "# Model.\n",
    "model_lin = LinearRegression(fit_intercept  = True,   # if False, the data is expected to be centered.\n",
    "                             positive       = True)   # force all coef_ to be positive.\n",
    "\n",
    "# Fit.\n",
    "model_lin.fit(X, y)\n",
    "\n",
    "vprint(model_lin.coef_)\n",
    "vprint(model_lin.intercept_)"
   ]
  },
  {
   "cell_type": "markdown",
   "id": "8e634625-3705-4719-bc92-ce20e4ca951a",
   "metadata": {},
   "source": [
    "## 1.2. `Ridge`: L2 Regularization."
   ]
  },
  {
   "cell_type": "markdown",
   "id": "11eb5800-321a-444f-95e7-4426700697c7",
   "metadata": {},
   "source": [
    "- Objective: $\\min\\limits_{w} ||Xw - \\bar{y}||^2_2 + \\alpha||w||^2_2$\n",
    "- Time Complexity: $O(m \\cdot n^2)$, where $m \\geq n$.\n",
    "- If $\\alpha$ becomes large, $w$s become even, i.e. more robust to collinearlity.\n",
    "- If you are unsure about $\\alpha$, use `RidgeCV` so that the model can choose the $\\alpha$."
   ]
  },
  {
   "cell_type": "markdown",
   "id": "dfd48ab1-373c-405a-acd1-e5f2fdfd106e",
   "metadata": {},
   "source": [
    "> Note) The `RidgeClassifier` can be significantly faster than e.g. `LogisticRegression` with a high number of classes because it can compute the projection matrix only once."
   ]
  },
  {
   "cell_type": "markdown",
   "id": "d2e02951-e86f-4cf9-810e-d4a2c57e312e",
   "metadata": {},
   "source": [
    "#### Signature."
   ]
  },
  {
   "cell_type": "markdown",
   "id": "858c2759-1ece-46b8-bbe2-a87476259c1b",
   "metadata": {},
   "source": [
    "```python\n",
    "from sklearn.linear_model import Ridge, RidgeCV\n",
    "\n",
    "Ridge(\n",
    "    alpha=1.0,\n",
    "    *,\n",
    "    fit_intercept=True,\n",
    "    copy_X=True,\n",
    "    max_iter=None,\n",
    "    tol=0.0001,\n",
    "    solver='auto',\n",
    "    positive=False,\n",
    "    random_state=None,\n",
    ")\n",
    "\n",
    "Linear least squares with l2 regularization.\n",
    "```"
   ]
  },
  {
   "cell_type": "markdown",
   "id": "5375da9c-bcd9-42cd-b913-cadb99cfa72e",
   "metadata": {},
   "source": [
    "#### Example."
   ]
  },
  {
   "cell_type": "code",
   "execution_count": null,
   "id": "278433cf-4f15-4bd1-b15b-cc212b89719f",
   "metadata": {},
   "outputs": [
    {
     "name": "stdout",
     "output_type": "stream",
     "text": [
      "[2.8448492]\n",
      "[4.1076643]\n",
      "Best alpha: 0.2\n"
     ]
    }
   ],
   "source": [
    "# Ridge.\n",
    "from sklearn.linear_model import Ridge\n",
    "model_ridge = Ridge(alpha = 1.0, random_state=SEED)\n",
    "\n",
    "model_ridge.fit(X, y)\n",
    "\n",
    "vprint(model_ridge.coef_)\n",
    "vprint(model_ridge.intercept_)\n",
    "\n",
    "# RidgeCV.\n",
    "from sklearn.linear_model import RidgeCV\n",
    "\n",
    "alphas = np.arange(0.1, 1.0, 0.1)\n",
    "model_ridgeCV = RidgeCV(alphas=alphas, cv=10)\n",
    "\n",
    "model_ridgeCV.fit(X, y)\n",
    "\n",
    "vprint(f\"Best alpha: {model_ridgeCV.alpha_}\")\n",
    "\n",
    "# RidgeClassifier and RidgeClassifierCV.\n",
    "from sklearn.linear_model import RidgeClassifier, RidgeClassifierCV"
   ]
  },
  {
   "cell_type": "markdown",
   "id": "979acf43-f5b4-4011-8da2-6545cbac2831",
   "metadata": {},
   "source": [
    "## 1.3. `Lasso`: L1 Regularization."
   ]
  },
  {
   "cell_type": "markdown",
   "id": "1fa4bff9-6d48-4669-98e5-8ae8713ca487",
   "metadata": {},
   "source": [
    "- Objective: $\\min\\limits_{w} \\frac{1}{2m} ||Xw - \\bar{y}||^2_2 + \\alpha||w||_1$\n",
    "- Time Complexity: $O(m \\cdot n^2)$, where $m \\geq n$."
   ]
  },
  {
   "cell_type": "markdown",
   "id": "9904a571-ca49-4f3c-96ec-010ba266d3ac",
   "metadata": {},
   "source": [
    "#### Signature."
   ]
  },
  {
   "cell_type": "markdown",
   "id": "a538f4ea-d74e-429a-981a-e5d241de39c6",
   "metadata": {},
   "source": [
    "```python\n",
    "from sklearn.linear_model import Lasso, LassoCV\n",
    "\n",
    "Lasso(\n",
    "    alpha=1.0,\n",
    "    *,\n",
    "    fit_intercept=True,\n",
    "    copy_X=True,\n",
    "    max_iter=None,\n",
    "    tol=0.0001,\n",
    "    solver='auto',\n",
    "    positive=False,\n",
    "    random_state=None,\n",
    ")\n",
    "\n",
    "Linear least squares with l1 regularization.\n",
    "```"
   ]
  },
  {
   "cell_type": "markdown",
   "id": "64db34a6-7ca5-4594-8ace-27b07a9dd0d2",
   "metadata": {},
   "source": [
    "> Note) Lasso tends to choose fewer non-zero coefficients, which could effectively reduce the number of features upon which the given solution is dependent.  \n",
    "> It is also useful for `L1-based feature selection`."
   ]
  },
  {
   "cell_type": "markdown",
   "id": "f35d252a-8451-4d7e-bb80-63b6156099d3",
   "metadata": {},
   "source": [
    "#### Example - L1-based Feature Seleciton."
   ]
  },
  {
   "cell_type": "code",
   "execution_count": null,
   "id": "9a91c8aa-3d8b-4180-a356-2d91e73b3e87",
   "metadata": {},
   "outputs": [
    {
     "name": "stdout",
     "output_type": "stream",
     "text": [
      "Before: Index(['day', 'pressure', 'maxtemp', 'temparature', 'mintemp', 'dewpoint',\n",
      "       'humidity', 'cloud', 'sunshine', 'winddirection', 'windspeed'],\n",
      "      dtype='object')\n",
      "After: Index(['mintemp', 'dewpoint', 'cloud', 'sunshine'], dtype='object')\n"
     ]
    }
   ],
   "source": [
    "from sklearn.feature_selection import SelectFromModel\n",
    "from sklearn.linear_model import Lasso\n",
    "\n",
    "df = pd.read_csv('data/rainfall/train.csv.zip')\n",
    "x  = df.drop(columns=['id', 'rainfall'])\n",
    "y  = df['rainfall']\n",
    "\n",
    "from sklearn.linear_model import LogisticRegression\n",
    "model_logit = LogisticRegression(max_iter=1000, random_state=SEED)\n",
    "model_logit.fit(x, y)\n",
    "\n",
    "feature_selector  = SelectFromModel(model_logit, prefit=True)   # prefit=True => model is already fitted.\n",
    "selected_features = feature_selector.get_support()\n",
    "\n",
    "vprint(f\"Before: {x.columns}\")\n",
    "vprint(f\"After: {x.columns[selected_features]}\")"
   ]
  },
  {
   "cell_type": "markdown",
   "id": "8b52027a-a0f6-47b9-9f7c-35cdd0f4bf0b",
   "metadata": {},
   "source": [
    "## 1.4. `ElasticNet`: L1 + L2 Regularization."
   ]
  },
  {
   "cell_type": "markdown",
   "id": "529c99a1-e73f-474b-ada5-c3bc6a6f5d54",
   "metadata": {},
   "source": [
    "- Objective: $\\min\\limits_{w} \\frac{1}{2m} ||Xw - \\bar{y}||^2_2 + \\alpha\\rho||w||_1 + \\frac{\\alpha(1-\\rho)}{2}||w||^2_2$\n",
    "- Time Complexity: $O(m \\cdot n^2)$, where $m \\geq n$."
   ]
  },
  {
   "cell_type": "markdown",
   "id": "449199b5-52ea-4da6-ad1a-5fe86bde14f6",
   "metadata": {},
   "source": [
    "#### Signature."
   ]
  },
  {
   "cell_type": "markdown",
   "id": "dbd00099-da3f-4db1-ae46-edd3fd780079",
   "metadata": {},
   "source": [
    "```python\n",
    "from sklearn.linear_model import ElasticNet, ElasticNetCV\n",
    "\n",
    "ElasticNet(\n",
    "    alpha=1.0,               # alpha.\n",
    "    *,    \n",
    "    l1_ratio=0.5,            # rho.\n",
    "    fit_intercept=True,\n",
    "    precompute=False,\n",
    "    max_iter=1000,\n",
    "    copy_X=True,\n",
    "    tol=0.0001,\n",
    "    warm_start=False,\n",
    "    positive=False,\n",
    "    random_state=None,\n",
    "    selection='cyclic',\n",
    ")\n",
    "\n",
    "Linear regression with combined L1 and L2 priors as regularizer.\n",
    "```"
   ]
  },
  {
   "cell_type": "markdown",
   "id": "aca83003-924a-425a-8825-991964f36dac",
   "metadata": {},
   "source": [
    "## 1.5. `LogisticRegression`: `LinearRegression` + `sigmoid`/`softmax`."
   ]
  },
  {
   "cell_type": "markdown",
   "id": "c0034d36-047f-4a20-9c10-e001d7dfc238",
   "metadata": {},
   "source": [
    "- Binary classification: $\\hat{y} = \\sigma(w^T x) = \\frac{1}{1 + e^{-w^T x}}$\n",
    "- Multiclass classification: $\\hat{y}_i = \\frac{e^{w_i^T x}}{\\sum_j e^{w_j^T x}}$"
   ]
  },
  {
   "cell_type": "markdown",
   "id": "f3a2add7-c081-4e04-8345-b4d858faf779",
   "metadata": {},
   "source": [
    "#### Signature."
   ]
  },
  {
   "cell_type": "markdown",
   "id": "f4f55800-6ccc-4345-835b-28ef414f05c8",
   "metadata": {},
   "source": [
    "```python\n",
    "from sklearn.linear_model import LogisticRegression, LogisticRegressionCV\n",
    "\n",
    "LogisticRegression(\n",
    "    penalty='l2',                   # penalty=  None | 'l1' | 'l2' | 'ElasticNet'\n",
    "    C=1.0,                          # C = 1/alpha.\n",
    "    l1_ratio=None,                  # l1_ratio = rho.\n",
    "    *,\n",
    "    dual=False,\n",
    "    tol=0.0001,\n",
    "    fit_intercept=True,\n",
    "    intercept_scaling=1,\n",
    "    class_weight=None,\n",
    "    random_state=None,\n",
    "    solver='lbfgs',\n",
    "    max_iter=100,\n",
    "    multi_class='deprecated',\n",
    "    verbose=0,\n",
    "    warm_start=False,\n",
    "    n_jobs=None,\n",
    ")\n",
    "\n",
    "Logistic Regression (aka logit, MaxEnt) classifier.\n",
    "```"
   ]
  },
  {
   "cell_type": "markdown",
   "id": "900343a0-e0fa-403e-91b0-93675fb7faa9",
   "metadata": {},
   "source": [
    "## 1.6. `SGDRegressor`: SGD."
   ]
  },
  {
   "cell_type": "markdown",
   "id": "6e97aede-907a-47ed-97e4-8da1e4b74ac2",
   "metadata": {},
   "source": [
    "#### Signature."
   ]
  },
  {
   "cell_type": "markdown",
   "id": "a44e4abf-5569-4f43-85e7-fe56b8cf9b9d",
   "metadata": {},
   "source": [
    "```python\n",
    "from sklearn.linear_model import SGDRegressor, SGDClassifier\n",
    "\n",
    "SGDRegressor(\n",
    "    loss='squared_error',\n",
    "    *,\n",
    "    penalty='l2',\n",
    "    alpha=0.0001,\n",
    "    l1_ratio=0.15,\n",
    "    fit_intercept=True,\n",
    "    max_iter=1000,\n",
    "    tol=0.001,\n",
    "    shuffle=True,\n",
    "    verbose=0,\n",
    "    epsilon=0.1,\n",
    "    random_state=None,\n",
    "    learning_rate='invscaling',\n",
    "    eta0=0.01,\n",
    "    power_t=0.25,\n",
    "    early_stopping=False,\n",
    "    validation_fraction=0.1,\n",
    "    n_iter_no_change=5,\n",
    "    warm_start=False,\n",
    "    average=False,\n",
    ")\n",
    "\n",
    "Linear model fitted by minimizing a regularized empirical loss with SGD.\n",
    "```"
   ]
  },
  {
   "cell_type": "markdown",
   "id": "ea0e327f-f0d1-46b3-a88e-8fc4dfcbf8a9",
   "metadata": {},
   "source": [
    "## 1.7. Practice - Rainfall Prediction."
   ]
  },
  {
   "cell_type": "markdown",
   "id": "5bc63ca1-dc7c-47e4-b229-9d9635d0e273",
   "metadata": {},
   "source": [
    "- https://www.kaggle.com/competitions/playground-series-s5e3/overview"
   ]
  },
  {
   "cell_type": "markdown",
   "id": "687181a8-459f-45d8-98df-8452deb743b3",
   "metadata": {},
   "source": [
    "### 1.7.1. `LogisticRegression` with defaults."
   ]
  },
  {
   "cell_type": "code",
   "execution_count": null,
   "id": "69730b3b-d78d-4fd3-a0de-d8a8968b1e42",
   "metadata": {},
   "outputs": [],
   "source": [
    "from sklearn.model_selection import train_test_split\n",
    "from sklearn.preprocessing import MinMaxScaler\n",
    "from sklearn.metrics import accuracy_score, roc_auc_score\n",
    "\n",
    "def fit_and_predict(df, model, verbose=False):\n",
    "    vprint = print if verbose else lambda *a, **k: None\n",
    "\n",
    "    x = df.drop(columns=['id', 'rainfall'])\n",
    "    y = df['rainfall']\n",
    "    \n",
    "    # Train-Test Split.\n",
    "    x_train, x_test, y_train, y_test = train_test_split(x, y, test_size=0.2, random_state=SEED)\n",
    "    \n",
    "    # Feature Scaling.\n",
    "    scaler = MinMaxScaler()\n",
    "    x_train_prep = scaler.fit_transform(x_train)\n",
    "    x_test_prep = scaler.transform(x_test)\n",
    "    \n",
    "    # Fit.\n",
    "    model.fit(x_train_prep, y_train)\n",
    "    \n",
    "    # Predict.\n",
    "    y_pred = model.predict(x_test_prep)\n",
    "    \n",
    "    # Calculate accuracy.\n",
    "    acc = accuracy_score(y_test, y_pred)\n",
    "    \n",
    "    # For AUC, if model supports predict_proba, use probabilities; otherwise use predicted labels.\n",
    "    if hasattr(model, \"predict_proba\"):\n",
    "        y_prob = model.predict_proba(x_test_prep)[:, 1]\n",
    "        auc = roc_auc_score(y_test, y_prob)\n",
    "    else:\n",
    "        auc = roc_auc_score(y_test, y_pred)\n",
    "    \n",
    "    vprint(f\"{'Accuracy':<10}: {acc:.4f}\")\n",
    "    vprint(f\"{'AUC':<10}: {auc:.4f}\")\n",
    "    \n",
    "    return\n"
   ]
  },
  {
   "cell_type": "code",
   "execution_count": null,
   "id": "dd790d67-58b6-42e8-ad30-db788bbdab81",
   "metadata": {},
   "outputs": [
    {
     "data": {
      "text/html": [
       "<div>\n",
       "<style scoped>\n",
       "    .dataframe tbody tr th:only-of-type {\n",
       "        vertical-align: middle;\n",
       "    }\n",
       "\n",
       "    .dataframe tbody tr th {\n",
       "        vertical-align: top;\n",
       "    }\n",
       "\n",
       "    .dataframe thead th {\n",
       "        text-align: right;\n",
       "    }\n",
       "</style>\n",
       "<table border=\"1\" class=\"dataframe\">\n",
       "  <thead>\n",
       "    <tr style=\"text-align: right;\">\n",
       "      <th></th>\n",
       "      <th>id</th>\n",
       "      <th>day</th>\n",
       "      <th>pressure</th>\n",
       "      <th>maxtemp</th>\n",
       "      <th>temparature</th>\n",
       "      <th>mintemp</th>\n",
       "      <th>dewpoint</th>\n",
       "      <th>humidity</th>\n",
       "      <th>cloud</th>\n",
       "      <th>sunshine</th>\n",
       "      <th>winddirection</th>\n",
       "      <th>windspeed</th>\n",
       "      <th>rainfall</th>\n",
       "    </tr>\n",
       "  </thead>\n",
       "  <tbody>\n",
       "    <tr>\n",
       "      <th>0</th>\n",
       "      <td>0</td>\n",
       "      <td>1</td>\n",
       "      <td>1017.4</td>\n",
       "      <td>21.2</td>\n",
       "      <td>20.6</td>\n",
       "      <td>19.9</td>\n",
       "      <td>19.4</td>\n",
       "      <td>87.0</td>\n",
       "      <td>88.0</td>\n",
       "      <td>1.1</td>\n",
       "      <td>60.0</td>\n",
       "      <td>17.2</td>\n",
       "      <td>1</td>\n",
       "    </tr>\n",
       "    <tr>\n",
       "      <th>1</th>\n",
       "      <td>1</td>\n",
       "      <td>2</td>\n",
       "      <td>1019.5</td>\n",
       "      <td>16.2</td>\n",
       "      <td>16.9</td>\n",
       "      <td>15.8</td>\n",
       "      <td>15.4</td>\n",
       "      <td>95.0</td>\n",
       "      <td>91.0</td>\n",
       "      <td>0.0</td>\n",
       "      <td>50.0</td>\n",
       "      <td>21.9</td>\n",
       "      <td>1</td>\n",
       "    </tr>\n",
       "  </tbody>\n",
       "</table>\n",
       "</div>"
      ],
      "text/plain": [
       "   id  day  pressure  maxtemp  temparature  mintemp  dewpoint  humidity  \\\n",
       "0   0    1    1017.4     21.2         20.6     19.9      19.4      87.0   \n",
       "1   1    2    1019.5     16.2         16.9     15.8      15.4      95.0   \n",
       "\n",
       "   cloud  sunshine  winddirection  windspeed  rainfall  \n",
       "0   88.0       1.1           60.0       17.2         1  \n",
       "1   91.0       0.0           50.0       21.9         1  "
      ]
     },
     "metadata": {},
     "output_type": "display_data"
    },
    {
     "name": "stdout",
     "output_type": "stream",
     "text": [
      "Model `LogisticRegression` with defaults:\n",
      "Accuracy  : 0.8562\n",
      "AUC       : 0.8685\n"
     ]
    }
   ],
   "source": [
    "# Data.\n",
    "df = pd.read_csv('data/rainfall/train.csv.zip')\n",
    "display(df.head(2))\n",
    "\n",
    "# Model.\n",
    "from sklearn.linear_model import LogisticRegression\n",
    "model_logit = LogisticRegression(max_iter=1000, random_state=SEED)\n",
    "\n",
    "vprint('Model `LogisticRegression` with defaults:')\n",
    "fit_and_predict(df, model_logit, verbose=verbose)"
   ]
  },
  {
   "cell_type": "markdown",
   "id": "6f358599-837d-49d7-8df2-53e71ff146d9",
   "metadata": {},
   "source": [
    "### 1.7.2. Regularization."
   ]
  },
  {
   "cell_type": "code",
   "execution_count": null,
   "id": "391ca54e-8c58-409d-9518-75ce326a4f57",
   "metadata": {},
   "outputs": [
    {
     "name": "stdout",
     "output_type": "stream",
     "text": [
      "Model `LogisticRegression` with L2 Regularization:\n",
      "Accuracy  : 0.8562\n",
      "AUC       : 0.8671\n"
     ]
    }
   ],
   "source": [
    "from sklearn.linear_model import LogisticRegressionCV\n",
    "model_logit_reg = LogisticRegressionCV(cv=10,\n",
    "                                       Cs=np.arange(0.1, 0.9, 0.1),\n",
    "                                       penalty='l2',                  # Since all features seem important.\n",
    "                                       random_state=SEED)\n",
    "\n",
    "vprint('Model `LogisticRegression` with L2 Regularization:')\n",
    "fit_and_predict(df, model_logit_reg, verbose=verbose)"
   ]
  },
  {
   "cell_type": "markdown",
   "id": "f76e90cc-9709-4313-b1e0-b751cf4cf5fc",
   "metadata": {},
   "source": [
    "### 1.7.3. Feature Selection using L1 Regularization."
   ]
  },
  {
   "cell_type": "code",
   "execution_count": null,
   "id": "4323c28e-411c-4863-beb6-c5ebf7d0a36b",
   "metadata": {},
   "outputs": [
    {
     "name": "stdout",
     "output_type": "stream",
     "text": [
      "Before: Index(['day', 'pressure', 'maxtemp', 'temparature', 'mintemp', 'dewpoint',\n",
      "       'humidity', 'cloud', 'sunshine', 'winddirection', 'windspeed'],\n",
      "      dtype='object')\n",
      "After: Index(['dewpoint', 'humidity', 'cloud', 'sunshine'], dtype='object')\n"
     ]
    }
   ],
   "source": [
    "from sklearn.feature_selection import SelectFromModel\n",
    "\n",
    "feature_selector  = SelectFromModel(model_logit_reg, prefit=True)\n",
    "selected_features = feature_selector.get_support()\n",
    "\n",
    "x_selected = x.loc[:, selected_features]\n",
    "\n",
    "vprint(f\"Before: {x.columns}\")\n",
    "vprint(f\"After: {x.columns[selected_features]}\")"
   ]
  },
  {
   "cell_type": "code",
   "execution_count": null,
   "id": "2e640abd-eb6b-40e3-93f8-847a2c88d6af",
   "metadata": {},
   "outputs": [
    {
     "name": "stdout",
     "output_type": "stream",
     "text": [
      "Before feature selection:\n",
      "Accuracy  : 0.8562\n",
      "AUC       : 0.8671\n",
      "\n",
      "After feature selection:\n",
      "Accuracy  : 0.8425\n",
      "AUC       : 0.8644\n"
     ]
    }
   ],
   "source": [
    "vprint('Before feature selection:')\n",
    "fit_and_predict(df, model_logit_reg, verbose=verbose)\n",
    "\n",
    "selected_feature_names = list(x.columns[selected_features])\n",
    "df_selected = df[selected_feature_names + ['id', 'rainfall']]\n",
    "\n",
    "vprint('\\nAfter feature selection:')\n",
    "fit_and_predict(df_selected, model_logit_reg, verbose=verbose)"
   ]
  },
  {
   "cell_type": "markdown",
   "id": "ce2fdec9-f3f8-4a1d-863d-adfdc7563a7e",
   "metadata": {},
   "source": [
    "### 1.7.5. `SGDClassifier`."
   ]
  },
  {
   "cell_type": "code",
   "execution_count": null,
   "id": "f0e84ec3-05d1-4dfa-96f2-12269f292b50",
   "metadata": {
    "scrolled": true
   },
   "outputs": [
    {
     "name": "stdout",
     "output_type": "stream",
     "text": [
      "Before feature selection:\n",
      "Accuracy  : 0.8539\n",
      "AUC       : 0.7864\n",
      "\n",
      "After feature selection:\n",
      "Accuracy  : 0.8493\n",
      "AUC       : 0.7780\n"
     ]
    }
   ],
   "source": [
    "from sklearn.linear_model import SGDClassifier\n",
    "model_sgd = SGDClassifier(random_state=SEED)\n",
    "\n",
    "vprint('Before feature selection:')\n",
    "fit_and_predict(df, model_sgd, verbose=verbose)\n",
    "\n",
    "selected_feature_names = list(x.columns[selected_features])\n",
    "df_selected = df[selected_feature_names + ['id', 'rainfall']]\n",
    "\n",
    "vprint('\\nAfter feature selection:')\n",
    "fit_and_predict(df_selected, model_sgd, verbose=verbose)"
   ]
  },
  {
   "cell_type": "code",
   "execution_count": null,
   "id": "035f75e3-f7f0-497e-9bc6-9ba8d731a448",
   "metadata": {},
   "outputs": [],
   "source": []
  }
 ],
 "metadata": {
  "kernelspec": {
   "display_name": "yana_library",
   "language": "python",
   "name": "python3"
  },
  "language_info": {
   "codemirror_mode": {
    "name": "ipython",
    "version": 3
   },
   "file_extension": ".py",
   "mimetype": "text/x-python",
   "name": "python",
   "nbconvert_exporter": "python",
   "pygments_lexer": "ipython3",
   "version": "3.11.13"
  }
 },
 "nbformat": 4,
 "nbformat_minor": 5
}
