{
 "cells": [
  {
   "cell_type": "markdown",
   "id": "9cc8440b",
   "metadata": {},
   "source": [
    "# Summary.\n",
    "\n",
    "- https://scikit-learn.org/stable/modules/tree.html#tree\n",
    "\n",
    "- **Splitting criterion (impurity functions)**  \n",
    "  - Gini: $Gini = 1 - \\sum p_i^2$  \n",
    "  - Entropy: $Entropy = -\\sum p_i \\log_2 p_i$  \n",
    "  - Split choice: maximize impurity decrease (information gain for entropy).\n",
    "\n",
    "- **Stopping criteria**  \n",
    "  - Node pure ($Gini=0$ or $Entropy=0$).  \n",
    "  - `max_depth`, `min_samples_split`, `min_samples_leaf`, `min_impurity_decrease`, `max_leaf_nodes`.\n",
    "\n",
    "- **Pruning**  \n",
    "  - Pre-pruning: stop early via hyperparams.  \n",
    "  - Post-pruning (CART): cost-complexity pruning $R_\\alpha(T) = R(T) + \\alpha |T|$.\n",
    "\n",
    "- **Bias–variance**  \n",
    "  - Shallow tree → high bias, low variance.  \n",
    "  - Deep tree → low bias, high variance.\n",
    "\n",
    "- **Regression trees**  \n",
    "  - Use variance/MSE: $MSE = \\frac{1}{n}\\sum (y_i - \\bar{y})^2$.  \n",
    "  - Leaf predicts mean (or median).\n"
   ]
  },
  {
   "cell_type": "markdown",
   "id": "b1557c9f",
   "metadata": {},
   "source": [
    "# Signature."
   ]
  },
  {
   "cell_type": "code",
   "execution_count": null,
   "id": "e1fdaa74",
   "metadata": {},
   "outputs": [],
   "source": [
    "DecisionTreeClassifier(criterion                    = 'gini',\n",
    "                       splitter                     = 'best',\n",
    "                       max_depth                    = None, \n",
    "                       min_samples_split            = 2, \n",
    "                       min_samples_leaf             = 1, \n",
    "                       min_weight_fraction_leaf     = 0.0, \n",
    "                       max_features                 = None, \n",
    "                       random_state                 = None, \n",
    "                       max_leaf_nodes               = None, \n",
    "                       min_impurity_decrease        = 0.0, \n",
    "                       class_weight                 = None, \n",
    "                       ccp_alpha                    = 0.0, \n",
    "                       monotonic_cst                = None)\n"
   ]
  },
  {
   "cell_type": "markdown",
   "id": "b928bed5",
   "metadata": {},
   "source": [
    "# Example Usage."
   ]
  },
  {
   "cell_type": "code",
   "execution_count": null,
   "id": "37873662",
   "metadata": {},
   "outputs": [],
   "source": [
    "# Imports.\n",
    "import pandas as pd\n",
    "from sklearn.model_selection import train_test_split\n",
    "from sklearn.metrics import accuracy_score"
   ]
  },
  {
   "cell_type": "markdown",
   "id": "8a15f484",
   "metadata": {},
   "source": [
    "## Basic."
   ]
  },
  {
   "cell_type": "code",
   "execution_count": null,
   "id": "d2ee0d76",
   "metadata": {},
   "outputs": [
    {
     "name": "stdout",
     "output_type": "stream",
     "text": [
      "Validation Accuracy: 0.6703910614525139\n"
     ]
    }
   ],
   "source": [
    "from sklearn.tree import DecisionTreeClassifier\n",
    "\n",
    "# 1. Load data.\n",
    "train = pd.read_csv(\"data/titanic/train.csv\")\n",
    "test  = pd.read_csv(\"data/titanic/test.csv\")\n",
    "\n",
    "# 2. Select features (some numerics).\n",
    "features    = [\"Pclass\", \"Age\", \"SibSp\", \"Parch\", \"Fare\"]\n",
    "X           = train[features]\n",
    "y           = train[\"Survived\"]\n",
    "\n",
    "# Imputation (with 0).\n",
    "X = X.fillna(0)\n",
    "\n",
    "# 3. Train/test split.\n",
    "X_train, X_val, y_train, y_val = train_test_split(X, y, test_size=0.2, random_state=42)\n",
    "\n",
    "# 4. Train.\n",
    "clf = DecisionTreeClassifier(random_state=42)\n",
    "clf.fit(X_train, y_train)\n",
    "\n",
    "# 5. Evaluate.\n",
    "y_pred = clf.predict(X_val)\n",
    "acc = accuracy_score(y_val, y_pred)\n",
    "print(\"Validation Accuracy:\", acc)\n"
   ]
  },
  {
   "cell_type": "code",
   "execution_count": null,
   "id": "3f2900a4",
   "metadata": {},
   "outputs": [],
   "source": []
  }
 ],
 "metadata": {
  "kernelspec": {
   "display_name": "yana_library",
   "language": "python",
   "name": "python3"
  },
  "language_info": {
   "codemirror_mode": {
    "name": "ipython",
    "version": 3
   },
   "file_extension": ".py",
   "mimetype": "text/x-python",
   "name": "python",
   "nbconvert_exporter": "python",
   "pygments_lexer": "ipython3",
   "version": "3.11.13"
  }
 },
 "nbformat": 4,
 "nbformat_minor": 5
}
